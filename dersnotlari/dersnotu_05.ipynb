{
 "cells": [
  {
   "cell_type": "markdown",
   "metadata": {
    "collapsed": false
   },
   "source": [
    "# Python Programlama Dili (Devam)"
   ]
  },
  {
   "cell_type": "markdown",
   "metadata": {
    "collapsed": false
   },
   "source": [
    "## Liste kullanım uygulamarı"
   ]
  },
  {
   "cell_type": "code",
   "execution_count": 1,
   "metadata": {
    "collapsed": false
   },
   "outputs": [
   ],
   "source": [
    "# bir elemanın listedeki sıra numarası\n",
    "# baştan itiraben sayılmaya başlandığında\n",
    "#         0  1  2  3  4  5  6  7  8   9\n",
    "liste1 = [1, 2, 3, 4, 5, 6, 7, 8, 9, 10]\n",
    "\n",
    "# sondan başa doğru sayılırsa\n",
    "#       -10 -9 -8 -7 -6 -5 -4 -3 -2  -1\n",
    "liste1 = [1, 2, 3, 4, 5, 6, 7, 8, 9, 10]"
   ]
  },
  {
   "cell_type": "code",
   "execution_count": 2,
   "metadata": {
    "collapsed": false
   },
   "outputs": [
    {
     "data": {
      "text/plain": [
       "list"
      ]
     },
     "execution_count": 2,
     "metadata": {
     },
     "output_type": "execute_result"
    }
   ],
   "source": [
    "type(liste1)"
   ]
  },
  {
   "cell_type": "code",
   "execution_count": 3,
   "metadata": {
    "collapsed": false
   },
   "outputs": [
    {
     "data": {
      "text/plain": [
       "list"
      ]
     },
     "execution_count": 3,
     "metadata": {
     },
     "output_type": "execute_result"
    }
   ],
   "source": [
    "# boş liste de oluşturulabilir.\n",
    "bos_liste = []\n",
    "type(bos_liste)"
   ]
  },
  {
   "cell_type": "code",
   "execution_count": 4,
   "metadata": {
    "collapsed": false
   },
   "outputs": [
    {
     "data": {
      "text/plain": [
       "9"
      ]
     },
     "execution_count": 4,
     "metadata": {
     },
     "output_type": "execute_result"
    }
   ],
   "source": [
    "# aşağıdaki gibi index metodu kullanılarak bir listeye\n",
    "# ait elamanın listedeki sıra numarası elde edilebilir.\n",
    "liste1.index(10)"
   ]
  },
  {
   "cell_type": "code",
   "execution_count": 5,
   "metadata": {
    "collapsed": false
   },
   "outputs": [
   ],
   "source": [
    "liste2 = [1, 2, 3, 4, 5, 1000, 6, 7, 8, 9, 1000]"
   ]
  },
  {
   "cell_type": "code",
   "execution_count": 6,
   "metadata": {
    "collapsed": false
   },
   "outputs": [
    {
     "data": {
      "text/plain": [
       "5"
      ]
     },
     "execution_count": 6,
     "metadata": {
     },
     "output_type": "execute_result"
    }
   ],
   "source": [
    "# aynı değere sahip iki eleman varsa ilk karşılaştığı\n",
    "# elamanın sıra numarasını verir.\n",
    "liste2.index(1000)"
   ]
  },
  {
   "cell_type": "code",
   "execution_count": 7,
   "metadata": {
    "collapsed": false
   },
   "outputs": [
    {
     "ename": "ValueError",
     "evalue": "11 is not in list",
     "output_type": "error",
     "traceback": [
      "\u001b[0;31m---------------------------------------------------------------------------\u001b[0m",
      "\u001b[0;31mValueError\u001b[0m                                Traceback (most recent call last)",
      "\u001b[0;32m<ipython-input-7-311d26d08e22>\u001b[0m in \u001b[0;36m<module>\u001b[0;34m\u001b[0m\n\u001b[1;32m      2\u001b[0m \u001b[0;31m# ValueError: (value) is not in list\u001b[0m\u001b[0;34m\u001b[0m\u001b[0;34m\u001b[0m\u001b[0;34m\u001b[0m\u001b[0m\n\u001b[1;32m      3\u001b[0m \u001b[0;31m# hatası verir. Anlamı bu değer listede yok!\u001b[0m\u001b[0;34m\u001b[0m\u001b[0;34m\u001b[0m\u001b[0;34m\u001b[0m\u001b[0m\n\u001b[0;32m----> 4\u001b[0;31m \u001b[0mliste2\u001b[0m\u001b[0;34m.\u001b[0m\u001b[0mindex\u001b[0m\u001b[0;34m(\u001b[0m\u001b[0;36m11\u001b[0m\u001b[0;34m)\u001b[0m\u001b[0;34m\u001b[0m\u001b[0;34m\u001b[0m\u001b[0m\n\u001b[0m",
      "\u001b[0;31mValueError\u001b[0m: 11 is not in list"
     ]
    }
   ],
   "source": [
    "# listeye ait olmayan bir eleman sorgulanırsa\n",
    "# ValueError: (value) is not in list\n",
    "# hatası verir. Anlamı bu değer listede yok!\n",
    "liste2.index(11)"
   ]
  },
  {
   "cell_type": "code",
   "execution_count": 8,
   "metadata": {
    "collapsed": false
   },
   "outputs": [
    {
     "data": {
      "text/plain": [
       "2"
      ]
     },
     "execution_count": 8,
     "metadata": {
     },
     "output_type": "execute_result"
    }
   ],
   "source": [
    "# count metodu ile bir listede ilgilendiğimiz bir elemandan\n",
    "# kaç tane var onu öğrenebiliriz.\n",
    "liste2.count(1000)"
   ]
  },
  {
   "cell_type": "code",
   "execution_count": 9,
   "metadata": {
    "collapsed": false
   },
   "outputs": [
   ],
   "source": [
    "# clear metoduyla bütün liste elemanları silinir ve\n",
    "# liste boş liste halini alır.\n",
    "liste2.clear()"
   ]
  },
  {
   "cell_type": "code",
   "execution_count": 10,
   "metadata": {
    "collapsed": false
   },
   "outputs": [
    {
     "name": "stdout",
     "output_type": "stream",
     "text": [
      "['M', 'e', 's', 'u', 't', ' ', 'K', 'a', 'r', 'a', 'k', 'o', 'ç']\n"
     ]
    }
   ],
   "source": [
    "# list komutunu kullanarak aşağıdaki gibi \n",
    "# bir liste oluşturmak mümkündür.\n",
    "liste2 = list(\"Mesut Karakoç\")\n",
    "print(liste2)"
   ]
  },
  {
   "cell_type": "code",
   "execution_count": 11,
   "metadata": {
    "collapsed": false
   },
   "outputs": [
    {
     "name": "stdout",
     "output_type": "stream",
     "text": [
      "['ç', 'o', 'k', 'a', 'r', 'a', 'K', ' ', 't', 'u', 's', 'e', 'M']\n"
     ]
    }
   ],
   "source": [
    "# listenin sıralamasını reverse metoduyla\n",
    "# ters çevirmek mümkündür.\n",
    "liste2.reverse()\n",
    "print(liste2)"
   ]
  },
  {
   "cell_type": "code",
   "execution_count": 12,
   "metadata": {
    "collapsed": false
   },
   "outputs": [
    {
     "name": "stdout",
     "output_type": "stream",
     "text": [
      "['ç', 'o', 'k', 'a', 'r', 'a', 'K', ' ', 't', 'u', 's', 'e', 'M']\n"
     ]
    }
   ],
   "source": [
    "# copy metoduyla bir listenin aynısından \n",
    "# yeni bir tane oluşturmak mümkündür.\n",
    "liste3 = liste2.copy()\n",
    "print(liste3)"
   ]
  },
  {
   "cell_type": "code",
   "execution_count": 13,
   "metadata": {
    "collapsed": false
   },
   "outputs": [
   ],
   "source": [
    "# aşağıdaki uygulamayla listenin yeni bir kopyası OLUŞMAZ!!!\n",
    "# liste2 ve yeni değişken liste4 aynı LİSTE nesnesine bakmaktadır.\n",
    "liste4 = liste2"
   ]
  },
  {
   "cell_type": "code",
   "execution_count": 14,
   "metadata": {
    "collapsed": false
   },
   "outputs": [
    {
     "name": "stdout",
     "output_type": "stream",
     "text": [
      "ç\n",
      "ç\n"
     ]
    }
   ],
   "source": [
    "# liste2'nin 0. elamanını değiştirmeden önce\n",
    "print(liste2[0])\n",
    "print(liste4[0])"
   ]
  },
  {
   "cell_type": "code",
   "execution_count": 15,
   "metadata": {
    "collapsed": false
   },
   "outputs": [
    {
     "name": "stdout",
     "output_type": "stream",
     "text": [
      "A\n"
     ]
    }
   ],
   "source": [
    "# liste2'nin 0. elamanını değiştirdik.\n",
    "liste2[0] = \"A\"\n",
    "print(liste2[0])"
   ]
  },
  {
   "cell_type": "code",
   "execution_count": 16,
   "metadata": {
    "collapsed": false
   },
   "outputs": [
    {
     "name": "stdout",
     "output_type": "stream",
     "text": [
      "A\n"
     ]
    }
   ],
   "source": [
    "# liste4 değişkeni aynı liste nesnesine baktığı için\n",
    "# liste4[0] yeni değeri göstermektedir.\n",
    "print(liste4[0])"
   ]
  },
  {
   "cell_type": "code",
   "execution_count": 17,
   "metadata": {
    "collapsed": false
   },
   "outputs": [
    {
     "name": "stdout",
     "output_type": "stream",
     "text": [
      "ç\n"
     ]
    }
   ],
   "source": [
    "print(liste3[0])"
   ]
  },
  {
   "cell_type": "code",
   "execution_count": 18,
   "metadata": {
    "collapsed": false
   },
   "outputs": [
   ],
   "source": [
    "# remove'la istenilen bir eleman silinebilir.\n",
    "liste2.remove('a')"
   ]
  },
  {
   "cell_type": "code",
   "execution_count": 19,
   "metadata": {
    "collapsed": false
   },
   "outputs": [
    {
     "data": {
      "text/plain": [
       "['A', 'o', 'k', 'r', 'a', 'K', ' ', 't', 'u', 's', 'e', 'M']"
      ]
     },
     "execution_count": 19,
     "metadata": {
     },
     "output_type": "execute_result"
    }
   ],
   "source": [
    "# listemizin son hali\n",
    "liste2"
   ]
  },
  {
   "cell_type": "code",
   "execution_count": 20,
   "metadata": {
    "collapsed": false
   },
   "outputs": [
    {
     "name": "stdout",
     "output_type": "stream",
     "text": [
      "[' ', 'A', 'K', 'M', 'a', 'e', 'k', 'o', 'r', 's', 't', 'u']\n"
     ]
    }
   ],
   "source": [
    "# listedeki elamanları sıralar, kendine ait bir algoritmayla.\n",
    "liste2.sort()\n",
    "print(liste2)"
   ]
  },
  {
   "cell_type": "code",
   "execution_count": 21,
   "metadata": {
    "collapsed": false
   },
   "outputs": [
   ],
   "source": [
    "# verdiğimiz indeks numarasındaki sıraya göre\n",
    "# verdiğimiz nesneyi yerleştirir.\n",
    "liste2.insert(1, \"mesut\")"
   ]
  },
  {
   "cell_type": "code",
   "execution_count": 22,
   "metadata": {
    "collapsed": false
   },
   "outputs": [
    {
     "name": "stdout",
     "output_type": "stream",
     "text": [
      "[' ', 'mesut', 'A', 'K', 'M', 'a', 'e', 'k', 'o', 'r', 's', 't', 'u']\n"
     ]
    }
   ],
   "source": [
    "print(liste2)"
   ]
  },
  {
   "cell_type": "code",
   "execution_count": 23,
   "metadata": {
    "collapsed": false
   },
   "outputs": [
    {
     "data": {
      "text/plain": [
       "'mesut'"
      ]
     },
     "execution_count": 23,
     "metadata": {
     },
     "output_type": "execute_result"
    }
   ],
   "source": [
    "# indeksini verdiğimiz elemanı siler ve \n",
    "# sildiği elamanın kendisini gösterir.\n",
    "liste2.pop(1)"
   ]
  },
  {
   "cell_type": "code",
   "execution_count": 24,
   "metadata": {
    "collapsed": false
   },
   "outputs": [
    {
     "name": "stdout",
     "output_type": "stream",
     "text": [
      "[' ', 'A', 'K', 'M', 'a', 'e', 'k', 'o', 'r', 's', 't', 'u']\n"
     ]
    }
   ],
   "source": [
    "print(liste2)"
   ]
  },
  {
   "cell_type": "code",
   "execution_count": 25,
   "metadata": {
    "collapsed": false
   },
   "outputs": [
   ],
   "source": [
    "# verilen herhangi bir Python nesnesini\n",
    "# listenin son elemanı olarak ekler.\n",
    "liste2.append(\"bir başka şey\")"
   ]
  },
  {
   "cell_type": "code",
   "execution_count": 26,
   "metadata": {
    "collapsed": false
   },
   "outputs": [
    {
     "data": {
      "text/plain": [
       "[' ', 'A', 'K', 'M', 'a', 'e', 'k', 'o', 'r', 's', 't', 'u', 'bir başka şey']"
      ]
     },
     "execution_count": 26,
     "metadata": {
     },
     "output_type": "execute_result"
    }
   ],
   "source": [
    "liste2"
   ]
  },
  {
   "cell_type": "code",
   "execution_count": 27,
   "metadata": {
    "collapsed": false
   },
   "outputs": [
   ],
   "source": [
    "# append metodunun eşdeğeri aşağıdaki gibidir\n",
    "liste2 = liste2 + ['yeni bir şey']"
   ]
  },
  {
   "cell_type": "code",
   "execution_count": 28,
   "metadata": {
    "collapsed": false
   },
   "outputs": [
    {
     "name": "stdout",
     "output_type": "stream",
     "text": [
      "[' ', 'A', 'K', 'M', 'a', 'e', 'k', 'o', 'r', 's', 't', 'u', 'bir başka şey', 'yeni bir şey']\n"
     ]
    }
   ],
   "source": [
    "print(liste2)"
   ]
  },
  {
   "cell_type": "code",
   "execution_count": 29,
   "metadata": {
    "collapsed": false
   },
   "outputs": [
   ],
   "source": [
    "# extend ile bir listenin sonuna bir başka\n",
    "# listenin elemanları ilave edilebilir.\n",
    "liste2.extend([1, 2, 3, 4, 5])"
   ]
  },
  {
   "cell_type": "code",
   "execution_count": 30,
   "metadata": {
    "collapsed": false
   },
   "outputs": [
    {
     "name": "stdout",
     "output_type": "stream",
     "text": [
      "[' ', 'A', 'K', 'M', 'a', 'e', 'k', 'o', 'r', 's', 't', 'u', 'bir başka şey', 'yeni bir şey', 1, 2, 3, 4, 5]\n"
     ]
    }
   ],
   "source": [
    "print(liste2)"
   ]
  },
  {
   "cell_type": "markdown",
   "metadata": {
    "collapsed": false
   },
   "source": [
    "### Listeyle başka bazı uygulamalar"
   ]
  },
  {
   "cell_type": "code",
   "execution_count": 31,
   "metadata": {
    "collapsed": false
   },
   "outputs": [
    {
     "data": {
      "text/plain": [
       "range"
      ]
     },
     "execution_count": 31,
     "metadata": {
     },
     "output_type": "execute_result"
    }
   ],
   "source": [
    "type(range(1, 12, 2))"
   ]
  },
  {
   "cell_type": "code",
   "execution_count": 32,
   "metadata": {
    "collapsed": false
   },
   "outputs": [
    {
     "name": "stdout",
     "output_type": "stream",
     "text": [
      "[1, 3, 5, 7, 9, 11]\n"
     ]
    }
   ],
   "source": [
    "liste5 = list(range(1, 12, 2))\n",
    "print(liste5)"
   ]
  },
  {
   "cell_type": "code",
   "execution_count": 33,
   "metadata": {
    "collapsed": false
   },
   "outputs": [
    {
     "data": {
      "text/plain": [
       "7"
      ]
     },
     "execution_count": 33,
     "metadata": {
     },
     "output_type": "execute_result"
    }
   ],
   "source": [
    "# listenin bir elamanına aşağıdaki\n",
    "# gibi sıra numarası kullanılarak ulaşılabilir.\n",
    "liste5[3]"
   ]
  },
  {
   "cell_type": "code",
   "execution_count": 34,
   "metadata": {
    "collapsed": false
   },
   "outputs": [
    {
     "data": {
      "text/plain": [
       "11"
      ]
     },
     "execution_count": 34,
     "metadata": {
     },
     "output_type": "execute_result"
    }
   ],
   "source": [
    "# listeler tersten de sıralıdır.\n",
    "# Böylece listenin son elamanına \n",
    "# şu şekilde ulaşılabilir.\n",
    "liste5[-1]"
   ]
  },
  {
   "cell_type": "code",
   "execution_count": 35,
   "metadata": {
    "collapsed": false
   },
   "outputs": [
    {
     "data": {
      "text/plain": [
       "[5, 7, 9]"
      ]
     },
     "execution_count": 35,
     "metadata": {
     },
     "output_type": "execute_result"
    }
   ],
   "source": [
    "# belirli bir sıra aralığındaklere ulaşım\n",
    "liste5[2:5]"
   ]
  },
  {
   "cell_type": "code",
   "execution_count": 36,
   "metadata": {
    "collapsed": false
   },
   "outputs": [
   ],
   "source": [
    "# iki liste bir birine (+) işlemcisiyle de eklenebilir.\n",
    "liste6 = list(range(1,12,2))\n",
    "liste7 = list(range(0,12,2))"
   ]
  },
  {
   "cell_type": "code",
   "execution_count": 37,
   "metadata": {
    "collapsed": false
   },
   "outputs": [
    {
     "name": "stdout",
     "output_type": "stream",
     "text": [
      "[1, 3, 5, 7, 9, 11]\n",
      "[0, 2, 4, 6, 8, 10]\n",
      "[1, 3, 5, 7, 9, 11, 0, 2, 4, 6, 8, 10]\n",
      "[0, 2, 4, 6, 8, 10, 1, 3, 5, 7, 9, 11]\n"
     ]
    }
   ],
   "source": [
    "print(liste6)\n",
    "print(liste7)\n",
    "print(liste6 + liste7)\n",
    "print(liste7 + liste6)"
   ]
  },
  {
   "cell_type": "markdown",
   "metadata": {
    "collapsed": false
   },
   "source": [
    "### Liste ve döngü içeren bir örnek"
   ]
  },
  {
   "cell_type": "code",
   "execution_count": 38,
   "metadata": {
    "collapsed": false
   },
   "outputs": [
    {
     "name": "stdout",
     "output_type": "stream",
     "text": [
      "listemiz =  [0, 1, 2, 3, 4, 5, 6, 7, 8, 9, 10]\n",
      "0 0\n",
      "1 1\n",
      "2 4\n",
      "3 9\n",
      "4 16\n",
      "5 25\n",
      "6 36\n",
      "7 49\n",
      "8 64\n",
      "9 81\n",
      "10 100\n"
     ]
    }
   ],
   "source": [
    "# y = x**2'yi hesaplayan bir program\n",
    "\n",
    "sayi_listesi = list(range(11))\n",
    "print(\"listemiz = \", sayi_listesi)\n",
    "\n",
    "for x in sayi_listesi:\n",
    "    print(x, x**2)"
   ]
  },
  {
   "cell_type": "code",
   "execution_count": 39,
   "metadata": {
    "collapsed": false
   },
   "outputs": [
    {
     "name": "stdout",
     "output_type": "stream",
     "text": [
      "[0, 1, 2, 3, 4, 5, 6, 7, 8, 9, 10]\n",
      "[0, 1, 4, 9, 16, 25, 36, 49, 64, 81, 100]\n"
     ]
    }
   ],
   "source": [
    "x = list(range(11))\n",
    "x2 = []\n",
    "for xi in x:\n",
    "    x2 = x2 + [xi**2]\n",
    "\n",
    "print(x)\n",
    "print(x2)"
   ]
  },
  {
   "cell_type": "code",
   "execution_count": 40,
   "metadata": {
    "collapsed": false
   },
   "outputs": [
    {
     "name": "stdout",
     "output_type": "stream",
     "text": [
      "[0, 1, 2, 3, 4, 5, 6, 7, 8, 9, 10]\n",
      "[0, 1, 4, 9, 16, 25, 36, 49, 64, 81, 100]\n"
     ]
    }
   ],
   "source": [
    "x = list(range(11))\n",
    "x2 = []\n",
    "for xi in x:\n",
    "    x2.append(xi**2)\n",
    "\n",
    "print(x)\n",
    "print(x2)"
   ]
  },
  {
   "cell_type": "code",
   "execution_count": 41,
   "metadata": {
    "collapsed": false
   },
   "outputs": [
    {
     "name": "stdout",
     "output_type": "stream",
     "text": [
      "[]\n",
      "[0]\n",
      "[0, 1]\n",
      "[0, 1, 4]\n",
      "[0, 1, 4, 9]\n",
      "[0, 1, 4, 9, 16]\n",
      "[0, 1, 4, 9, 16, 25]\n",
      "[0, 1, 4, 9, 16, 25, 36]\n",
      "[0, 1, 4, 9, 16, 25, 36, 49]\n",
      "[0, 1, 4, 9, 16, 25, 36, 49, 64]\n",
      "[0, 1, 4, 9, 16, 25, 36, 49, 64, 81]\n",
      "[0, 1, 2, 3, 4, 5, 6, 7, 8, 9, 10]\n",
      "[0, 1, 4, 9, 16, 25, 36, 49, 64, 81, 100]\n"
     ]
    }
   ],
   "source": [
    "x = list(range(11))\n",
    "x2 = []\n",
    "for xi in x:\n",
    "    print(x2)\n",
    "    x2 = x2 + [xi**2]\n",
    "\n",
    "\n",
    "print(x)\n",
    "print(x2)"
   ]
  },
  {
   "cell_type": "code",
   "execution_count": 42,
   "metadata": {
    "collapsed": false
   },
   "outputs": [
    {
     "name": "stdout",
     "output_type": "stream",
     "text": [
      " x  x^2\n",
      " 0    0\n",
      " 1    1\n",
      " 2    4\n",
      " 3    9\n",
      " 4   16\n",
      " 5   25\n",
      " 6   36\n",
      " 7   49\n",
      " 8   64\n",
      " 9   81\n",
      "10  100\n"
     ]
    }
   ],
   "source": [
    "x = list(range(11))\n",
    "y = []\n",
    "for xi in x:\n",
    "    y = y + [xi**2]\n",
    "\n",
    "print(\" x  x^2\")\n",
    "for i, xi in enumerate(x):\n",
    "    print(\"{:>2d} {:>4d}\".format(xi, y[i]))"
   ]
  },
  {
   "cell_type": "markdown",
   "metadata": {
    "collapsed": false
   },
   "source": [
    "### Listeleri kullanarak çizim yapılabilir\n",
    "\n",
    "Aşağıda $y = x^2$ grafiği görülmektedir."
   ]
  },
  {
   "cell_type": "code",
   "execution_count": 43,
   "metadata": {
    "collapsed": false
   },
   "outputs": [
    {
     "data": {
      "image/png": "[encoded data removed]",
      "text/plain": [
       "<Figure size 432x288 with 1 Axes>"
      ]
     },
     "execution_count": 43,
     "metadata": {
      "image/png": {
       "height": 248,
       "width": 375
      },
      "needs_background": "light"
     },
     "output_type": "execute_result"
    }
   ],
   "source": [
    "import matplotlib.pyplot as plt\n",
    "%matplotlib inline\n",
    "\n",
    "plt.plot(x, y)\n",
    "plt.plot(x, y, \"ro\")\n",
    "plt.show()"
   ]
  },
  {
   "cell_type": "markdown",
   "metadata": {
    "collapsed": false
   },
   "source": [
    "### Fibonacci sayılarından oluşan seri"
   ]
  },
  {
   "cell_type": "code",
   "execution_count": 44,
   "metadata": {
    "collapsed": false
   },
   "outputs": [
    {
     "name": "stdout",
     "output_type": "stream",
     "text": [
      " n  Fn\n",
      " 0   1\n",
      " 1   1\n",
      " 2   2\n",
      " 3   3\n",
      " 4   5\n",
      " 5   8\n",
      " 6  13\n",
      " 7  21\n",
      " 8  34\n",
      " 9  55\n",
      "10  89\n",
      "11 144\n",
      "12 233\n",
      "13 377\n",
      "14 610\n",
      "15 987\n"
     ]
    }
   ],
   "source": [
    "n = list(range(16))\n",
    "Fn = [1, 1]\n",
    "for ni in n[2:]:\n",
    "    Fn = Fn + [Fn[-2] + Fn[-1]]\n",
    "\n",
    "print(\" n  Fn\")\n",
    "for ni in n:\n",
    "    print(\"{:>2d} {:>3d}\".format(ni, Fn[ni]))"
   ]
  },
  {
   "cell_type": "code",
   "execution_count": 45,
   "metadata": {
    "collapsed": false
   },
   "outputs": [
    {
     "data": {
      "image/png": "[encoded data removed]",
      "text/plain": [
       "<Figure size 432x288 with 1 Axes>"
      ]
     },
     "execution_count": 45,
     "metadata": {
      "image/png": {
       "height": 248,
       "width": 381
      },
      "needs_background": "light"
     },
     "output_type": "execute_result"
    }
   ],
   "source": [
    "import matplotlib.pyplot as plt\n",
    "%matplotlib inline\n",
    "\n",
    "plt.plot(n, Fn)\n",
    "plt.plot(n, Fn, \"ro\")\n",
    "plt.show()"
   ]
  },
  {
   "cell_type": "code",
   "execution_count": 46,
   "metadata": {
    "collapsed": false
   },
   "outputs": [
    {
     "name": "stdout",
     "output_type": "stream",
     "text": [
      "[0, 1, 2, 3, 4, 5, 6, 7, 8, 9, 10, 11, 12, 13, 14, 15]\n",
      "[1, 1, 2, 3, 5, 8, 13, 21, 34, 55, 89, 144, 233, 377, 610, 987]\n"
     ]
    }
   ],
   "source": [
    "print(n)\n",
    "print(Fn)"
   ]
  },
  {
   "cell_type": "markdown",
   "metadata": {
    "collapsed": false
   },
   "source": [
    "### Liste kullanmadan Fibonacci sayıları"
   ]
  },
  {
   "cell_type": "code",
   "execution_count": 47,
   "metadata": {
    "collapsed": false
   },
   "outputs": [
    {
     "name": "stdout",
     "output_type": "stream",
     "text": [
      "2\n",
      "3\n",
      "5\n",
      "8\n",
      "13\n",
      "21\n",
      "34\n",
      "55\n",
      "89\n",
      "144\n",
      "233\n",
      "377\n",
      "610\n",
      "987\n"
     ]
    }
   ],
   "source": [
    "F0, F1 = 1, 1\n",
    "\n",
    "for i in range(14):\n",
    "    F2 = F0 + F1\n",
    "    F0 = F1\n",
    "    F1 = F2\n",
    "    print(F2)"
   ]
  },
  {
   "cell_type": "markdown",
   "metadata": {
    "collapsed": false
   },
   "source": [
    "### List comprehensions (Python'a özel bir liste oluşturma yöntemi)"
   ]
  },
  {
   "cell_type": "code",
   "execution_count": 48,
   "metadata": {
    "collapsed": false
   },
   "outputs": [
    {
     "name": "stdout",
     "output_type": "stream",
     "text": [
      "[1, 4, 9, 16, 25, 36, 49, 64, 81, 100]\n"
     ]
    }
   ],
   "source": [
    "kare = []\n",
    "for i in range(1, 11):\n",
    "    kare.append(i**2)\n",
    "    #kare = kare + [i**2]\n",
    "\n",
    "print(kare)"
   ]
  },
  {
   "cell_type": "code",
   "execution_count": 49,
   "metadata": {
    "collapsed": false
   },
   "outputs": [
    {
     "name": "stdout",
     "output_type": "stream",
     "text": [
      "[1, 4, 9, 16, 25, 36, 49, 64, 81, 100]\n"
     ]
    }
   ],
   "source": [
    "kare2 = [i**2 for i in range(1,11)]\n",
    "print(kare2)"
   ]
  },
  {
   "cell_type": "markdown",
   "metadata": {
    "collapsed": false
   },
   "source": [
    "### Python'da Fonksiyon"
   ]
  },
  {
   "cell_type": "markdown",
   "metadata": {
    "collapsed": false
   },
   "source": [
    "#### Ürettiği veriyi ana programa aktarmayan fonksiyon örneği"
   ]
  },
  {
   "cell_type": "code",
   "execution_count": 50,
   "metadata": {
    "collapsed": false
   },
   "outputs": [
   ],
   "source": [
    "def topla():\n",
    "    a = 5\n",
    "    b = 10\n",
    "    toplam = a + b\n",
    "    print(a, b, toplam)"
   ]
  },
  {
   "cell_type": "code",
   "execution_count": 51,
   "metadata": {
    "collapsed": false
   },
   "outputs": [
    {
     "ename": "NameError",
     "evalue": "name 'a' is not defined",
     "output_type": "error",
     "traceback": [
      "\u001b[0;31m---------------------------------------------------------------------------\u001b[0m",
      "\u001b[0;31mNameError\u001b[0m                                 Traceback (most recent call last)",
      "\u001b[0;32m<ipython-input-51-0751adecab6e>\u001b[0m in \u001b[0;36m<module>\u001b[0;34m\u001b[0m\n\u001b[1;32m      1\u001b[0m \u001b[0;31m# a ve b yerel (local) değişkenlerdir.\u001b[0m\u001b[0;34m\u001b[0m\u001b[0;34m\u001b[0m\u001b[0;34m\u001b[0m\u001b[0m\n\u001b[0;32m----> 2\u001b[0;31m \u001b[0mprint\u001b[0m\u001b[0;34m(\u001b[0m\u001b[0ma\u001b[0m\u001b[0;34m,\u001b[0m \u001b[0mb\u001b[0m\u001b[0;34m)\u001b[0m\u001b[0;34m\u001b[0m\u001b[0;34m\u001b[0m\u001b[0m\n\u001b[0m",
      "\u001b[0;31mNameError\u001b[0m: name 'a' is not defined"
     ]
    }
   ],
   "source": [
    "# a ve b yerel (local) değişkenlerdir.\n",
    "print(a, b)"
   ]
  },
  {
   "cell_type": "code",
   "execution_count": 52,
   "metadata": {
    "collapsed": false
   },
   "outputs": [
    {
     "name": "stdout",
     "output_type": "stream",
     "text": [
      "5 10 15\n"
     ]
    }
   ],
   "source": [
    "topla()"
   ]
  },
  {
   "cell_type": "code",
   "execution_count": 53,
   "metadata": {
    "collapsed": false
   },
   "outputs": [
    {
     "name": "stdout",
     "output_type": "stream",
     "text": [
      "5 10 15\n",
      "None\n"
     ]
    }
   ],
   "source": [
    "print(topla())"
   ]
  },
  {
   "cell_type": "markdown",
   "metadata": {
    "collapsed": false
   },
   "source": [
    "#### Yerel ve genel değişken örnekleri (Local and Gloal variables)\n",
    "\n",
    "Python öncelikle varsa yerel değişkeni dikkate alır."
   ]
  },
  {
   "cell_type": "code",
   "execution_count": 54,
   "metadata": {
    "collapsed": false
   },
   "outputs": [
   ],
   "source": [
    "a = 7 # genel değişken\n",
    "def topla2():\n",
    "    b = 10 # yerel değişken\n",
    "    toplam = a + b\n",
    "    print(a, b, toplam)"
   ]
  },
  {
   "cell_type": "code",
   "execution_count": 55,
   "metadata": {
    "collapsed": false
   },
   "outputs": [
    {
     "name": "stdout",
     "output_type": "stream",
     "text": [
      "7 10 17\n"
     ]
    }
   ],
   "source": [
    "topla2()"
   ]
  },
  {
   "cell_type": "code",
   "execution_count": 56,
   "metadata": {
    "collapsed": false
   },
   "outputs": [
   ],
   "source": [
    "a = 7 # genel değişken\n",
    "def topla3():\n",
    "    a = 5 # yerel değişken\n",
    "    b = 10\n",
    "    toplam = a + b\n",
    "    print(a, b, toplam)"
   ]
  },
  {
   "cell_type": "code",
   "execution_count": 57,
   "metadata": {
    "collapsed": false
   },
   "outputs": [
    {
     "name": "stdout",
     "output_type": "stream",
     "text": [
      "5 10 15\n"
     ]
    }
   ],
   "source": [
    "topla3()"
   ]
  },
  {
   "cell_type": "markdown",
   "metadata": {
    "collapsed": false
   },
   "source": [
    "#### Fonksiyonlarda \"return\" ifadesinin görevi\n",
    "\n",
    "Bir fonksiyon içinde üretilen veri return ifadesiyle  \n",
    "ana programa aktarılabilir."
   ]
  },
  {
   "cell_type": "code",
   "execution_count": 58,
   "metadata": {
    "collapsed": false
   },
   "outputs": [
   ],
   "source": [
    "def topla4():\n",
    "    a = 5\n",
    "    b = 10\n",
    "    toplam = a + b\n",
    "    return toplam"
   ]
  },
  {
   "cell_type": "code",
   "execution_count": 59,
   "metadata": {
    "collapsed": false
   },
   "outputs": [
    {
     "data": {
      "text/plain": [
       "15"
      ]
     },
     "execution_count": 59,
     "metadata": {
     },
     "output_type": "execute_result"
    }
   ],
   "source": [
    "topla4()"
   ]
  },
  {
   "cell_type": "code",
   "execution_count": 60,
   "metadata": {
    "collapsed": false
   },
   "outputs": [
    {
     "name": "stdout",
     "output_type": "stream",
     "text": [
      "15\n"
     ]
    }
   ],
   "source": [
    "a_ve_b_toplami = topla4()\n",
    "print(a_ve_b_toplami)"
   ]
  },
  {
   "cell_type": "markdown",
   "metadata": {
    "collapsed": false
   },
   "source": [
    "#### Fonksiyonlarda parametre kullanımı"
   ]
  },
  {
   "cell_type": "code",
   "execution_count": 61,
   "metadata": {
    "collapsed": false
   },
   "outputs": [
   ],
   "source": [
    "def topla5(a, b):\n",
    "    toplam = a + b\n",
    "    return toplam"
   ]
  },
  {
   "cell_type": "code",
   "execution_count": 62,
   "metadata": {
    "collapsed": false
   },
   "outputs": [
    {
     "data": {
      "text/plain": [
       "24"
      ]
     },
     "execution_count": 62,
     "metadata": {
     },
     "output_type": "execute_result"
    }
   ],
   "source": [
    "topla5(12, 12)"
   ]
  },
  {
   "cell_type": "markdown",
   "metadata": {
    "collapsed": false
   },
   "source": [
    "#### Fibonacci sayılarını liste olarak üreten bir fonksiyon"
   ]
  },
  {
   "cell_type": "code",
   "execution_count": 63,
   "metadata": {
    "collapsed": false
   },
   "outputs": [
   ],
   "source": [
    "def fibonacci(nmax):\n",
    "    n = list(range(nmax))\n",
    "    Fn = [1, 1]\n",
    "    for ni in n[2:]:\n",
    "        Fn = Fn + [Fn[-2] + Fn[-1]]\n",
    "    return Fn"
   ]
  },
  {
   "cell_type": "code",
   "execution_count": 64,
   "metadata": {
    "collapsed": false
   },
   "outputs": [
    {
     "data": {
      "text/plain": [
       "[1, 1, 2, 3, 5]"
      ]
     },
     "execution_count": 64,
     "metadata": {
     },
     "output_type": "execute_result"
    }
   ],
   "source": [
    "fibonacci(5)"
   ]
  },
  {
   "cell_type": "code",
   "execution_count": 65,
   "metadata": {
    "collapsed": false
   },
   "outputs": [
   ],
   "source": [
    "def fibonacci2(n0, nmax):\n",
    "    n = list(range(nmax))\n",
    "    Fn = [1, 1]\n",
    "    for ni in n[2:]:\n",
    "        Fn = Fn + [Fn[-2] + Fn[-1]]\n",
    "    return Fn[n0:nmax]"
   ]
  },
  {
   "cell_type": "code",
   "execution_count": 66,
   "metadata": {
    "collapsed": false
   },
   "outputs": [
    {
     "name": "stdout",
     "output_type": "stream",
     "text": [
      "[1, 1, 2, 3, 5, 8, 13, 21, 34, 55]\n",
      "[8, 13, 21, 34, 55]\n",
      "[55]\n"
     ]
    }
   ],
   "source": [
    "print(fibonacci2(0, 10))\n",
    "print(fibonacci2(5, 10))\n",
    "print(fibonacci2(9, 10))"
   ]
  },
  {
   "cell_type": "code",
   "execution_count": 67,
   "metadata": {
    "collapsed": false
   },
   "outputs": [
   ],
   "source": [
    "def fibonacci22(n0, nmax):\n",
    "    return fibonacci(nmax)[n0:nmax]"
   ]
  },
  {
   "cell_type": "code",
   "execution_count": 68,
   "metadata": {
    "collapsed": false
   },
   "outputs": [
    {
     "name": "stdout",
     "output_type": "stream",
     "text": [
      "[1, 1, 2, 3, 5, 8, 13, 21, 34, 55]\n",
      "[8, 13, 21, 34, 55]\n",
      "[55]\n"
     ]
    }
   ],
   "source": [
    "print(fibonacci22(0, 10))\n",
    "print(fibonacci22(5, 10))\n",
    "print(fibonacci22(9, 10))"
   ]
  },
  {
   "cell_type": "markdown",
   "metadata": {
    "collapsed": false
   },
   "source": [
    "#### Bir fonksiyonun kullanımı hakkında bilgi verme"
   ]
  },
  {
   "cell_type": "code",
   "execution_count": 69,
   "metadata": {
    "collapsed": false
   },
   "outputs": [
   ],
   "source": [
    "def fibonacci3(n0, nmax):\n",
    "    \"\"\"\n",
    "    fibonacci fonksiyonu fibonacci sayılarını hesaplar.\n",
    "    kullanımı: fibonacci(n0, nmax)\n",
    "    \"\"\"\n",
    "    n = list(range(nmax))\n",
    "    Fn = [1, 1]\n",
    "    for ni in n[2:]:\n",
    "        Fn = Fn + [Fn[-2] + Fn[-1]]\n",
    "    return Fn[n0:nmax]"
   ]
  },
  {
   "cell_type": "code",
   "execution_count": 70,
   "metadata": {
    "collapsed": false
   },
   "outputs": [
    {
     "ename": "TypeError",
     "evalue": "fibonacci3() missing 2 required positional arguments: 'n0' and 'nmax'",
     "output_type": "error",
     "traceback": [
      "\u001b[0;31m---------------------------------------------------------------------------\u001b[0m",
      "\u001b[0;31mTypeError\u001b[0m                                 Traceback (most recent call last)",
      "\u001b[0;32m<ipython-input-70-20d3984f55b0>\u001b[0m in \u001b[0;36m<module>\u001b[0;34m\u001b[0m\n\u001b[0;32m----> 1\u001b[0;31m \u001b[0mfibonacci3\u001b[0m\u001b[0;34m(\u001b[0m\u001b[0;34m)\u001b[0m\u001b[0;34m\u001b[0m\u001b[0;34m\u001b[0m\u001b[0m\n\u001b[0m",
      "\u001b[0;31mTypeError\u001b[0m: fibonacci3() missing 2 required positional arguments: 'n0' and 'nmax'"
     ]
    }
   ],
   "source": [
    "fibonacci3()"
   ]
  },
  {
   "cell_type": "code",
   "execution_count": 71,
   "metadata": {
    "collapsed": false
   },
   "outputs": [
    {
     "data": {
      "text/plain": [
       "'\\n    fibonacci fonksiyonu fibonacci sayılarını hesaplar.\\n    kullanımı: fibonacci(n0, nmax)\\n    '"
      ]
     },
     "execution_count": 71,
     "metadata": {
     },
     "output_type": "execute_result"
    }
   ],
   "source": [
    "fibonacci3.__doc__"
   ]
  },
  {
   "cell_type": "code",
   "execution_count": 72,
   "metadata": {
    "collapsed": false
   },
   "outputs": [
    {
     "name": "stdout",
     "output_type": "stream",
     "text": [
      "\n",
      "    fibonacci fonksiyonu fibonacci sayılarını hesaplar.\n",
      "    kullanımı: fibonacci(n0, nmax)\n",
      "    \n"
     ]
    }
   ],
   "source": [
    "print(fibonacci3.__doc__)"
   ]
  },
  {
   "cell_type": "code",
   "execution_count": 0,
   "metadata": {
    "collapsed": false
   },
   "outputs": [
   ],
   "source": [
    "fibonacci3?"
   ]
  },
  {
   "cell_type": "markdown",
   "metadata": {
    "collapsed": false
   },
   "source": [
    "#### Fonksiyonlarda ön tanımlı parametreler"
   ]
  },
  {
   "cell_type": "code",
   "execution_count": 73,
   "metadata": {
    "collapsed": false
   },
   "outputs": [
   ],
   "source": [
    "def fibonacci4(n0=5, nmax=10):\n",
    "    \"\"\"\n",
    "    fibonacci fonksiyonu fibonacci sayılarını hesaplar.\n",
    "    kullanımı: fibonacci(n0, nmax)\n",
    "    \"\"\"\n",
    "    n = list(range(nmax))\n",
    "    Fn = [1, 1]\n",
    "    for ni in n[2:]:\n",
    "        Fn = Fn + [Fn[-2] + Fn[-1]]\n",
    "    return Fn[n0:nmax]"
   ]
  },
  {
   "cell_type": "code",
   "execution_count": 74,
   "metadata": {
    "collapsed": false,
    "scrolled": true
   },
   "outputs": [
    {
     "data": {
      "text/plain": [
       "[8, 13, 21, 34, 55]"
      ]
     },
     "execution_count": 74,
     "metadata": {
     },
     "output_type": "execute_result"
    }
   ],
   "source": [
    "fibonacci4()"
   ]
  },
  {
   "cell_type": "code",
   "execution_count": 75,
   "metadata": {
    "collapsed": false
   },
   "outputs": [
    {
     "data": {
      "text/plain": [
       "[3, 5, 8]"
      ]
     },
     "execution_count": 75,
     "metadata": {
     },
     "output_type": "execute_result"
    }
   ],
   "source": [
    "fibonacci4(3,6)"
   ]
  },
  {
   "cell_type": "code",
   "execution_count": 76,
   "metadata": {
    "collapsed": false
   },
   "outputs": [
    {
     "data": {
      "text/plain": [
       "[3, 5, 8]"
      ]
     },
     "execution_count": 76,
     "metadata": {
     },
     "output_type": "execute_result"
    }
   ],
   "source": [
    "fibonacci4(3, nmax=6)"
   ]
  },
  {
   "cell_type": "code",
   "execution_count": 77,
   "metadata": {
    "collapsed": false
   },
   "outputs": [
    {
     "data": {
      "text/plain": [
       "[3, 5, 8]"
      ]
     },
     "execution_count": 77,
     "metadata": {
     },
     "output_type": "execute_result"
    }
   ],
   "source": [
    "fibonacci4(n0=3, nmax=6)"
   ]
  },
  {
   "cell_type": "markdown",
   "metadata": {
    "collapsed": false
   },
   "source": [
    "### Python'da Kütüphane Kullanımı"
   ]
  },
  {
   "cell_type": "markdown",
   "metadata": {
    "collapsed": false
   },
   "source": [
    "#### numpy kütüphanesi\n",
    "http://www.numpy.org\n",
    "\n",
    "nümerik hesaplamalar için gerekli araçları içerir.\n",
    "\n",
    "#### sympy kütüphanesi\n",
    "http://www.sympy.org\n",
    "\n",
    "analitik hesaplamalar için gerekli araçları içerir.\n",
    "\n",
    "### scipy kütüphanesi\n",
    "https://www.scipy.org/\n",
    "\n",
    "çeşitli bilimsel hesaplama araçlarını içerir.\n",
    "\n",
    "### matplotlib kütüphanesi \n",
    "https://matplotlib.org/\n",
    "\n",
    "hesaplanan veya bir şekilde elde edilen verilerin çizimi için kullanılabilir.\n",
    "\n",
    "### math ve cmath kütüphaneleri\n",
    "\n",
    "math reel matematik araçlar içerir, cmath ise karmaşık matematik araçlar içerir.\n"
   ]
  },
  {
   "cell_type": "markdown",
   "metadata": {
    "collapsed": false
   },
   "source": [
    "### Kütüphaneleri çağırma yöntemleri\n",
    "\n",
    "**A) import (kütüphane adı)**  \n",
    "\n",
    "bir kütüphanedeki bütün araçları çağırır\n",
    "\n",
    "örnek: sympy kütüphanesinden sinüs fonksiyonunu kullanalım."
   ]
  },
  {
   "cell_type": "code",
   "execution_count": 78,
   "metadata": {
    "collapsed": false
   },
   "outputs": [
    {
     "data": {
      "text/latex": [
       "$\\displaystyle 2.65358979335273 \\cdot 10^{-6}$"
      ],
      "text/plain": [
       "2.65358979335273e-6"
      ]
     },
     "execution_count": 78,
     "metadata": {
     },
     "output_type": "execute_result"
    }
   ],
   "source": [
    "import sympy\n",
    "\n",
    "sympy.sin(3.14159)"
   ]
  },
  {
   "cell_type": "code",
   "execution_count": 79,
   "metadata": {
    "collapsed": false
   },
   "outputs": [
    {
     "data": {
      "text/latex": [
       "$\\displaystyle 0.99999999999912$"
      ],
      "text/plain": [
       "0.999999999999120"
      ]
     },
     "execution_count": 79,
     "metadata": {
     },
     "output_type": "execute_result"
    }
   ],
   "source": [
    "sympy.sin(3.14159/2)"
   ]
  },
  {
   "cell_type": "code",
   "execution_count": 80,
   "metadata": {
    "collapsed": false
   },
   "outputs": [
    {
     "name": "stdout",
     "output_type": "stream",
     "text": [
      "2.65358979335273e-6\n",
      "0\n",
      "pi\n",
      "3.141592653589793238462643383279502884197169399375105820974944592307816406286208998628034825342117068\n",
      "8\n"
     ]
    }
   ],
   "source": [
    "import sympy\n",
    "\n",
    "print(sympy.sin(3.14159))\n",
    "print(sympy.sin(sympy.pi))\n",
    "print(sympy.pi)\n",
    "print(sympy.N(sympy.pi, 100))\n",
    "print(str(sympy.N(sympy.pi, 1000))[-1])"
   ]
  },
  {
   "cell_type": "markdown",
   "metadata": {
    "collapsed": false
   },
   "source": [
    "**B) import (kütüphane adı) as (kısa/yeni ad)**"
   ]
  },
  {
   "cell_type": "code",
   "execution_count": 81,
   "metadata": {
    "collapsed": false
   },
   "outputs": [
    {
     "name": "stdout",
     "output_type": "stream",
     "text": [
      "0\n"
     ]
    }
   ],
   "source": [
    "import sympy as s\n",
    "\n",
    "print(s.sin(s.pi))"
   ]
  },
  {
   "cell_type": "code",
   "execution_count": 82,
   "metadata": {
    "collapsed": false
   },
   "outputs": [
    {
     "name": "stdout",
     "output_type": "stream",
     "text": [
      "1.2246467991473532e-16\n"
     ]
    }
   ],
   "source": [
    "import numpy as np\n",
    "\n",
    "print(np.sin(np.pi))"
   ]
  },
  {
   "cell_type": "code",
   "execution_count": 83,
   "metadata": {
    "collapsed": false
   },
   "outputs": [
    {
     "data": {
      "text/plain": [
       "3.141592653589793"
      ]
     },
     "execution_count": 83,
     "metadata": {
     },
     "output_type": "execute_result"
    }
   ],
   "source": [
    "np.pi"
   ]
  },
  {
   "cell_type": "markdown",
   "metadata": {
    "collapsed": false
   },
   "source": [
    "**C) from (kütüphane adı) import $*$**\n",
    "\n",
    "kütüphanedi bütün araçları çağır"
   ]
  },
  {
   "cell_type": "code",
   "execution_count": 84,
   "metadata": {
    "collapsed": false
   },
   "outputs": [
    {
     "data": {
      "text/latex": [
       "$\\displaystyle 0$"
      ],
      "text/plain": [
       "0"
      ]
     },
     "execution_count": 84,
     "metadata": {
     },
     "output_type": "execute_result"
    }
   ],
   "source": [
    "from sympy import *\n",
    "\n",
    "sin(pi)"
   ]
  },
  {
   "cell_type": "code",
   "execution_count": 85,
   "metadata": {
    "collapsed": false
   },
   "outputs": [
    {
     "data": {
      "text/plain": [
       "1.2246467991473532e-16"
      ]
     },
     "execution_count": 85,
     "metadata": {
     },
     "output_type": "execute_result"
    }
   ],
   "source": [
    "from numpy import *\n",
    "\n",
    "sin(pi)"
   ]
  },
  {
   "cell_type": "markdown",
   "metadata": {
    "collapsed": false
   },
   "source": [
    "**D) from (kütüphane adı) import (araç adı)**"
   ]
  },
  {
   "cell_type": "code",
   "execution_count": 86,
   "metadata": {
    "collapsed": false
   },
   "outputs": [
   ],
   "source": [
    "from sympy import cos, pi"
   ]
  },
  {
   "cell_type": "code",
   "execution_count": 87,
   "metadata": {
    "collapsed": false
   },
   "outputs": [
    {
     "data": {
      "text/latex": [
       "$\\displaystyle -1$"
      ],
      "text/plain": [
       "-1"
      ]
     },
     "execution_count": 87,
     "metadata": {
     },
     "output_type": "execute_result"
    }
   ],
   "source": [
    "cos(pi)"
   ]
  },
  {
   "cell_type": "code",
   "execution_count": 88,
   "metadata": {
    "collapsed": false
   },
   "outputs": [
    {
     "ename": "TypeError",
     "evalue": "loop of ufunc does not support argument 0 of type Pi which has no callable sin method",
     "output_type": "error",
     "traceback": [
      "\u001b[0;31m---------------------------------------------------------------------------\u001b[0m",
      "\u001b[0;31mAttributeError\u001b[0m                            Traceback (most recent call last)",
      "\u001b[0;31mAttributeError\u001b[0m: 'Pi' object has no attribute 'sin'",
      "\nThe above exception was the direct cause of the following exception:\n",
      "\u001b[0;31mTypeError\u001b[0m                                 Traceback (most recent call last)",
      "\u001b[0;32m<ipython-input-88-69d9a90af4a5>\u001b[0m in \u001b[0;36m<module>\u001b[0;34m\u001b[0m\n\u001b[0;32m----> 1\u001b[0;31m \u001b[0msin\u001b[0m\u001b[0;34m(\u001b[0m\u001b[0mpi\u001b[0m\u001b[0;34m)\u001b[0m\u001b[0;34m\u001b[0m\u001b[0;34m\u001b[0m\u001b[0m\n\u001b[0m",
      "\u001b[0;31mTypeError\u001b[0m: loop of ufunc does not support argument 0 of type Pi which has no callable sin method"
     ]
    }
   ],
   "source": [
    "sin(pi)"
   ]
  },
  {
   "cell_type": "markdown",
   "metadata": {
    "collapsed": false
   },
   "source": [
    "**E) from (kütüphane adı) import (araç adı) as (yeni/kısa ad)**"
   ]
  },
  {
   "cell_type": "code",
   "execution_count": 89,
   "metadata": {
    "collapsed": false
   },
   "outputs": [
   ],
   "source": [
    "from sympy import cos as c\n",
    "from sympy import pi"
   ]
  },
  {
   "cell_type": "code",
   "execution_count": 90,
   "metadata": {
    "collapsed": false
   },
   "outputs": [
    {
     "data": {
      "text/latex": [
       "$\\displaystyle -1$"
      ],
      "text/plain": [
       "-1"
      ]
     },
     "execution_count": 90,
     "metadata": {
     },
     "output_type": "execute_result"
    }
   ],
   "source": [
    "c(pi)"
   ]
  },
  {
   "cell_type": "markdown",
   "metadata": {
    "collapsed": false
   },
   "source": [
    "### Uygulama"
   ]
  },
  {
   "cell_type": "markdown",
   "metadata": {
    "collapsed": false
   },
   "source": [
    "sin(x) fonksiyonunu $x\\in$[0, 4$\\pi$] aralağında çizdirelim."
   ]
  },
  {
   "cell_type": "code",
   "execution_count": 91,
   "metadata": {
    "collapsed": false
   },
   "outputs": [
   ],
   "source": [
    "pi = 3.14159\n",
    "\n",
    "xmin = 0\n",
    "xmax = 4*pi\n",
    "nx = 100\n",
    "dx = (xmax - xmin)/(nx-1)\n",
    "\n",
    "xlist = []\n",
    "for i in range(nx):\n",
    "    #xlist.append(xmin + i*dx)\n",
    "    xlist = xlist + [xmin + i*dx]"
   ]
  },
  {
   "cell_type": "code",
   "execution_count": 92,
   "metadata": {
    "collapsed": false
   },
   "outputs": [
   ],
   "source": [
    "from numpy import sin\n",
    "\n",
    "ylist = []\n",
    "for xi in xlist:\n",
    "    ylist = ylist + [sin(xi)]"
   ]
  },
  {
   "cell_type": "code",
   "execution_count": 93,
   "metadata": {
    "collapsed": false
   },
   "outputs": [
    {
     "data": {
      "image/png": "[encoded data removed]",
      "text/plain": [
       "<Figure size 432x288 with 1 Axes>"
      ]
     },
     "execution_count": 93,
     "metadata": {
      "image/png": {
       "height": 248,
       "width": 386
      },
      "needs_background": "light"
     },
     "output_type": "execute_result"
    }
   ],
   "source": [
    "import matplotlib.pyplot as plt\n",
    "%matplotlib inline\n",
    "\n",
    "plt.plot(xlist, ylist)\n",
    "plt.show()"
   ]
  },
  {
   "cell_type": "markdown",
   "metadata": {
    "collapsed": false
   },
   "source": [
    "### Yukarıdaki süreci tek bir hücrede de halledebiliriz."
   ]
  },
  {
   "cell_type": "code",
   "execution_count": 94,
   "metadata": {
    "collapsed": false
   },
   "outputs": [
    {
     "data": {
      "image/png": "[encoded data removed]",
      "text/plain": [
       "<Figure size 432x288 with 1 Axes>"
      ]
     },
     "execution_count": 94,
     "metadata": {
      "image/png": {
       "height": 248,
       "width": 386
      },
      "needs_background": "light"
     },
     "output_type": "execute_result"
    }
   ],
   "source": [
    "from numpy import sin\n",
    "import matplotlib.pyplot as plt\n",
    "%matplotlib inline\n",
    "\n",
    "pi = 3.14159\n",
    "\n",
    "xmin = 0\n",
    "xmax = 4 * pi\n",
    "nx = 100\n",
    "dx = (xmax - xmin)/(nx-1)\n",
    "\n",
    "xlist = []\n",
    "for i in range(nx+1):\n",
    "    #xlist.append(xmin + i*dx)\n",
    "    xlist = xlist + [xmin + i*dx]\n",
    "\n",
    "ylist = []\n",
    "for xi in xlist:\n",
    "    ylist = ylist + [sin(xi)]\n",
    "\n",
    "plt.plot(xlist, ylist)\n",
    "plt.show()"
   ]
  },
  {
   "cell_type": "code",
   "execution_count": 95,
   "metadata": {
    "collapsed": false
   },
   "outputs": [
    {
     "data": {
      "image/png": "[encoded data removed]",
      "text/plain": [
       "<Figure size 432x288 with 1 Axes>"
      ]
     },
     "execution_count": 95,
     "metadata": {
      "image/png": {
       "height": 261,
       "width": 400
      },
      "needs_background": "light"
     },
     "output_type": "execute_result"
    }
   ],
   "source": [
    "from numpy import sin\n",
    "import matplotlib.pyplot as plt\n",
    "%matplotlib inline\n",
    "\n",
    "pi = 3.14159\n",
    "\n",
    "xmin = 0\n",
    "xmax = 4 * pi\n",
    "nx = 100\n",
    "dx = (xmax - xmin)/(nx-1)\n",
    "\n",
    "xlist = []\n",
    "for i in range(nx+1):\n",
    "    #xlist.append(xmin + i*dx)\n",
    "    xlist = xlist + [xmin + i*dx]\n",
    "\n",
    "ylist = []\n",
    "for xi in xlist:\n",
    "    ylist = ylist + [sin(xi)]\n",
    "\n",
    "plt.plot(xlist, ylist)\n",
    "\n",
    "plt.plot(xlist[::4], ylist[::4], 'ro')\n",
    "\n",
    "plt.xlabel('x')\n",
    "plt.ylabel('sin(x)')\n",
    "plt.grid()\n",
    "plt.show()"
   ]
  },
  {
   "cell_type": "code",
   "execution_count": 96,
   "metadata": {
    "collapsed": false
   },
   "outputs": [
    {
     "data": {
      "image/png": "[encoded data removed]",
      "text/plain": [
       "<Figure size 432x288 with 1 Axes>"
      ]
     },
     "execution_count": 96,
     "metadata": {
      "image/png": {
       "height": 261,
       "width": 391
      },
      "needs_background": "light"
     },
     "output_type": "execute_result"
    }
   ],
   "source": [
    "from numpy import exp\n",
    "import matplotlib.pyplot as plt\n",
    "%matplotlib inline\n",
    "\n",
    "xmin = 0\n",
    "xmax = 5\n",
    "nx = 100\n",
    "dx = (xmax - xmin)/(nx-1)\n",
    "\n",
    "xlist = []\n",
    "for i in range(nx+1):\n",
    "    #xlist.append(xmin + i*dx)\n",
    "    xlist = xlist + [xmin + i*dx]\n",
    "\n",
    "ylist = []\n",
    "for xi in xlist:\n",
    "    ylist = ylist + [exp(xi)]\n",
    "\n",
    "plt.plot(xlist, ylist)\n",
    "\n",
    "plt.plot(xlist[::4], ylist[::4], 'ro')\n",
    "\n",
    "plt.xlabel('x')\n",
    "plt.ylabel('$y = e^x$')\n",
    "\n",
    "plt.grid()\n",
    "plt.show()"
   ]
  },
  {
   "cell_type": "code",
   "execution_count": 97,
   "metadata": {
    "collapsed": false
   },
   "outputs": [
    {
     "data": {
      "image/png": "[encoded data removed]",
      "text/plain": [
       "<Figure size 432x288 with 1 Axes>"
      ]
     },
     "execution_count": 97,
     "metadata": {
      "image/png": {
       "height": 261,
       "width": 389
      },
      "needs_background": "light"
     },
     "output_type": "execute_result"
    }
   ],
   "source": [
    "from numpy import exp\n",
    "import matplotlib.pyplot as plt\n",
    "%matplotlib inline\n",
    "\n",
    "xmin = -5\n",
    "xmax = 5\n",
    "nx = 100\n",
    "dx = (xmax - xmin)/(nx-1)\n",
    "\n",
    "xlist = []\n",
    "for i in range(nx+1):\n",
    "    #xlist.append(xmin + i*dx)\n",
    "    xlist = xlist + [xmin + i*dx]\n",
    "\n",
    "ylist = []\n",
    "for xi in xlist:\n",
    "    ylist = ylist + [exp(-xi**2)]\n",
    "\n",
    "plt.plot(xlist, ylist)\n",
    "plt.plot(xlist[::4], ylist[::4], 'ro')\n",
    "plt.xlabel('x')\n",
    "plt.ylabel('$e^{-x^2}$')\n",
    "plt.grid()\n",
    "plt.show()"
   ]
  },
  {
   "cell_type": "code",
   "execution_count": 98,
   "metadata": {
    "collapsed": false
   },
   "outputs": [
    {
     "data": {
      "image/png": "[encoded data removed]",
      "text/plain": [
       "<Figure size 432x288 with 1 Axes>"
      ]
     },
     "execution_count": 98,
     "metadata": {
      "image/png": {
       "height": 261,
       "width": 400
      },
      "needs_background": "light"
     },
     "output_type": "execute_result"
    }
   ],
   "source": [
    "import numpy as np\n",
    "import matplotlib.pyplot as plt\n",
    "%matplotlib inline\n",
    "\n",
    "xmin = 0\n",
    "xmax = 4*np.pi\n",
    "nx = 100\n",
    "\n",
    "xlist = np.linspace(xmin, xmax, nx)\n",
    "ylist = np.sin(xlist)\n",
    "\n",
    "plt.plot(xlist, ylist)\n",
    "plt.plot(xlist[::4], ylist[::4], 'ro')\n",
    "plt.xlabel('x')\n",
    "plt.ylabel('sin(x)')\n",
    "plt.grid()\n",
    "plt.show()"
   ]
  },
  {
   "cell_type": "code",
   "execution_count": 99,
   "metadata": {
    "collapsed": false
   },
   "outputs": [
    {
     "data": {
      "image/png": "[encoded data removed]",
      "text/plain": [
       "<Figure size 432x288 with 1 Axes>"
      ]
     },
     "execution_count": 99,
     "metadata": {
      "image/png": {
       "height": 248,
       "width": 380
      },
      "needs_background": "light"
     },
     "output_type": "execute_result"
    }
   ],
   "source": [
    "from numpy import sin, cos, sqrt, pi\n",
    "import matplotlib.pyplot as plt\n",
    "%matplotlib inline\n",
    "\n",
    "xmin = -4*pi\n",
    "xmax = 4*pi\n",
    "nx = 100\n",
    "dx = (xmax - xmin)/(nx-1)\n",
    "\n",
    "xlist = []\n",
    "for i in range(nx+1):\n",
    "    xlist = xlist + [xmin + i*dx]\n",
    "\n",
    "ylist = []\n",
    "for xi in xlist:\n",
    "    ylist = ylist + [sin(xi)/xi]\n",
    "\n",
    "plt.plot(xlist, ylist)\n",
    "plt.grid()\n",
    "plt.show()"
   ]
  },
  {
   "cell_type": "markdown",
   "metadata": {
    "collapsed": false
   },
   "source": [
    "### Rastgele (Random) sayıları elde etme"
   ]
  },
  {
   "cell_type": "code",
   "execution_count": 100,
   "metadata": {
    "collapsed": false
   },
   "outputs": [
    {
     "data": {
      "text/plain": [
       "0.9848828557531956"
      ]
     },
     "execution_count": 100,
     "metadata": {
     },
     "output_type": "execute_result"
    }
   ],
   "source": [
    "import random as rnd\n",
    "\n",
    "# 0 ile 1 aralığında \n",
    "# sözde rastgele sayı üretir\n",
    "rnd.random() "
   ]
  },
  {
   "cell_type": "code",
   "execution_count": 101,
   "metadata": {
    "collapsed": false
   },
   "outputs": [
    {
     "data": {
      "text/plain": [
       "9.351183993231606"
      ]
     },
     "execution_count": 101,
     "metadata": {
     },
     "output_type": "execute_result"
    }
   ],
   "source": [
    "# 0 ile 10 aralığında rastgele\n",
    "# sayı elde etme\n",
    "10*rnd.random()"
   ]
  },
  {
   "cell_type": "code",
   "execution_count": 102,
   "metadata": {
    "collapsed": false
   },
   "outputs": [
    {
     "data": {
      "text/plain": [
       "91"
      ]
     },
     "execution_count": 102,
     "metadata": {
     },
     "output_type": "execute_result"
    }
   ],
   "source": [
    "# 1 ile 100 aralığında rastgele\n",
    "# tam sayı elde etme\n",
    "rnd.randint(1, 100)"
   ]
  },
  {
   "cell_type": "markdown",
   "metadata": {
    "collapsed": false
   },
   "source": [
    "### Monte Carlo yöntemiyle $\\pi$ sayısı hesabı\n",
    "\n",
    "https://tr.wikipedia.org/wiki/Monte_Carlo_benzetimi\n",
    "\n",
    "Monte Carlo benzetimi. Rastgele üretilen sayılardan faydalanılarak istatistiksel simülasyonlar Monte Carlo metoduyla yapılır. Monte-Carlo Nicholas Constantine Metropolis (1915-1999) tarafından bulunmuştur ve Atom bombasının geliştirildiği Los Alamos Ulusal Labratuvarında, bombanın patlamasından sonra dağılan nötronlara karşı kalkan modellemek için Stanislaw Ulam tarafından günümüze taşınmıştır.\n",
    "\n",
    "Deney girdileri belirli olmayan, kesin olmayan bir şekilde gelmesi bekleniyorsa ve dağılım bir fonksiyonla hesaplanabilecekse kullanılır. Monte Carlo, rastgele sayıları baz alarak tahmini sistemleri modeller. Hücre Similasyonu, Borsa Modelleri, Dağılım Fonksiyonları, Sayısal Analiz, Doğal olayların simülasyonu, Atom ve Molekül Fiziği, Nükleer Fizik ve Yüksek Enerji Fiziği modellerini test eden simülasyonlar, Deneylerde kullanılan aletlerin simülasyonu (Örneğin bir madde içerisinde x ışınlarının dağılımı).\n",
    "\n",
    "Yukarıdaki modellerde tahminler yapabilmek için; Rastgele sayı üretilir, bunun için programlama bilgisi gerekmektedir.\n",
    "\n",
    "Programlama: Temel düzeyde Monte Carlo programları öğrenildikten sonra, Monte Carlo üreteçlerini oluşturabilmek gerekmektedir. Teorik eğitimin yanında örneğin C, C++ gibi bilimsel çalışmalarda sıklıkla kullanılan programları iyi derecede bilmek gerekmektedir.\n",
    "Teorik: Programlama aşamasına geçmeden önce problemi ya da deney sistemimizin teorisini çok iyi oluşturmamız gerekmektedir.\n",
    "Aşağıda Pi sayısının Monte Carlo Yöntemi ile hesaplanması örneği C++ kodları ile verilmiştir."
   ]
  },
  {
   "cell_type": "code",
   "execution_count": 103,
   "metadata": {
    "collapsed": false
   },
   "outputs": [
    {
     "name": "stdout",
     "output_type": "stream",
     "text": [
      "3.104\n"
     ]
    }
   ],
   "source": [
    "import numpy as np\n",
    "import random as rnd\n",
    "import matplotlib.pyplot as plt\n",
    "%matplotlib inline\n",
    "\n",
    "r = 2 # daire yarı çapı\n",
    "atis = 1000\n",
    "\n",
    "def mnc(x):\n",
    "    return (-1)**rnd.randint(1,10) * x*rnd.random()\n",
    "\n",
    "xlist = [mnc(r) for i in range(atis)]\n",
    "ylist = [mnc(r) for i in range(atis)]\n",
    "\n",
    "# dairenin içinde kalanları sayalım\n",
    "daire = 0\n",
    "for i in range(atis):\n",
    "    ri = (xlist[i]**2 + ylist[i]**2)**.5\n",
    "    if ri<=r:\n",
    "        daire = daire + 1\n",
    "\n",
    "pi_sayisi = 4*daire/atis\n",
    "\n",
    "print(pi_sayisi)"
   ]
  },
  {
   "cell_type": "code",
   "execution_count": 104,
   "metadata": {
    "collapsed": false
   },
   "outputs": [
    {
     "data": {
      "image/png": "[encoded data removed]",
      "text/plain": [
       "<Figure size 432x288 with 1 Axes>"
      ]
     },
     "execution_count": 104,
     "metadata": {
      "image/png": {
       "height": 248,
       "width": 380
      },
      "needs_background": "light"
     },
     "output_type": "execute_result"
    }
   ],
   "source": [
    "theta = np.linspace(0, 2*np.pi)\n",
    "xd = r*np.cos(theta)\n",
    "yd = r*np.sin(theta)\n",
    "\n",
    "plt.plot(xlist, ylist, 'r.', label='mnc')\n",
    "\n",
    "plt.plot(xd, yd, color=\"black\", label='daire')\n",
    "\n",
    "plt.plot([-r, -r], [-r, r], color=\"blue\", label='kare')\n",
    "plt.plot([-r, r], [r, r], color=\"blue\")\n",
    "plt.plot([r, r], [r, -r], color=\"blue\")\n",
    "plt.plot([r, -r], [-r, -r], color=\"blue\")\n",
    "\n",
    "plt.axis('equal')\n",
    "plt.legend(loc='best')\n",
    "plt.show()"
   ]
  },
  {
   "cell_type": "code",
   "execution_count": 0,
   "metadata": {
    "collapsed": false
   },
   "outputs": [
   ],
   "source": [
   ]
  }
 ],
 "metadata": {
  "kernelspec": {
   "display_name": "Python 3 (system-wide)",
   "language": "python",
   "metadata": {
    "cocalc": {
     "description": "Python 3 programming language",
     "priority": 100,
     "url": "https://www.python.org/"
    }
   },
   "name": "python3"
  },
  "language_info": {
   "codemirror_mode": {
    "name": "ipython",
    "version": 3
   },
   "file_extension": ".py",
   "mimetype": "text/x-python",
   "name": "python",
   "nbconvert_exporter": "python",
   "pygments_lexer": "ipython3",
   "version": "3.6.9"
  }
 },
 "nbformat": 4,
 "nbformat_minor": 0
}