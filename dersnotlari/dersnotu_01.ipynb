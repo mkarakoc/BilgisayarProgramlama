{
 "cells": [
  {
   "cell_type": "markdown",
   "metadata": {
    "collapsed": false
   },
   "source": [
    "![](https://cocalc.com/static/22a44ebc294424c3ea218fba1cb7c8df.svg)\n",
    "![](https://cocalc.com/static/c61ccd056c488246ab73ecbd4f8eaf33.svg)\n",
    "# [CoCalc nedir? / Nasıl kullanılır? ](https://translate.google.com.tr/translate?hl=tr&ie=UTF8&prev=_m&sl=auto&tl=tr&u=https://doc.cocalc.com/teaching-students.html%23what-is-cocalc)\n",
    "\n",
    "CoCalc, Jupyter Not Defterleri , SageMath Çalışma Sayfaları , LaTeX belgeleri vb. Gibi etkileşimli kaynaklara dayalı kurslar için destek sağlayan bir bulut hizmetidir."
   ]
  },
  {
   "cell_type": "markdown",
   "metadata": {
    "collapsed": false
   },
   "source": [
    "## CoCalc projeler sayfası\n",
    "![](./sekiller/CoCalc_Projeler_Sayfasi.png)"
   ]
  },
  {
   "cell_type": "markdown",
   "metadata": {
    "collapsed": false
   },
   "source": [
    "## Örnek bir Projenin iç sayfası"
   ]
  },
  {
   "cell_type": "markdown",
   "metadata": {
    "collapsed": false
   },
   "source": [
    "![](./sekiller/CoCalc_projelerin_ici.png)"
   ]
  },
  {
   "cell_type": "markdown",
   "metadata": {
    "collapsed": false
   },
   "source": [
    "# ![](https://jupyter.org/assets/main-logo.svg) Jupyter Notebook \n",
    "https://jupyter.org\n",
    "\n",
    "![](./sekiller/CoCalc_JupyterNotebook.png)\n",
    "\n",
    "Jupyter notebook Python dilini çalışmamızı sağlayan bir arayüzdür.  \n",
    "Kullanabilmek için Python çekirdeğine (kerneline) ihtiyaç duyar.  \n",
    "Notebooku açınca karşımıza ilk olarak boş bir **hücre** çıkar.  \n",
    "\n",
    "**Kernel**: Çalışılacak olan dilin derleyeicisi veya yorumlayıcısıdır.  \n",
    "<img width=200 src=\"./sekiller/CoCalc_JupyterNotebook_Kernel.png\"/>\n",
    "\n",
    "\n",
    "**Hücre:** Pyton veya Markdown kodlarını yazabildiğimiz kısımlardır.  \n",
    "1. Bir hücreyi seçmek için hemen solundaki boşluğa tıklarız. Bu durumda hücre seçilmiş olur,  \n",
    "fakat hücrenin içine girilmiş olmaz. Hücrenin etrafındaki çerçevenin mavi olduğuna dikkat ediniz.  \n",
    "<img width=300 src=\"./sekiller/jupyternb_hucre.png\"/>\n",
    "\n",
    "2. Seçilen hücrenin tipi değiştirilebilir. **Araçlar Çubuğundaki** açılır menüden  \n",
    "**Code** veya **Markdown** seçeneklerini seçebiliriz.  \n",
    "<img width=90 src=\"./sekiller/CoCalc_JupyterNotebook_cellType.png\"/>\n",
    "\n",
    "3. Türünü seçtikten sonra hücrenin içine girmek için hücrenin gri alanına tıklanmalıdır.  \n",
    "Hücrenin etrafındaki çerçevenin içinin yeşil olduğuna dikkat ediniz ve hücrenin içinde \n",
    "bir işaretçi (cursor:kursör) vardır.  \n",
    "<img width=200 src=\"./sekiller/CoCalc_JupyterNotebook_hucre_ici.png\"/>\n",
    "\n",
    "4. Yeni hücre bir kaç şekilde oluşturulabilir.\n",
    "    - Seçili hücreyi çalıştırmak için **Shift + Enter** tuşları kullanıldığında  \n",
    "    o hücre çalışır ve hemen altında yeni hücre oluşur.\n",
    "    - Bir hücre seçilmişken (ama içinde değilken) **A** tuşuna basarsak,  \n",
    "    hemen o hücrenin üzerinde yeni bir hücre oluşur.\n",
    "    - **A** tuşuna benzer olarak **B**'ye basıldığında seçili hücrenin hemen altında  \n",
    "    yeni bir hücre oluşur.\n",
    "5. Bir hücreyi silmek için, hücre seçiliyken, **X** kısa yol tuşu kullanılır.\n",
    "6. Seçili hücredeki kod **Shift + Enter** tuş takımıyla çalıştırılır.\n",
    "7. **M** kısayol tuşuyla seçili hücre **Markdown** hücre tipine dönüştürülebilir.\n",
    "8. **Y** kısayol tuşuyla seçili hücre **Code** hücre tipine dönüştürülebilir."
   ]
  },
  {
   "cell_type": "markdown",
   "metadata": {
    "collapsed": false
   },
   "source": [
    "## Markdown dili\n",
    "\n",
    "\n",
    "\n",
    "\n",
    "Markdown kullanımı kolay bir \"düzenlenmiş metin yazma\" dilidir. Kullanım\n",
    "örnekleri ile [2.] linkteki örnekleri inceleyebilirsiniz.\n",
    "\n",
    "Kaynakça:\n",
    "1. https://en.wikipedia.org/wiki/Markdown\n",
    "2. https://github.com/adam-p/markdown-here/wiki/Markdown-Here-Cheatsheet"
   ]
  },
  {
   "cell_type": "markdown",
   "metadata": {
    "collapsed": false
   },
   "source": [
    "## ÖRNEKLER"
   ]
  },
  {
   "cell_type": "markdown",
   "metadata": {
    "collapsed": false
   },
   "source": [
    "### Başlık oluşturma\n",
    "\n",
    "H: header (başlık)  \n",
    "1, 2, 3, 4, 5, 6: başlığın seviye sıralaması"
   ]
  },
  {
   "cell_type": "markdown",
   "metadata": {
    "collapsed": false
   },
   "source": [
    "```\n",
    "# H1\n",
    "## H2\n",
    "### H3\n",
    "#### H4\n",
    "##### H5\n",
    "###### H6\n",
    "\n",
    "Alternatif olarak, sadece H1 ve H2 için aşağıdaki altı çizme yöntemi kullanılabilir:\n",
    "\n",
    "Alt-H1\n",
    "======\n",
    "\n",
    "Alt-H2\n",
    "------\n",
    "```"
   ]
  },
  {
   "cell_type": "markdown",
   "metadata": {
    "collapsed": false
   },
   "source": [
    "# H1\n",
    "## H2\n",
    "### H3\n",
    "#### H4\n",
    "##### H5\n",
    "###### H6\n",
    "\n",
    "Alternatif olarak, sadece H1 ve H2 için aşağıdaki altı çizme yöntemi kullanılabilir:\n",
    "\n",
    "Alt-H1\n",
    "======\n",
    "\n",
    "Alt-H2\n",
    "------"
   ]
  },
  {
   "cell_type": "markdown",
   "metadata": {
    "collapsed": false
   },
   "source": [
    "## Koyu yazı yazma"
   ]
  },
  {
   "cell_type": "markdown",
   "metadata": {
    "collapsed": false
   },
   "source": [
    "```\n",
    "Koyu olmayan yazı  \n",
    "**Koyu yazı**\n",
    "```\n",
    "\n",
    "Koyu olmayan yazı  \n",
    "**Koyu yazı**"
   ]
  },
  {
   "cell_type": "markdown",
   "metadata": {
    "collapsed": false
   },
   "source": [
    "## Liste oluşturma"
   ]
  },
  {
   "cell_type": "markdown",
   "metadata": {
    "collapsed": false
   },
   "source": [
    "```\n",
    "Yemek listesi\n",
    "1. Çorbalar\n",
    "    + Kelle paça\n",
    "    + İşkembe\n",
    "    + Mercimek\n",
    "    + Ezogelin\n",
    "2. Kebaplar\n",
    "    + İskender\n",
    "    + Döner\n",
    "        - Tavuk\n",
    "        - Et\n",
    "```\n",
    "\n",
    "Yemek listesi\n",
    "1. Çorbalar\n",
    "    + Kelle paça\n",
    "    + İşkembe\n",
    "    + Mercimek\n",
    "    + Ezogelin\n",
    "2. Kebaplar\n",
    "    + İskender\n",
    "    + Döner\n",
    "        - Tavuk\n",
    "        - Et"
   ]
  },
  {
   "cell_type": "markdown",
   "metadata": {
    "collapsed": false
   },
   "source": [
    "## Markdown ile formül yazma"
   ]
  },
  {
   "cell_type": "markdown",
   "metadata": {
    "collapsed": false
   },
   "source": [
    "```\n",
    "$x^2$\n",
    "```\n",
    "$x^2$"
   ]
  },
  {
   "cell_type": "markdown",
   "metadata": {
    "collapsed": false
   },
   "source": [
    "Aşağıdaki gibi ikinci dereceden bir \n",
    "polinomun,  \n",
    "$a x^2 + bx + c = 0$  \n",
    "çözümü,  \n",
    "$x = \\frac{-b \\pm \\sqrt{b^2-4ac}}{2a}$.\n",
    "\n",
    "$\\int e^x dx = e^x + C$\n",
    "\n",
    "$\\int_0^1 e^x dx = e^x|_0^1 = e-1$\n",
    "\n",
    "$f(x) = x^3 + 5 x^2$\n",
    "\n",
    "$\\frac{df(x)}{dx} = 3x^2 + 10x$\n",
    "\n",
    "$\\frac{d}{dx} f(x)$"
   ]
  },
  {
   "cell_type": "markdown",
   "metadata": {
    "collapsed": false
   },
   "source": [
    "## Resim/Şekil kullanımı"
   ]
  },
  {
   "cell_type": "markdown",
   "metadata": {
    "collapsed": false
   },
   "source": [
    "Şu linkteki: https://upload.wikimedia.org/wikipedia/en/thumb/8/86/Einstein_tongue.jpg/220px-Einstein_tongue.jpg\n",
    "\n",
    "Albert Einstein resmi:\n",
    "\n",
    "![](https://upload.wikimedia.org/wikipedia/en/thumb/8/86/Einstein_tongue.jpg/220px-Einstein_tongue.jpg)\n",
    "\n",
    "```\n",
    "![]()\n",
    "\n",
    "![Resmin açıklaması](Resmin linki)\n",
    "\n",
    "![](https://upload.wikimedia.org/wikipedia/en/thumb/8/86/Einstein_tongue.jpg/220px-Einstein_tongue.jpg)\n",
    "```"
   ]
  },
  {
   "cell_type": "code",
   "execution_count": 0,
   "metadata": {
    "collapsed": false
   },
   "outputs": [
   ],
   "source": [
   ]
  }
 ],
 "metadata": {
  "kernelspec": {
   "display_name": "Python 2 (system-wide)",
   "language": "python",
   "metadata": {
    "cocalc": {
     "description": "Python 2 programming language",
     "priority": 5,
     "url": "https://www.python.org/"
    }
   },
   "name": "python2"
  },
  "language_info": {
   "codemirror_mode": {
    "name": "ipython",
    "version": 2
   },
   "file_extension": ".py",
   "mimetype": "text/x-python",
   "name": "python",
   "nbconvert_exporter": "python",
   "pygments_lexer": "ipython2",
   "version": "2.7.17"
  }
 },
 "nbformat": 4,
 "nbformat_minor": 0
}