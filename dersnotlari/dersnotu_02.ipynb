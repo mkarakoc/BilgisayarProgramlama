{
 "cells": [
  {
   "cell_type": "markdown",
   "metadata": {
    "collapsed": false
   },
   "source": [
    "# Bilgisayar"
   ]
  },
  {
   "cell_type": "markdown",
   "metadata": {
    "collapsed": false
   },
   "source": [
    "## Bilgisayar nedir?\n",
    "Önceden belleğine yüklenmiş bir yazılımı veya bilgiyi işleyerek çok sayıda mantıksal veya aritmetiksel  \n",
    "işlemleri yapıp kullanıcıya işlenmiş sonuçları veren aygıt.\n",
    "\n",
    "## İlk bilgisayarlar\n",
    "\n",
    "![](https://upload.wikimedia.org/wikipedia/commons/b/b5/RomanAbacusRecon.jpg \"Roman abacus\")\n",
    "\n",
    "Abaküs: Roma dönemi abaküs örneği\n",
    "\n",
    "https://en.wikipedia.org/wiki/Abacus\n",
    "\n",
    "Vikipedi'ye göre ilk hesaplama araçlarının tarihçesi M.Ö. 2400 yıllarına ve hatta daha öncesine kadar dayanmaktadır.  \n",
    "Aritmetik işlemler yapmak için geliştirilen Roma abaküsü Babildeki benzerlerinden türetilmiştir.  20. yüzyıl öncesinin  \n",
    "devamı Vikipedi'den okunabilir.  \n",
    "\n",
    "İlerleyen yıllarda çeşitli analog ve dijital bilgisayarlar geliştirilmiştir. Dijital bilgisayarların en çok bilinenlerinden birisi  \n",
    "ENIAC'tır (Electronic Numerical Integrator and Computer: Elektronik Nümerik İntegral Alıcı ve Bilgisayar).\n",
    "\n",
    "https://en.wikipedia.org/wiki/ENIAC\n",
    "\n",
    "![](https://upload.wikimedia.org/wikipedia/commons/1/16/Classic_shot_of_the_ENIAC.jpg)\n",
    "\n",
    "Modern bilgisayarlar, kullanımlarına ve büyüklüklerine göre aşağıdaki gibi kümelenebilirler.\n",
    "\n",
    "**Kullanım alanlarına göre**  \n",
    "- Analog computer\n",
    "- Digital computer\n",
    "- Hybrid computer\n",
    "\n",
    "**Büyüklüklerine göre:**  \n",
    "- Smartphone\n",
    "- Microcomputer\n",
    "- Personal computer\n",
    "- Laptop\n",
    "- Minicomputer\n",
    "- Mainframe computer\n",
    "- Supercomputer\n",
    "\n",
    "\n",
    "## Bilgisayar hangi parçalardan (donanımlardan) oluşur?\n",
    "\n",
    "![](./sekiller/bilgisayar_parcalari.jpg)\n",
    "\n",
    "Yukarıdaki şekildeki parçalar bir kişisel bilgisayarın (PC: Personal Computer) çok bilindik bazı parçalarını göstermektedir.\n",
    "\n",
    "\n",
    "## Bir bilgisayarın basit diyagramı\n",
    "\n",
    "![](./sekiller/pc_diagram.gif)"
   ]
  },
  {
   "cell_type": "markdown",
   "metadata": {
    "collapsed": false
   },
   "source": [
    "### Merkezi işlem birimi (CPU: Central Processing Unit)\n",
    "\n",
    "<img width='15%' src='https://upload.wikimedia.org/wikipedia/commons/d/dc/Intel_80486DX2_top.jpg'/>\n",
    "\n",
    "Ön tanımlı yönlendirmeler (komutlar) doğrultusunda,  \n",
    "bir bilgisayar programındaki komutlar tarafından tanımlanan  \n",
    "temel aritmetik, mantık, kontrol işlemleri ve giriş/çıkış (I/O)  \n",
    "işlemlerini gerçekleştiren bilgisayar içindeki elektronik devreye  \n",
    "merkezi işlem birimi (CPU) denir. \n",
    "\n",
    "<br>\n",
    "\n",
    "<iframe width=\"420\" height=\"345\" src=\"https://www.youtube.com/embed/Fxv3JoS1uY8\"></iframe>\n",
    "\n",
    "https://www.extremetech.com/extreme/191996-zoom-into-a-computer-chip-watch-this-video-to-fully-appreciate-just-how-magical-modern-microchips-are\n",
    "\n",
    "![](https://upload.wikimedia.org/wikipedia/commons/d/d8/ABasicComputer.gif)"
   ]
  },
  {
   "cell_type": "markdown",
   "metadata": {
    "collapsed": false
   },
   "source": [
    "### Rastgele erişilebilir hafıza (RAM: Random Access Memory)\n",
    "\n",
    "RAM bir çeşit anlık veri depolama birimidir. Bilgisayar tarafından yapılan işlem  \n",
    "sırasında gerekli olan veriyi saklar. RAM'ler veri yazılmasında/silinmesinde  \n",
    "veya okunmasında verinin hafıza birimi içindeki fiziksel yerinden bağımsız olarak  \n",
    "erişimine imkan verir. RAM'deki veriler bilgisayar kapatıldığında silinirler.\n",
    "\n",
    "<img width='25%' src='https://upload.wikimedia.org/wikipedia/commons/thumb/d/db/Swissbit_2GB_PC2-5300U-555.jpg/1920px-Swissbit_2GB_PC2-5300U-555.jpg'/>"
   ]
  },
  {
   "cell_type": "markdown",
   "metadata": {
    "collapsed": false
   },
   "source": [
    "### Sadece okunabilir hafıza (ROM: Read-only memory)\n",
    "\n",
    "Bu hafıza birimi donanımla ilgili yazılımları içerir. Kullanıcı tarafından silinemezler.\n",
    "\n",
    "<img width='20%' src='https://upload.wikimedia.org/wikipedia/commons/thumb/c/cc/PokemonSilverBoard.jpg/800px-PokemonSilverBoard.jpg'/>\n"
   ]
  },
  {
   "cell_type": "markdown",
   "metadata": {
    "collapsed": false
   },
   "source": [
    "### Hard disk\n",
    "\n",
    "Bilgisayar kullanıcısının verilerini saklayıp, sonradan okuyup silebeleceği\n",
    "hafıza birimleridir.\n",
    "\n",
    "<img width='25%' src='https://upload.wikimedia.org/wikipedia/commons/3/38/Seagate_ST33232A_hard_disk_inner_view.jpg'/>\n"
   ]
  },
  {
   "cell_type": "markdown",
   "metadata": {
    "collapsed": false
   },
   "source": [
    "## İşletim sistemleri\n",
    "\n",
    "İşletim sistemleri, çeşitli amaçlar için yazılmış \n",
    "uygulamaların (özel yazılımların) donanımla iletişimini \n",
    "sağlayan yazılımlardır. \n",
    "\n",
    "Örneğin, herhangi bir uygulamanın ihtiyaç duyduğu hafıza \n",
    "biriminin kullanımda olup olmadığına göre uygulamaya \n",
    "hafızanın o kısmını kullanmasına izin verir veya vermez.\n",
    "\n",
    "Yine benzeri şekilde, eğer uygulamalar arasında öncelik farkı\n",
    "varsa, hangisine öncelik verileceğine karar verebilir.\n",
    "\n",
    "### Çeşitli işletim sistemleri\n",
    "\n",
    "1. UNIX\n",
    "2. LINUX\n",
    "3. WINDOWS\n",
    "4. ANDROID\n",
    "5. CHROME OS\n",
    "6. OS/2\n",
    "7. DOS veya MS-DOS"
   ]
  },
  {
   "cell_type": "markdown",
   "metadata": {
    "collapsed": false
   },
   "source": [
    "## LINUX işletim sistemi\n",
    "\n",
    "LINUX işletim sisteminin dağıtımları (aşağıda listesi var),\n",
    "WINDOWS işletim sisteminin tersine **açık kaynak** kodludur.\n",
    "\n",
    "Açık kaynak kodlu yazılım, kodlara isteyen herkesin erişebileceği\n",
    "yazılımlardır. Erişebilmekten kasıt aynı zaman kodun insan dilindeki \n",
    "haline de erişebilmektir.\n",
    "\n",
    "\n",
    "Linux ailesi (dağıtımları):\n",
    "1. Red Hat\n",
    "2. Fedora\n",
    "3. Debian\n",
    "4. Mandrake\n",
    "5. Suse\n",
    "6. Slackware\n",
    "7. Pardus (TÜBİTAK)\n",
    "8. Ubuntu"
   ]
  },
  {
   "cell_type": "markdown",
   "metadata": {
    "collapsed": false
   },
   "source": [
    "### Linux işletim sisteminin hangi \"dağıtımı\"nı kullandığınızı görebilmek için ..."
   ]
  },
  {
   "cell_type": "code",
   "execution_count": 2,
   "metadata": {
    "collapsed": false
   },
   "outputs": [
    {
     "name": "stdout",
     "output_type": "stream",
     "text": [
      "No LSB modules are available.\r\n",
      "Distributor ID:\tUbuntu\r\n",
      "Description:\tUbuntu 18.04.2 LTS\r\n",
      "Release:\t18.04\r\n",
      "Codename:\tbionic\r\n"
     ]
    }
   ],
   "source": [
    "!lsb_release -a"
   ]
  },
  {
   "cell_type": "markdown",
   "metadata": {
    "collapsed": false
   },
   "source": [
    "### Linux Terminali"
   ]
  },
  {
   "cell_type": "markdown",
   "metadata": {
    "collapsed": false
   },
   "source": [
    "![](https://www.howtogeek.com/wp-content/uploads/2013/03/linux-terminal-on-ubuntu.png)\n",
    "\n",
    "#### https://wiki.ubuntu-tr.net/index.php?title=U%C3%A7birim  \n",
    "#### Uçbirim ya da orijinal adıyla GNOME Terminal, GNOME masaüstü ortamının komut satırı aracıdır.\n",
    "\n",
    "<br><br>\n",
    "\n",
    "![](./sekiller/FinalTerm.gif)\n",
    "\n",
    "https://github.com/p-e-w/finalterm\n",
    "https://worldwidemann.com/finally-terminated/"
   ]
  },
  {
   "cell_type": "markdown",
   "metadata": {
    "collapsed": false
   },
   "source": [
    "### Terminal komutları ve Linux hakkında Türkçe videolar"
   ]
  },
  {
   "cell_type": "markdown",
   "metadata": {
    "collapsed": false
   },
   "source": [
    "<iframe width=\"560\" height=\"315\" src=\"https://www.youtube-nocookie.com/embed/tlTFYJwGfuE\" frameborder=\"0\" allow=\"accelerometer; autoplay; encrypted-media; gyroscope; picture-in-picture\" allowfullscreen></iframe>"
   ]
  },
  {
   "cell_type": "markdown",
   "metadata": {
    "collapsed": false
   },
   "source": [
    "<iframe width=\"560\" height=\"315\" src=\"https://www.youtube-nocookie.com/embed/g1V4ZPYmhxY\" frameborder=\"0\" allow=\"accelerometer; autoplay; encrypted-media; gyroscope; picture-in-picture\" allowfullscreen></iframe>"
   ]
  },
  {
   "cell_type": "markdown",
   "metadata": {
    "collapsed": false
   },
   "source": [
    "Yer İşaretçileri:\n",
    "\n",
    "/ : yönetici dizinini tanımlar  \n",
    "~ : kullanıcı ana dizinini tanımlar (/home/mesut/)  \n",
    "$ : terminalde bu işaretten sonra komutlar yazılabilir.  "
   ]
  },
  {
   "cell_type": "markdown",
   "metadata": {
    "collapsed": false
   },
   "source": [
    "#### Terminal komutları\n",
    "\n",
    "clear: terminal ekranını temizler.  \n",
    "uname: kullanılan bilgisayar veya makine hakkında bilgi verir.\n",
    "```\n",
    "~/fiz156_bilg_prog_2017_18_bahar/calismalar$ uname -a\n",
    "Linux project-64e4d665-3ef2-4240-9945-6337de991099 4.13.0-1006-gcp #9-Ubuntu SMP Mon Jan 8 21:13:15 UTC 2018 x86_64 x86_64 x86_64 GNU/Linux\n",
    "```\n",
    "\n",
    "pwd (Print Working Directory): aktif olan çalışma dizini.\n",
    "```\n",
    "~/fiz156_bilg_prog_2017_18_bahar/calismalar$ pwd\n",
    "/home/user/fiz156_bilg_prog_2017_18_bahar/calismalar\n",
    "```\n",
    "\n",
    "ls: bulunduğumuz veya istediğimiz dizindeki dosya veya klasörleri listeler.\n",
    "```\n",
    "~$ ls\n",
    "terminal.term\n",
    "```\n",
    "Aşağıdaki kullanımda aktif dizinin içindeki bütün dosya ve dizinleri gösterir.\n",
    "```\n",
    "~$ ls -a\n",
    "```\n",
    "\n",
    "Aşağıdaki kullanımda bütün dosya ve dizinleri alt alta listeler.\n",
    "```\n",
    "~/fiz156_bilg_prog_2017_18_bahar$ ls -al\n",
    "total 31\n",
    "drwxr-xr-x  6 user user    7 Feb 13 21:41 .\n",
    "drwx------ 46 user user  150 Feb 27 10:42 ..\n",
    "drwxr-xr-x  2 user user    3 Feb 13 13:57 calismalar\n",
    "drwxr-xr-x  3 user user    7 Feb 14 12:07 dersnotlari\n",
    "drwxr-xr-x  3 user user    3 Feb 13 13:21 odev_takibi-collect\n",
    "-rw-r--r--  1 user user 4427 Feb 20 14:07 odev_takibi.course\n",
    "drwxr-xr-x  3 user user    3 Feb 13 13:19 odevler\n",
    "~/fiz156_bilg_prog_2017_18_bahar$  \n",
    "```\n",
    "\n",
    "Aşağıdaki kullanımda ise üstteki ile aynıdır, tek fark dosya ve dizin\n",
    "boyutlarını daha okunaklı olacak şekilde kısaltır.\n",
    "```\n",
    "~/fiz156_bilg_prog_2017_18_bahar$ ls -hal\n",
    "total 31K\n",
    "drwxr-xr-x  6 user user    7 Feb 13 21:41 .\n",
    "drwx------ 46 user user  150 Feb 27 10:42 ..\n",
    "drwxr-xr-x  2 user user    3 Feb 13 13:57 calismalar\n",
    "drwxr-xr-x  3 user user    7 Feb 14 12:07 dersnotlari\n",
    "drwxr-xr-x  3 user user    3 Feb 13 13:21 odev_takibi-collect\n",
    "-rw-r--r--  1 user user 4.4K Feb 20 14:07 odev_takibi.course\n",
    "drwxr-xr-x  3 user user    3 Feb 13 13:19 odevler\n",
    "```"
   ]
  },
  {
   "cell_type": "markdown",
   "metadata": {
    "collapsed": false
   },
   "source": [
    "cd (Change Directory): dizinler arası geçişleri sağlar.\n",
    "\n",
    "Aşağıdaki kullanımda /home/kullanıcı/ dizinine geçmeyi sağlar.\n",
    "```\n",
    "~/fiz156_bilg_prog_2017_18_bahar$ cd\n",
    "~/$\n",
    "```\n",
    "\n",
    "Bir üst dizine çıkmak için:\n",
    "```\n",
    "~/fiz156_bilg_prog_2017_18_bahar/calismalar$ cd ..\n",
    "~/fiz156_bilg_prog_2017_18_bahar$ cd ..\n",
    "~/$\n",
    "```\n",
    "\n",
    "Bir kerede iki üst dizine çıkmak için:\n",
    "```\n",
    "~/fiz156_bilg_prog_2017_18_bahar/calismalar$ cd ../..\n",
    "~/$\n",
    "```\n",
    "\n",
    "Konum (yol) belirterek dizin değiştirmek için:\n",
    "```\n",
    "~/fiz156_bilg_prog_2017_18_bahar/calismalar$ cd /home/kullanıcı\n",
    "~/$\n",
    "```\n",
    "\n",
    "Yönetici dizinine doğrudan geçmek için:\n",
    "```\n",
    "~/fiz156_bilg_prog_2017_18_bahar/calismalar$ cd /\n",
    "/$\n",
    "```"
   ]
  },
  {
   "cell_type": "markdown",
   "metadata": {
    "collapsed": false
   },
   "source": [
    "mkdir (Make directory): dizin oluştumak için kullanılır.\n",
    "```\n",
    "~$ mkdir proje1\n",
    "```"
   ]
  },
  {
   "cell_type": "markdown",
   "metadata": {
    "collapsed": false
   },
   "source": [
    "tree: dizin yapısını ağaç şekillenimi şeklinde gösterir.\n",
    "```\n",
    "~/fiz156_bilg_prog_2017_18_bahar/calismalar$ tree\n",
    ".\n",
    "├── proje1\n",
    "│   └── proje2\n",
    "│       └── proje3\n",
    "└── terminal.term\n",
    "```"
   ]
  },
  {
   "cell_type": "markdown",
   "metadata": {
    "collapsed": false
   },
   "source": [
    "rm (remove): dosya veya dizin silmek için kullanılır.\n",
    "\n",
    "dosya silmek için:\n",
    "```\n",
    "~$ rm dosya_adi.uzantisi\n",
    "```\n",
    "\n",
    "dizin silmek için:\n",
    "```\n",
    "~$ rm -r dizin_adi\n",
    "```\n",
    "\n",
    "bir dizin içindeki bütün dosya ve dizinleri silmek için:  \n",
    "bu örnekte kullanılan \\* işareti joker olarak adlandırılır.  \n",
    "Bu sayede adi ve uzantisi ne olursa olsun bütün dosyalar silinebilir.  \n",
    "```\n",
    "~/proje1$ rm -r *\n",
    "```\n",
    "\n",
    "örneğin, sadece .txt uzantılı dosyaları silmek için:\n",
    "```\n",
    "~/proje1$ rm *.txt\n",
    "```"
   ]
  },
  {
   "cell_type": "markdown",
   "metadata": {
    "collapsed": false
   },
   "source": [
    "mv (move): dosya taşır.\n",
    "```\n",
    "~/proje1/proje2$mv proje3 ../\n",
    "```\n",
    "\n",
    "aşağıdaki gibi kullanılırsa içinde bulunduğumuz dizindeki herşeyi istenen yere taşır.\n",
    "```\n",
    "~/proje1/$mv * ../\n",
    "```\n",
    "\n"
   ]
  },
  {
   "cell_type": "markdown",
   "metadata": {
    "collapsed": false
   },
   "source": [
    "cp (copy): bir dosya veya dizinin kopyasını oluşturabilir.\n",
    "\n",
    "aşağıdaki örnekte proje2'nin içindeki proje3 dizinini proje1\n",
    "dizini içine kopyalar.\n",
    "```\n",
    "~/proje1/proje2$cp -r proje3 ../\n",
    "```\n",
    "\n",
    "yine yıldız işareti kullanılarak, aynı anda bir çok dosya veya dizin\n",
    "kopyalanabilir. aşağıdaki örnekte proje2'nin içindeki \n",
    "bütün dosya ve dizinleri proje1 dizinine kopyalar.\n",
    "\n",
    "```\n",
    "~/proje1/proje2$cp -r * ../\n",
    "```"
   ]
  },
  {
   "cell_type": "markdown",
   "metadata": {
    "collapsed": false
   },
   "source": [
    "touch: var olan dosyaların bazı özelliklerinin değiştirilmesini sağlar.  \n",
    "Bu derste uygulama için gerekli boş dosyalar oluşturmak için kullanacağız.  \n",
    "Aşağıdaki örnekte **deneme.txt** adlı boş bir dosya oluşturuluyor.\n",
    "```\n",
    "~$ touch deneme.txt\n",
    "```"
   ]
  },
  {
   "cell_type": "markdown",
   "metadata": {
    "collapsed": false
   },
   "source": [
    "rename: birden çok dosyanın adını değiştirmek için kullanılabilir.\n",
    "Verilen örnekte içinde bulunduğunuz dizindeki bütün .txt uzantılı dosyalar,  \n",
    ".jpg uzantılı olacak şekilde değiştiriliyor.\n",
    "```\n",
    "rename 's/\\.txt$/.jpg/' * \n",
    "```"
   ]
  },
  {
   "cell_type": "markdown",
   "metadata": {
    "collapsed": false
   },
   "source": [
    "more: dosya içeriklerini görmek için kullanılabilir (özellikle metin dosyaları için).\n",
    "```\n",
    "more dosya.adi\n",
    "```\n"
   ]
  },
  {
   "cell_type": "code",
   "execution_count": 0,
   "metadata": {
    "collapsed": false
   },
   "outputs": [
   ],
   "source": [
   ]
  }
 ],
 "metadata": {
  "kernelspec": {
   "display_name": "Python 2 (SageMath)",
   "language": "python",
   "metadata": {
    "cocalc": {
     "description": "SageMath Python 2 environment",
     "priority": 0,
     "url": "https://www.sagemath.org/"
    }
   },
   "name": "python2-sagemath"
  },
  "language_info": {
   "codemirror_mode": {
    "name": "ipython",
    "version": 2
   },
   "file_extension": ".py",
   "mimetype": "text/x-python",
   "name": "python",
   "nbconvert_exporter": "python",
   "pygments_lexer": "ipython2",
   "version": "2.7.15"
  }
 },
 "nbformat": 4,
 "nbformat_minor": 0
}