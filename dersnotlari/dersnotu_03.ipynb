{
 "cells": [
  {
   "cell_type": "markdown",
   "metadata": {
    "collapsed": false
   },
   "source": [
    "# Hafıza ölçüm birimleri"
   ]
  },
  {
   "cell_type": "markdown",
   "metadata": {
    "collapsed": false
   },
   "source": [
    "https://wiki.ubuntu.com/UnitsPolicy\n",
    "\n",
    "Aşağıdaki tanımlar IEC ve SI standartlarına göredir.  \n",
    "\n",
    "## bit (bits): \n",
    "en küçük hafıza birimidir. Tek bir bilgi saklayabilir.  \n",
    "Saklaya bildiği bilgilerden biri genellikle **\"0\"** diğeri **\"1\"** ile temsil edilir."
   ]
  },
  {
   "cell_type": "markdown",
   "metadata": {
    "collapsed": false
   },
   "source": [
    "## bayt (bytes):\n",
    "\n",
    "1 byte = 8 bits  \n",
    "1 bayt = 8 bit\n",
    "\n",
    "byte: bayt, [01.02.09], 04.05.08 (01.02.09)], \n",
    "Bir birim olarak ele alınan ve genellikle bir karakteri veya karakterin bir  \n",
    "parçasını temsil eden bitlerin sayısını içeren dizi. \n",
    "NOT 1: Belirli veri işleme sistemi için bir bayttaki bitlerin sayısı  \n",
    "sabittir. NOT 2: Genellikle bir bayt içindeki bit sayısı 8’dir.  \n",
    "\n",
    "**Kaynakça:**  \n",
    "Bilişim Terimleri Sözlüğü (İngilizce - Türkçe)  \n",
    "https://statik.tse.org.tr/upload/tr/dosya/icerikyonetimi/552/19012016170409-4.pdf"
   ]
  },
  {
   "cell_type": "markdown",
   "metadata": {
    "collapsed": false
   },
   "source": [
    "Applications must use IEC standard for base-2 units:\n",
    "- 1 KiB = 1.024 bytes (Note: big k)\n",
    "- 1 MiB = 1.024 KiB = 1.048.576 bytes\n",
    "- 1 GiB = 1.024 MiB = 1.048.576 KiB = 1.073.741.824 bytes\n",
    "- 1 TiB = 1.024 GiB = 1.048.576 MiB = 1.073.741.824 KiB = 1.099.511.627.776 bytes\n",
    "\n",
    "Applications must use SI standard for base-10 units:\n",
    "- 1 kB = 1,000 bytes (Note: small k)\n",
    "- 1 MB = 1,000 kB = 1,000,000 bytes\n",
    "- 1 GB = 1,000 MB = 1,000,000 kB = 1,000,000,000 bytes\n",
    "- 1 TB = 1,000 GB = 1,000,000 MB = 1,000,000,000 kB = 1,000,000,000,000 bytes"
   ]
  },
  {
   "cell_type": "markdown",
   "metadata": {
    "collapsed": false
   },
   "source": [
    "<table class=\"infobox noprint\" style=\"padding: 0; text-align: left; width: 0\">\n",
    "<tbody><tr>\n",
    "<th colspan=\"2\" class=\"navbox-title\" style=\"text-align: center\">Prefixes for multiples of <br><a href=\"/wiki/Bit\" title=\"Bit\">bits</a> (bit) or <a href=\"/wiki/Byte\" title=\"Byte\">bytes</a> (B)\n",
    "</th></tr>\n",
    "<tr>\n",
    "<td>\n",
    "<table style=\"border: 1px #aaa solid\">\n",
    "<tbody><tr>\n",
    "<th colspan=\"4\" style=\"background:lavender; text-align: center\"><a href=\"/wiki/Decimal_prefix\" class=\"mw-redirect\" title=\"Decimal prefix\">Decimal</a>\n",
    "</th></tr>\n",
    "<tr>\n",
    "<th colspan=\"2\" style=\"background: #eeeeff; text-align:center; padding:0.2em 0.3em;\">Value\n",
    "</th>\n",
    "<th colspan=\"2\" style=\"background: #eeeeff; text-align: center\"><a href=\"/wiki/SI_prefix\" class=\"mw-redirect\" title=\"SI prefix\">SI</a>\n",
    "</th></tr>\n",
    "<tr>\n",
    "<td>1000\n",
    "</td>\n",
    "<td>10<sup>3</sup>\n",
    "</td>\n",
    "<td>k</td>\n",
    "<td><a href=\"/wiki/Kilo-\" title=\"Kilo-\">kilo</a>\n",
    "</td></tr>\n",
    "<tr>\n",
    "<td>1000<sup>2</sup>\n",
    "</td>\n",
    "<td>10<sup>6</sup>\n",
    "</td>\n",
    "<td>M</td>\n",
    "<td><a href=\"/wiki/Mega-\" title=\"Mega-\">mega</a>\n",
    "</td></tr>\n",
    "<tr>\n",
    "<td>1000<sup>3</sup>\n",
    "</td>\n",
    "<td>10<sup>9</sup>\n",
    "</td>\n",
    "<td>G</td>\n",
    "<td><a href=\"/wiki/Giga-\" title=\"Giga-\">giga</a>\n",
    "</td></tr>\n",
    "<tr>\n",
    "<td>1000<sup>4</sup>\n",
    "</td>\n",
    "<td>10<sup>12</sup>\n",
    "</td>\n",
    "<td>T</td>\n",
    "<td><a href=\"/wiki/Tera-\" title=\"Tera-\">tera</a>\n",
    "</td></tr>\n",
    "<tr>\n",
    "<td>1000<sup>5</sup>\n",
    "</td>\n",
    "<td>10<sup>15</sup>\n",
    "</td>\n",
    "<td>P</td>\n",
    "<td><a href=\"/wiki/Peta-\" title=\"Peta-\">peta</a>\n",
    "</td></tr>\n",
    "<tr>\n",
    "<td>1000<sup>6</sup>\n",
    "</td>\n",
    "<td>10<sup>18</sup>\n",
    "</td>\n",
    "<td>E</td>\n",
    "<td><a href=\"/wiki/Exa-\" title=\"Exa-\">exa</a>\n",
    "</td></tr>\n",
    "<tr>\n",
    "<td>1000<sup>7</sup>\n",
    "</td>\n",
    "<td>10<sup>21</sup>\n",
    "</td>\n",
    "<td>Z</td>\n",
    "<td><a href=\"/wiki/Zetta-\" title=\"Zetta-\">zetta</a>\n",
    "</td></tr>\n",
    "<tr>\n",
    "<td>1000<sup>8</sup>\n",
    "</td>\n",
    "<td>10<sup>24</sup>\n",
    "</td>\n",
    "<td>Y</td>\n",
    "<td><a href=\"/wiki/Yotta-\" title=\"Yotta-\">yotta</a>\n",
    "</td></tr></tbody></table>\n",
    "</td>\n",
    "<td>\n",
    "<table style=\"border: 1px #aaa solid\">\n",
    "<tbody><tr>\n",
    "<th colspan=\"6\" style=\"background:lavender; text-align:center\"><a class=\"mw-selflink selflink\">Binary</a>\n",
    "</th></tr>\n",
    "<tr>\n",
    "<th colspan=\"2\" style=\"background: #eeeeff; text-align:center;\">Value\n",
    "</th>\n",
    "<th colspan=\"2\" style=\"background: #eeeeff; text-align:center\"><a href=\"/wiki/IEC_80000-13\" class=\"mw-redirect\" title=\"IEC 80000-13\">IEC</a>\n",
    "</th>\n",
    "<th colspan=\"2\" style=\"background: #eeeeff; text-align:center\"><a href=\"/wiki/JEDEC_memory_standards#Unit_prefixes_for_semiconductor_storage_capacity\" title=\"JEDEC memory standards\">JEDEC</a>\n",
    "</th></tr>\n",
    "<tr>\n",
    "<td>1024\n",
    "</td>\n",
    "<td>2<sup>10</sup>\n",
    "</td>\n",
    "<td>Ki</td>\n",
    "<td><a href=\"/wiki/Kibi-\" class=\"mw-redirect\" title=\"Kibi-\">kibi</a>\n",
    "</td>\n",
    "<td>K</td>\n",
    "<td>kilo\n",
    "</td></tr>\n",
    "<tr>\n",
    "<td>1024<sup>2</sup>\n",
    "</td>\n",
    "<td>2<sup>20</sup>\n",
    "</td>\n",
    "<td>Mi</td>\n",
    "<td><a href=\"/wiki/Mebi-\" class=\"mw-redirect\" title=\"Mebi-\">mebi</a>\n",
    "</td>\n",
    "<td>M</td>\n",
    "<td>mega\n",
    "</td></tr>\n",
    "<tr>\n",
    "<td>1024<sup>3</sup>\n",
    "</td>\n",
    "<td>2<sup>30</sup>\n",
    "</td>\n",
    "<td>Gi</td>\n",
    "<td><a href=\"/wiki/Gibi-\" class=\"mw-redirect\" title=\"Gibi-\">gibi</a>\n",
    "</td>\n",
    "<td>G</td>\n",
    "<td>giga\n",
    "</td></tr>\n",
    "<tr>\n",
    "<td>1024<sup>4</sup>\n",
    "</td>\n",
    "<td>2<sup>40</sup>\n",
    "</td>\n",
    "<td>Ti</td>\n",
    "<td><a href=\"/wiki/Tebi-\" class=\"mw-redirect\" title=\"Tebi-\">tebi</a>\n",
    "</td>\n",
    "<td style=\"text-align:center\">–</td>\n",
    "<td>\n",
    "</td></tr>\n",
    "<tr>\n",
    "<td>1024<sup>5</sup>\n",
    "</td>\n",
    "<td>2<sup>50</sup>\n",
    "</td>\n",
    "<td>Pi</td>\n",
    "<td><a href=\"/wiki/Pebi-\" class=\"mw-redirect\" title=\"Pebi-\">pebi</a>\n",
    "</td>\n",
    "<td style=\"text-align:center\">–</td>\n",
    "<td>\n",
    "</td></tr>\n",
    "<tr>\n",
    "<td>1024<sup>6</sup>\n",
    "</td>\n",
    "<td>2<sup>60</sup>\n",
    "</td>\n",
    "<td>Ei</td>\n",
    "<td><a href=\"/wiki/Exbi-\" class=\"mw-redirect\" title=\"Exbi-\">exbi</a>\n",
    "</td>\n",
    "<td style=\"text-align:center\">–</td>\n",
    "<td>\n",
    "</td></tr>\n",
    "<tr>\n",
    "<td>1024<sup>7</sup>\n",
    "</td>\n",
    "<td>2<sup>70</sup>\n",
    "</td>\n",
    "<td>Zi</td>\n",
    "<td><a href=\"/wiki/Zebi-\" class=\"mw-redirect\" title=\"Zebi-\">zebi</a>\n",
    "</td>\n",
    "<td style=\"text-align:center\">–</td>\n",
    "<td>\n",
    "</td></tr>\n",
    "<tr>\n",
    "<td>1024<sup>8</sup>\n",
    "</td>\n",
    "<td>2<sup>80</sup>\n",
    "</td>\n",
    "<td>Yi</td>\n",
    "<td><a href=\"/wiki/Yobi-\" class=\"mw-redirect\" title=\"Yobi-\">yobi</a>\n",
    "</td>\n",
    "<td style=\"text-align:center\">–</td>\n",
    "<td>\n",
    "</td></tr></tbody></table>\n",
    "</td></tr>\n",
    "</tbody></table>"
   ]
  },
  {
   "cell_type": "markdown",
   "metadata": {
    "collapsed": false
   },
   "source": [
    "https://physics.nist.gov/cuu/Units/binary.html\n",
    "\n",
    "<td align=\"CENTER\" colspan=\"5\">\n",
    "<table border=\"0\" cellspacing=\"0\" cellpadding=\"3\" width=\"100%\">\n",
    "<tbody><tr>\n",
    "<td align=\"CENTER\" colspan=\"2\"><b>Examples and comparisons with SI prefixes</b></td>\n",
    "</tr>\n",
    "\n",
    "<tr>\n",
    "<td align=\"RIGHT\" bgcolor=\"#D0F0C8\">one <b>kibibit</b></td>\n",
    "\n",
    "<td bgcolor=\"#D0F0C8\">&nbsp;1 Kibit = 2<sup>10</sup> bit = <b>1024 bit</b></td>\n",
    "</tr>\n",
    "\n",
    "<tr>\n",
    "<td align=\"RIGHT\">one <b>kilobit</b></td>\n",
    "\n",
    "<td>&nbsp;1 kbit = 10<sup>3</sup> bit = <b>1000 bit</b></td>\n",
    "</tr>\n",
    "\n",
    "<tr>\n",
    "<td align=\"RIGHT\" bgcolor=\"#D0F0C8\">one <b>mebibyte</b></td>\n",
    "\n",
    "<td bgcolor=\"#D0F0C8\">&nbsp;1 MiB = 2<sup>20</sup> B = <b>1 048 576 B</b></td>\n",
    "</tr>\n",
    "\n",
    "<tr>\n",
    "<td align=\"RIGHT\">one <b>megabyte</b></td>\n",
    "\n",
    "<td>&nbsp;1 MB = 10<sup>6</sup> B = <b>1 000 000 B</b></td>\n",
    "</tr>\n",
    "\n",
    "<tr>\n",
    "<td align=\"RIGHT\" bgcolor=\"#D0F0C8\">one <b>gibibyte</b></td>\n",
    "\n",
    "<td bgcolor=\"#D0F0C8\">&nbsp;1 GiB = 2<sup>30</sup> B = <b>1 073 741 824\n",
    "B</b></td>\n",
    "</tr>\n",
    "\n",
    "<tr>\n",
    "<td align=\"RIGHT\">one <b>gigabyte</b></td>\n",
    "\n",
    "<td>&nbsp;1 GB = 10<sup>9</sup> B = <b>1 000 000 000 B</b></td>\n",
    "</tr>\n",
    "</tbody></table>\n",
    "\n",
    "<hr noshade=\"\" size=\"1\"></td>"
   ]
  },
  {
   "cell_type": "markdown",
   "metadata": {
    "collapsed": false
   },
   "source": [
    "### Hafıza büyüklüklerine göre saklanabilecek bilgi çeşitlilik miktarı\n",
    "\n",
    "- 1 bit'lik hafızada iki farklı bilgi saklanabilir. $2^1 = 2$\n",
    "- 2 bit'lik hafızada ise 4 farklı bilgi saklanabilir. $2^2 = 4$\n",
    "- 1 bayt'lık yani 8 bit'lik hafızada 256 farklı bilgi saklanabilir. $2^8=256$\n",
    "- 1 KiB = 1,024 bayt = 8192 bit = $2^{13}$ bit'lik hafızada $2^{(2^{13})}$ farklı bilgi saklanabilir."
   ]
  },
  {
   "cell_type": "code",
   "execution_count": 8,
   "metadata": {
    "collapsed": false
   },
   "outputs": [
    {
     "data": {
      "text/plain": [
       "8192"
      ]
     },
     "execution_count": 8,
     "metadata": {
     },
     "output_type": "execute_result"
    }
   ],
   "source": [
    "1024 * 8"
   ]
  },
  {
   "cell_type": "markdown",
   "metadata": {
    "collapsed": false
   },
   "source": [
    "### ASCII Table\n",
    "\n",
    "http://www.asciitable.com/\n",
    "\n",
    "https://en.wikipedia.org/wiki/ASCII\n",
    "\n",
    "<img src=\"http://www.asciitable.com/index/asciifull.gif\" width=\"500\">\n",
    "<br>\n",
    "<img src=\"http://www.asciitable.com/index/extend.gif\" width=\"500\">\n"
   ]
  },
  {
   "cell_type": "code",
   "execution_count": 13,
   "metadata": {
    "collapsed": false
   },
   "outputs": [
    {
     "name": "stdout",
     "output_type": "stream",
     "text": [
      "0\n",
      "255\n",
      "254\n",
      "65535\n",
      "0b11111111\n"
     ]
    }
   ],
   "source": [
    "# 2 tabanından 10 tabanına\n",
    "#          12345678\n",
    "print(int('00000000', 2))\n",
    "\n",
    "#          12345678\n",
    "print(int('11111111', 2))\n",
    "\n",
    "#          12345678\n",
    "print(int('11111110', 2))\n",
    "\n",
    "#          1234567812345678\n",
    "print(int('1111111111111111', 2))\n",
    "\n",
    "# 10 tabanından 2 tabanına\n",
    "print(bin(255))"
   ]
  },
  {
   "cell_type": "markdown",
   "metadata": {
    "collapsed": false
   },
   "source": [
   ]
  },
  {
   "cell_type": "markdown",
   "metadata": {
    "collapsed": false
   },
   "source": [
    "## Türkiye´nin İlk Standardı\n",
    "\n",
    "https://www.tse.org.tr/Hakkimizda?ID=547&ParentID=80\n",
    "\n",
    "**Kiraz:** Tazesinin yüz elli dirhemi bir akçeye, üç günden sonra iki yüz dirhemi bir akçeye,  \n",
    "daha sonra iki yüz elli dirhemi bir akçeye ve her üç günden sonra yüz dirhem artırılarak  \n",
    "en son iki okkası bir akçeye satılacak.  \n",
    "\n",
    "![](https://statik.tse.org.tr/upload//tr/resim/icerikyonetimi/04112014163627.jpg)"
   ]
  },
  {
   "cell_type": "markdown",
   "metadata": {
    "collapsed": false
   },
   "source": [
    "### Metre Convention\n",
    "\n",
    "https://en.wikipedia.org/wiki/Metre_Convention\n",
    "\n",
    "Turkey\t1875\tJoined originally as the Ottoman Empire\n",
    "United States\t1878\n",
    "\n",
    "The Metre Convention (French: Convention du Mètre), also known as the Treaty of the Metre,[1] is an international treaty that was signed in Paris on 20 May 1875 by representatives of 17 nations (Argentina, Austria-Hungary, Belgium, Brazil, Denmark, France, Germany, Italy, Peru, Portugal, Russia, Spain, Sweden and Norway, Switzerland, Ottoman Empire, United States of America, and Venezuela). The treaty created the International Bureau of Weights and Measures (BIPM), an intergovernmental organization under the authority of the General Conference on Weights and Measures (CGPM) and the supervision of the International Committee for Weights and Measures (CIPM), that coordinates international metrology and the development of the metric system."
   ]
  },
  {
   "cell_type": "markdown",
   "metadata": {
    "collapsed": false
   },
   "source": [
    "# Algoritma ve Akış Diyagramı"
   ]
  },
  {
   "cell_type": "markdown",
   "metadata": {
    "collapsed": false
   },
   "source": [
    "https://en.wikipedia.org/wiki/Muhammad_ibn_Musa_al-Khwarizmi\n",
    "\n",
    "**Algoritma:** Belirli bir problemi çözmek veya belirli bir amaca ulaşmak için  \n",
    "aşamalarıyla beraber tasarlanan gerçekleştirme planı.\n",
    "\n",
    "**Akış diyagramı:** Algoritmaların şematik hale getirilmesidir."
   ]
  },
  {
   "cell_type": "markdown",
   "metadata": {
    "collapsed": false
   },
   "source": [
    "### Akış diyagramı çizimi\n",
    "\n",
    "Aşağıdaki akış diyagramıları \"draw.io\" diyagram (şema) çizim programı kullanılarak çizilmiştir.  \n",
    "Çizilen şemalar aşağıda gösterildiği gibi \"SVG\" dosyası olarak kaydedilebilir.\n",
    "\n",
    "<img width='20%' src='./sekiller/draw_io_resim_kaydetme.PNG'>\n",
    "\n",
    "Bağlantısı: https://www.draw.io\n",
    "\n",
    "<!-- iframe width='800px' height='800px' src=\"https://www.draw.io\"/ -->\n",
    "\n"
   ]
  },
  {
   "cell_type": "markdown",
   "metadata": {
    "collapsed": false
   },
   "source": [
    "### Akış diyagramı kutucuklarının anlamları"
   ]
  },
  {
   "cell_type": "markdown",
   "metadata": {
    "collapsed": false
   },
   "source": [
    "![](./sekiller/AkisDiyagramiAraclari.svg)"
   ]
  },
  {
   "cell_type": "markdown",
   "metadata": {
    "collapsed": false
   },
   "source": [
    "### Bazı ilginç akış diyagramı siteleri\n",
    "https://www.101computing.net/from-flowcharts-to-python-code/ \n",
    "\n",
    "https://www.codeavengers.com/notes/planning/flowcharts\n",
    "\n",
    "https://www.pygame.org/project/355/3919\n",
    "\n",
    "http://www.flowgorithm.org/about/index.htm"
   ]
  },
  {
   "cell_type": "markdown",
   "metadata": {
    "collapsed": false
   },
   "source": [
    "### Bilgisayar Programlama dersi ücretsiz (beleş)\n",
    "\n",
    "Aşağıda aldığınız Bilgisayar programla dersinin ilk aşaması olan bir dersin  \n",
    "web adresi verilmiştir. Devamında ise derse kayıt ücretini (Güncel kurdan 49 Dolar = 273.91 TL.)  \n",
    "görmektesiniz. Dersinizin kıymetini bilmeniz ümidiyle...\n",
    "\n",
    "#### Computational Thinking for Problem Solving <br> (Problem Çözmede Hesaplı (Aşamalı) Düşünme)\n",
    "\n",
    "https://www.coursera.org/learn/computational-thinking-problem-solving\n",
    "\n",
    "Computational thinking is the process of approaching a problem in a systematic manner and  \n",
    "creating and expressing a solution such that it can be carried out by a computer.  But you  \n",
    "don't need to be a computer scientist to think like a computer scientist! ...\n",
    "\n",
    "\n",
    "#### Coursera\n",
    "\n",
    "Coursera is an online education company that partners with 160 of the world’s top universities and  \n",
    "industry leaders to offer courses, Specializations, and degrees that empower learners around the world  \n",
    "to achieve their career, educational, and personal enrichment goals throughout their lives...\n",
    "\n",
    "![](./sekiller/Coursera_paymnet.png)"
   ]
  },
  {
   "cell_type": "markdown",
   "metadata": {
    "collapsed": false
   },
   "source": [
    "### Algoritma örnekleri:\n",
    "\n",
    "---\n",
    "**Örnek 1:** Bir bilgisayar kullanıcısı tarafından verilen, \n",
    "iki sayının toplamını bulmayı sağlayan algoritmayı yazınız.\n",
    "\n",
    "---\n",
    "\n",
    "1. Başla\n",
    "2. Kullanıcıdan \"a\" ve \"b\" sayılarını al.\n",
    "3. \"a\" ve \"b\"'yi topla \"Toplam\"a aktar.\n",
    "4. \"Toplam\"ı yazdır.\n",
    "5. Bitir"
   ]
  },
  {
   "cell_type": "markdown",
   "metadata": {
    "collapsed": false
   },
   "source": [
    "Yukarıdaki örneğin akış diyagramı:\n",
    "\n",
    "\n",
    "<img width='10%' src='./sekiller/toplama_akis_diyagrami.svg'>"
   ]
  },
  {
   "cell_type": "code",
   "execution_count": 21,
   "metadata": {
    "cocalc": {
     "outputs": {
      "0": {
       "name": "input",
       "opts": {
        "password": false,
        "prompt": "a = ?"
       },
       "output_type": "stream",
       "value": "4"
      },
      "1": {
       "name": "input",
       "opts": {
        "password": false,
        "prompt": "b = ?"
       },
       "output_type": "stream",
       "value": "5"
      }
     }
    },
    "collapsed": false
   },
   "outputs": [
    {
     "name": "stdout",
     "output_type": "stream",
     "text": "a = ? 4"
    },
    {
     "name": "stdout",
     "output_type": "stream",
     "text": "b = ? 5"
    },
    {
     "name": "stdout",
     "output_type": "stream",
     "text": [
      "9.0\n"
     ]
    }
   ],
   "source": [
    "# ************************\n",
    "# PYTHON 3 kullanılacak\n",
    "# ************************\n",
    "\n",
    "# yukarıdaki algoritmayı uygulayan Python programını yaz.\n",
    "a = float(input('a = ?'))\n",
    "b = float(input('b = ?'))\n",
    "\n",
    "Toplam = a + b\n",
    "\n",
    "print(Toplam)"
   ]
  },
  {
   "cell_type": "markdown",
   "metadata": {
    "collapsed": false
   },
   "source": [
    "---\n",
    "**Örnek 2:** Bir dairenin çevresini hesaplamak için gerekli algoritmayı tasarlayınız.\n",
    "\n",
    "---"
   ]
  },
  {
   "cell_type": "markdown",
   "metadata": {
    "collapsed": false
   },
   "source": [
    "1. Başla\n",
    "2. Dairenin yarı çapı (r) nedir?\n",
    "3. pi sayısını tanımla (3.14159-->pi).\n",
    "4. 2 x pi x r --> çevresi\n",
    "5. çevresini yazdır.\n",
    "6. Bitir."
   ]
  },
  {
   "cell_type": "markdown",
   "metadata": {
    "collapsed": false
   },
   "source": [
    "<img width='8%' src='./sekiller/dairenin_cevresi.svg?'/>"
   ]
  },
  {
   "cell_type": "code",
   "execution_count": 6,
   "metadata": {
    "cocalc": {
     "outputs": {
      "0": {
       "name": "input",
       "opts": {
        "password": false,
        "prompt": "r=?"
       },
       "output_type": "stream",
       "value": "2"
      }
     }
    },
    "collapsed": false
   },
   "outputs": [
    {
     "name": "stdout",
     "output_type": "stream",
     "text": "r=? 2"
    },
    {
     "name": "stdout",
     "output_type": "stream",
     "text": [
      "12.56636\n"
     ]
    }
   ],
   "source": [
    "r = float(input('r=?'))\n",
    "pi = 3.14159\n",
    "cevre = 2*pi*r\n",
    "print(cevre)"
   ]
  },
  {
   "cell_type": "markdown",
   "metadata": {
    "collapsed": false
   },
   "source": [
    "---\n",
    "\n",
    "**Örnek 3:** a ve b gibi birbirinden farklı iki sayıdan büyük olanın  \n",
    "yazılmasını sağlayan algoritmayı yazınız.\n",
    "\n",
    "---\n",
    "1. Başla.\n",
    "2. a ve b sayılarını kullanıcıdan al.\n",
    "3. Eğer a>b ise a --> buyuk değilse b --> buyuk\n",
    "4. buyuk'ün değerini yazdır.\n",
    "5. Bitir."
   ]
  },
  {
   "cell_type": "markdown",
   "metadata": {
    "collapsed": false
   },
   "source": [
    "<img width='18%' src='./sekiller/buyuk_olani_bul.svg'/>"
   ]
  },
  {
   "cell_type": "code",
   "execution_count": 4,
   "metadata": {
    "cocalc": {
     "outputs": {
      "0": {
       "name": "input",
       "opts": {
        "password": false,
        "prompt": "a = ?"
       },
       "output_type": "stream",
       "value": "4"
      },
      "1": {
       "name": "input",
       "opts": {
        "password": false,
        "prompt": "b = ?"
       },
       "output_type": "stream",
       "value": "4.5"
      }
     }
    },
    "collapsed": false
   },
   "outputs": [
    {
     "name": "stdout",
     "output_type": "stream",
     "text": "a = ? 4"
    },
    {
     "name": "stdout",
     "output_type": "stream",
     "text": "b = ? 4.5"
    },
    {
     "name": "stdout",
     "output_type": "stream",
     "text": [
      "4.5\n"
     ]
    }
   ],
   "source": [
    "a = float(raw_input('a = ?'))\n",
    "b = float(raw_input('b = ?'))\n",
    "\n",
    "if a>b:\n",
    "    buyuk = a\n",
    "else:\n",
    "    buyuk = b\n",
    "\n",
    "print buyuk"
   ]
  },
  {
   "cell_type": "markdown",
   "metadata": {
    "collapsed": false
   },
   "source": [
    "---\n",
    "**Örnek 4-a:** 1'den 10'a kadar saymak için gerekli algoritmayı yazınız.\n",
    "\n",
    "---\n",
    "1. Başla\n",
    "2. sayaç değişkeni i'nin ilk değer 0 olsun. (i = 0)\n",
    "3. i + 1 --> i\n",
    "4. i'yi yazdır.\n",
    "5. Eğer i<10 ise 3'e git değilse 6'ya devam et\n",
    "6. Bitir.\n",
    "\n",
    "\n",
    "<img width='200' src='./sekiller/dongu_algoritmasi.svg'/>"
   ]
  },
  {
   "cell_type": "markdown",
   "metadata": {
    "collapsed": false
   },
   "source": [
    "---\n",
    "**Örnek 4-b:** 1'den 10'a kadar saymak için gerekli algoritmayı yazınız.\n",
    "\n",
    "---\n",
    "1. Başla\n",
    "2. sayaç değişkeni i'nin ilk değer 0 olsun. (i = 0)\n",
    "3. Eğer i<10 ise 4'e devam et değilse 7'ye git\n",
    "4. i + 1 --> i  (i = i + 1)\n",
    "5. i'yi yazdır.\n",
    "6. 3'e git\n",
    "7. Bitir.\n",
    "\n",
    "<img width='200' src='./sekiller/dongu_2_algoritma.svg'/>"
   ]
  },
  {
   "cell_type": "code",
   "execution_count": 12,
   "metadata": {
    "collapsed": false
   },
   "outputs": [
    {
     "name": "stdout",
     "output_type": "stream",
     "text": [
      "1\n",
      "2\n",
      "3\n",
      "4\n",
      "5\n",
      "6\n",
      "7\n",
      "8\n",
      "9\n",
      "10\n"
     ]
    }
   ],
   "source": [
    "i=0\n",
    "while i<10:\n",
    "    i = i + 1\n",
    "    print(i)"
   ]
  },
  {
   "cell_type": "markdown",
   "metadata": {
    "collapsed": false
   },
   "source": [
    "---\n",
    "**Örnek 5:** 1'den 10'a kadar olan tam sayıları toplamak için gerekli algoritmayı yazınız.\n",
    "\n",
    "---\n",
    "\n",
    "1. Başla\n",
    "2. sayaç değişkeni i'nin ilk değer 0 olsun. (i = 0)\n",
    "3. toplam = 0 \n",
    "3. Eğer i<10 ise 4'e devam et değilse 8'e git\n",
    "4. i + 1 --> i  (i = i + 1)\n",
    "5. toplam + i --> toplam\n",
    "6. i'yi ve toplam'ı yazdır.\n",
    "7. 3'e git\n",
    "8. Bitir.\n",
    "\n",
    "<img width='200' src='./sekiller/dongu_ve_toplama_1.svg'/>"
   ]
  },
  {
   "cell_type": "code",
   "execution_count": 6,
   "metadata": {
    "collapsed": false
   },
   "outputs": [
    {
     "name": "stdout",
     "output_type": "stream",
     "text": [
      "1 1\n",
      "2 3\n",
      "3 6\n",
      "4 10\n",
      "5 15\n",
      "6 21\n",
      "7 28\n",
      "8 36\n",
      "9 45\n",
      "10 55\n"
     ]
    }
   ],
   "source": [
    "i = 0\n",
    "toplam = 0\n",
    "while i<10:\n",
    "    i = i + 1\n",
    "    toplam = toplam + i\n",
    "    print i, toplam"
   ]
  },
  {
   "cell_type": "markdown",
   "metadata": {
    "collapsed": false
   },
   "source": [
    "---\n",
    "**Örnek 6:**  1'den 10'a kadar olan tam sayıları birbiriyle çarpmak için gerekli algoritmayı yaz.\n",
    "\n",
    "---\n",
    "1. Başla\n",
    "2. sayaç değişkeni i'nin ilk değer 0 olsun. (i = 0)\n",
    "3. carp = 1\n",
    "3. Eğer i<10 ise 4'e devam et değilse 8'e git\n",
    "4. i + 1 --> i  (i = i + 1)\n",
    "5. carp * i --> carp\n",
    "6. i'yi ve carp'ı yazdır.\n",
    "7. 3'e git\n",
    "8. Bitir.\n",
    "\n",
    "<img width='200' src='./sekiller/carpma_ve_dongu_1.svg'/>"
   ]
  },
  {
   "cell_type": "code",
   "execution_count": 8,
   "metadata": {
    "collapsed": false
   },
   "outputs": [
    {
     "name": "stdout",
     "output_type": "stream",
     "text": [
      "1 1\n",
      "2 2\n",
      "3 6\n",
      "4 24\n",
      "5 120\n",
      "6 720\n",
      "7 5040\n",
      "8 40320\n",
      "9 362880\n",
      "10 3628800\n"
     ]
    }
   ],
   "source": [
    "i = 0\n",
    "carp = 1\n",
    "while i<10:\n",
    "    i = i + 1\n",
    "    carp = carp * i\n",
    "    print i, carp"
   ]
  },
  {
   "cell_type": "markdown",
   "metadata": {
    "collapsed": false
   },
   "source": [
    "---\n",
    "**Örnek 7-a:**  [0 , 20] aralığındaki bütün tek tamsayıların toplamını elde edebilen  \n",
    "algoritmayı geliştiriniz ve bu algoritmanın akış diyagramını çiziniz.\n",
    "\n",
    "---"
   ]
  },
  {
   "cell_type": "code",
   "execution_count": 7,
   "metadata": {
    "collapsed": false
   },
   "outputs": [
    {
     "name": "stdout",
     "output_type": "stream",
     "text": [
      "aradığımız cevap bu ama algoritma bu değil!\n",
      "100\n"
     ]
    }
   ],
   "source": [
    "print \"aradığımız cevap bu ama algoritma bu değil!\"\n",
    "print 1 + 3 + 5 + 7 + 9 + 11 + 13 + 15 + 17 + 19"
   ]
  },
  {
   "cell_type": "markdown",
   "metadata": {
    "collapsed": false
   },
   "source": [
    "1. Başla\n",
    "2. sayaç değişkeni i'nin ilk değer 1 olsun. (i = 1)\n",
    "3. toplam = 0 \n",
    "4. Eğer i<20 ise 5'e devam et değilse 9'e git\n",
    "5. topam = toplam + i\n",
    "6. i = i + 2\n",
    "7. i'yi ve toplam'ı yazdır.\n",
    "8. 3'e git\n",
    "9. Bitir.\n",
    "\n",
    "<img width='15%' src='./sekiller/dongu_ve_teksayi_toplama.svg'/>"
   ]
  },
  {
   "cell_type": "code",
   "execution_count": 45,
   "metadata": {
    "collapsed": false,
    "scrolled": true
   },
   "outputs": [
    {
     "name": "stdout",
     "output_type": "stream",
     "text": [
      "1 1\n",
      "3 4\n",
      "5 9\n",
      "7 16\n",
      "9 25\n",
      "11 36\n",
      "13 49\n",
      "15 64\n",
      "17 81\n",
      "19 100\n"
     ]
    }
   ],
   "source": [
    "i = 1\n",
    "toplam = 0\n",
    "while i<20:\n",
    "    toplam = toplam + i\n",
    "    print (i, toplam)\n",
    "    i = i + 2"
   ]
  },
  {
   "cell_type": "markdown",
   "metadata": {
    "collapsed": false
   },
   "source": [
    "---\n",
    "**Örnek 7-b:**  $a$, $b$ birer çift sayı ve $a\\lt b$ olmak üzere, $[a , b]$ aralığındaki   \n",
    "bütün tek tamsayıların toplamını döngü kullanmadan elde edebilecek bir algoritma geliştiriniz.\n",
    "\n",
    "---"
   ]
  },
  {
   "cell_type": "code",
   "execution_count": 31,
   "metadata": {
    "collapsed": false
   },
   "outputs": [
    {
     "name": "stdout",
     "output_type": "stream",
     "text": [
      "Bütün Sayılar\n",
      "0, 1, 2, 3, 4, 5, 6, 7, 8, 9, 10, 11, 12, 13, 14, 15, 16, 17, 18, 19, 20, \n",
      "\n",
      "Tek Sayılar\n",
      "1, 3, 5, 7, 9, 11, 13, 15, 17, 19, \n",
      "\n",
      "Çift Sayılar\n",
      "0, 2, 4, 6, 8, 10, 12, 14, 16, 18, 20, "
     ]
    }
   ],
   "source": [
    "print(\"Bütün Sayılar\")\n",
    "for i in range(21):\n",
    "    print(i, end=\", \")\n",
    "\n",
    "print(\"\\n\\nTek Sayılar\", end=\"\\n\")\n",
    "for i in range(1, 21,2):\n",
    "    print(i, end=\", \")\n",
    "\n",
    "print(\"\\n\\nÇift Sayılar\", end=\"\\n\")\n",
    "for i in range(0, 21,2):\n",
    "    print(i, end=\", \")"
   ]
  },
  {
   "cell_type": "code",
   "execution_count": 44,
   "metadata": {
    "collapsed": false
   },
   "outputs": [
    {
     "name": "stdout",
     "output_type": "stream",
     "text": [
      "25000000.0\n"
     ]
    }
   ],
   "source": [
    "m = 10000\n",
    "toplam = m**2/4\n",
    "print(toplam)"
   ]
  },
  {
   "cell_type": "markdown",
   "metadata": {
    "collapsed": false
   },
   "source": [
    "---\n",
    "**Örnek 8:**  a, b ve c gibi bir birinden farklı üç sayıyı kullanıcıdan alıp  \n",
    "en küçüğünü bulan algoritmayı geliştiriniz ve bu algoritmanın akış diyagramını çiziniz.\n",
    "\n",
    "---"
   ]
  },
  {
   "cell_type": "markdown",
   "metadata": {
    "collapsed": false
   },
   "source": [
    "1. Başla\n",
    "2. a, b, c sayılarını al.\n",
    "3. a --> kucuk olsun.\n",
    "4. Eğer b < kucuk ise kucuk = b  (değilse 5'e git.)\n",
    "5. Eğer c < kucuk ise kucuk = c  (değilse 6'ya git.)\n",
    "6. kucuk'ün değerini yazdır.\n",
    "7. Bitir\n",
    "\n",
    "<img width='300' src='./sekiller/uc_sayidan_kucuk_olani.svg'/>"
   ]
  },
  {
   "cell_type": "code",
   "execution_count": 105,
   "metadata": {
    "cocalc": {
     "outputs": {
      "0": {
       "name": "input",
       "opts": {
        "password": false,
        "prompt": "a = ?"
       },
       "output_type": "stream",
       "value": "3"
      },
      "1": {
       "name": "input",
       "opts": {
        "password": false,
        "prompt": "b = ?"
       },
       "output_type": "stream",
       "value": "1"
      },
      "2": {
       "name": "input",
       "opts": {
        "password": false,
        "prompt": "c = ?"
       },
       "output_type": "stream",
       "value": "2"
      }
     }
    },
    "collapsed": false
   },
   "outputs": [
    {
     "name": "stdout",
     "output_type": "stream",
     "text": "a = ? 3"
    },
    {
     "name": "stdout",
     "output_type": "stream",
     "text": "b = ? 1"
    },
    {
     "name": "stdout",
     "output_type": "stream",
     "text": "c = ? 2"
    },
    {
     "name": "stdout",
     "output_type": "stream",
     "text": [
      "Üç sayının en küçüğü 1.0 dir.\n"
     ]
    }
   ],
   "source": [
    "a = float(input('a = ?'))\n",
    "b = float(input('b = ?'))\n",
    "c = float(input('c = ?'))\n",
    "\n",
    "kucuk = a\n",
    "if b < kucuk: kucuk = b\n",
    "\n",
    "if c < kucuk: kucuk = c\n",
    "\n",
    "print (\"Üç sayının en küçüğü %s dir.\"%kucuk)"
   ]
  },
  {
   "cell_type": "markdown",
   "metadata": {
    "collapsed": false
   },
   "source": [
    "---\n",
    "**Örnek 9:**  a, b, c gibi üç farklı sayıyı büyükten küçüğe doğru sıralayan bir algoritma geliştiriniz.\n",
    "\n",
    "---\n",
    "\n",
    "Eğer a, b, c değerleri 1, 2, 3 sayılarından herhangi biriyse olasılıklar tablosu aşağıdaki gibidir.\n",
    "```\n",
    "a b c\n",
    "1 2 3\n",
    "1 3 2\n",
    "2 1 3\n",
    "2 3 1\n",
    "3 1 2\n",
    "3 2 1\n",
    "```\n",
    "\n",
    "1. Başla.\n",
    "2. a, b, c sayılarını al.\n",
    "3. Eğer a<b ise degistir = a; a = b; b = degistir\n",
    "4. Eğer b<c ise degistir = b; b = c; c = degistir\n",
    "3. Eğer a<b ise degistir = a; a = b; b = degistir\n",
    "5. a, b, c 'yi yaz.\n",
    "6. Bitir\n",
    "\n",
    "<img width='300' src='./sekiller/abc_sayilarini_sirala.svg'/>"
   ]
  },
  {
   "cell_type": "code",
   "execution_count": 106,
   "metadata": {
    "cocalc": {
     "outputs": {
      "0": {
       "name": "input",
       "opts": {
        "password": false,
        "prompt": "a = ?"
       },
       "output_type": "stream",
       "value": "1"
      },
      "1": {
       "name": "input",
       "opts": {
        "password": false,
        "prompt": "b = ?"
       },
       "output_type": "stream",
       "value": "2"
      },
      "2": {
       "name": "input",
       "opts": {
        "password": false,
        "prompt": "c = ?"
       },
       "output_type": "stream",
       "value": "3"
      }
     }
    },
    "collapsed": false
   },
   "outputs": [
    {
     "name": "stdout",
     "output_type": "stream",
     "text": "a = ? 1"
    },
    {
     "name": "stdout",
     "output_type": "stream",
     "text": "b = ? 2"
    },
    {
     "name": "stdout",
     "output_type": "stream",
     "text": "c = ? 3"
    },
    {
     "name": "stdout",
     "output_type": "stream",
     "text": [
      "3.0 2.0 1.0\n"
     ]
    }
   ],
   "source": [
    "a = float(input('a = ?'))\n",
    "b = float(input('b = ?'))\n",
    "c = float(input('c = ?'))\n",
    "\n",
    "if a<b: degistir = a; a = b; b = degistir\n",
    "if b<c: degistir = b; b = c; c = degistir\n",
    "if a<b: degistir = a; a = b; b = degistir\n",
    "\n",
    "print(a, b, c)"
   ]
  },
  {
   "cell_type": "markdown",
   "metadata": {
    "collapsed": false
   },
   "source": [
    "```python\n",
    "if a<b: degistir = a; a = b; b = degistir\n",
    "```\n",
    "yerine\n",
    "```\n",
    "if a<b: b, a = a, b\n",
    "```\n",
    "kullanılabilir."
   ]
  },
  {
   "cell_type": "code",
   "execution_count": 102,
   "metadata": {
    "cocalc": {
     "outputs": {
      "0": {
       "name": "input",
       "opts": {
        "password": false,
        "prompt": "a = ?"
       },
       "output_type": "stream",
       "value": "4"
      },
      "1": {
       "name": "input",
       "opts": {
        "password": false,
        "prompt": "b = ?"
       },
       "output_type": "stream",
       "value": "12"
      },
      "2": {
       "name": "input",
       "opts": {
        "password": false,
        "prompt": "c = ?"
       },
       "output_type": "stream",
       "value": "5"
      }
     }
    },
    "collapsed": false
   },
   "outputs": [
    {
     "name": "stdout",
     "output_type": "stream",
     "text": "a = ? 4"
    },
    {
     "name": "stdout",
     "output_type": "stream",
     "text": "b = ? 12"
    },
    {
     "name": "stdout",
     "output_type": "stream",
     "text": "c = ? 5"
    },
    {
     "name": "stdout",
     "output_type": "stream",
     "text": [
      "12.0 5.0 4.0\n"
     ]
    }
   ],
   "source": [
    "a = float(input('a = ?'))\n",
    "b = float(input('b = ?'))\n",
    "c = float(input('c = ?'))\n",
    "\n",
    "if a<b: b, a = a, b\n",
    "if b<c: c, b = b, c\n",
    "if a<b: b, a = a, b\n",
    "\n",
    "print(a, b, c)"
   ]
  },
  {
   "cell_type": "code",
   "execution_count": 21,
   "metadata": {
    "cocalc": {
     "outputs": {
      "0": {
       "name": "input",
       "opts": {
        "password": false,
        "prompt": "a = ?"
       },
       "output_type": "stream",
       "value": "1"
      },
      "1": {
       "name": "input",
       "opts": {
        "password": false,
        "prompt": "b = ?"
       },
       "output_type": "stream",
       "value": "2"
      },
      "2": {
       "name": "input",
       "opts": {
        "password": false,
        "prompt": "c = ?"
       },
       "output_type": "stream",
       "value": "3"
      },
      "3": {
       "name": "input",
       "opts": {
        "password": false,
        "prompt": "d = ?"
       },
       "output_type": "stream",
       "value": "4"
      }
     }
    },
    "collapsed": false
   },
   "outputs": [
    {
     "name": "stdout",
     "output_type": "stream",
     "text": "a = ? 1"
    },
    {
     "name": "stdout",
     "output_type": "stream",
     "text": "b = ? 2"
    },
    {
     "name": "stdout",
     "output_type": "stream",
     "text": "c = ? 3"
    },
    {
     "name": "stdout",
     "output_type": "stream",
     "text": "d = ? 4"
    },
    {
     "name": "stdout",
     "output_type": "stream",
     "text": [
      "1\n",
      "2\n",
      "3\n",
      "4.0 3.0 2.0 1.0\n"
     ]
    }
   ],
   "source": [
    "# dört sayıyı büyükten küçüğe sıralayan Python programı\n",
    "a = float(raw_input('a = ?'))\n",
    "b = float(raw_input('b = ?'))\n",
    "c = float(raw_input('c = ?'))\n",
    "d = float(raw_input('d = ?'))\n",
    "\n",
    "i = 0\n",
    "while i<3:\n",
    "    i = i + 1\n",
    "    print i\n",
    "    if a<b: b, a = a, b\n",
    "    if b<c: c, b = b, c\n",
    "    if c<d: d, c = c, d\n",
    "\n",
    "\n",
    "print(a, b, c, d)"
   ]
  },
  {
   "cell_type": "markdown",
   "metadata": {
    "collapsed": false
   },
   "source": [
    "---\n",
    "**Örnek 9:**  5 elemanlı bir  listedeki tam sayıları küçükten büyüğe doğru sıralayan bir algoritma geliştiriniz.\n",
    "\n",
    "---"
   ]
  },
  {
   "cell_type": "markdown",
   "metadata": {
    "collapsed": false
   },
   "source": [
    "**Çözüm:**\n",
    "\n",
    "<img width=\"800\" src=\"./sekiller/kucukten_buyuge_sirala_1.jpeg\">"
   ]
  },
  {
   "cell_type": "markdown",
   "metadata": {
    "collapsed": false
   },
   "source": [
    "**Python programı**"
   ]
  },
  {
   "cell_type": "code",
   "execution_count": 1,
   "metadata": {
    "collapsed": false
   },
   "outputs": [
    {
     "name": "stdout",
     "output_type": "stream",
     "text": [
      "[9, 3, 5, -2, 0]\n",
      "[-2, 0, 3, 5, 9]\n"
     ]
    }
   ],
   "source": [
    "a = [9, 3, 5, -2, 0]\n",
    "print(a)\n",
    "\n",
    "j = -1\n",
    "while j<4:\n",
    "    j+=1\n",
    "    i=-1\n",
    "    while i<4:\n",
    "        i+=1\n",
    "        if a[j]<a[i]:\n",
    "            dg = a[j]\n",
    "            a[j] = a[i]\n",
    "            a[i] = dg\n",
    "\n",
    "print(a)"
   ]
  },
  {
   "cell_type": "markdown",
   "metadata": {
    "collapsed": false
   },
   "source": [
    "**Algoritmanın doğruluğunu test eden tablo (doğruluk tablosu)** "
   ]
  },
  {
   "cell_type": "code",
   "execution_count": 4,
   "metadata": {
    "collapsed": false
   },
   "outputs": [
    {
     "name": "stdout",
     "output_type": "stream",
     "text": [
      " Sıra No    j  j<3  j+1 i  i<3  i+1 a[j]<a[i]       liste      \n",
      "    01     -1 Doğru  0 -1 Doğru  0   Yanlış   [9, 3, 5, -2, 0]\n",
      "    02     -1 Doğru  0  0 Doğru  1   Yanlış   [9, 3, 5, -2, 0]\n",
      "    03     -1 Doğru  0  1 Doğru  2   Yanlış   [9, 3, 5, -2, 0]\n",
      "    04     -1 Doğru  0  2 Doğru  3   Yanlış   [9, 3, 5, -2, 0]\n",
      "    05     -1 Doğru  0  3 Doğru  4   Yanlış   [9, 3, 5, -2, 0]\n",
      "\n",
      "    06      0 Doğru  1 -1 Doğru  0   Doğru    [9, 3, 5, -2, 0]\n",
      "    07      0 Doğru  1  0 Doğru  1   Yanlış   [3, 9, 5, -2, 0]\n",
      "    08      0 Doğru  1  1 Doğru  2   Yanlış   [3, 9, 5, -2, 0]\n",
      "    09      0 Doğru  1  2 Doğru  3   Yanlış   [3, 9, 5, -2, 0]\n",
      "    10      0 Doğru  1  3 Doğru  4   Yanlış   [3, 9, 5, -2, 0]\n",
      "\n",
      "    11      1 Doğru  2 -1 Doğru  0   Yanlış   [3, 9, 5, -2, 0]\n",
      "    12      1 Doğru  2  0 Doğru  1   Doğru    [3, 9, 5, -2, 0]\n",
      "    13      1 Doğru  2  1 Doğru  2   Yanlış   [3, 5, 9, -2, 0]\n",
      "    14      1 Doğru  2  2 Doğru  3   Yanlış   [3, 5, 9, -2, 0]\n",
      "    15      1 Doğru  2  3 Doğru  4   Yanlış   [3, 5, 9, -2, 0]\n",
      "\n",
      "    16      2 Doğru  3 -1 Doğru  0   Doğru    [3, 5, 9, -2, 0]\n",
      "    17      2 Doğru  3  0 Doğru  1   Doğru    [-2, 5, 9, 3, 0]\n",
      "    18      2 Doğru  3  1 Doğru  2   Doğru    [-2, 3, 9, 5, 0]\n",
      "    19      2 Doğru  3  2 Doğru  3   Yanlış   [-2, 3, 5, 9, 0]\n",
      "    20      2 Doğru  3  3 Doğru  4   Yanlış   [-2, 3, 5, 9, 0]\n",
      "\n",
      "    21      3 Doğru  4 -1 Doğru  0   Yanlış   [-2, 3, 5, 9, 0]\n",
      "    22      3 Doğru  4  0 Doğru  1   Doğru    [-2, 3, 5, 9, 0]\n",
      "    23      3 Doğru  4  1 Doğru  2   Doğru    [-2, 0, 5, 9, 3]\n",
      "    24      3 Doğru  4  2 Doğru  3   Doğru    [-2, 0, 3, 9, 5]\n",
      "    25      3 Doğru  4  3 Doğru  4   Yanlış   [-2, 0, 3, 5, 9]\n",
      "\n"
     ]
    }
   ],
   "source": [
    "a = [9, 3, 5, -2, 0]\n",
    "j = -1\n",
    "sira = 0\n",
    "\n",
    "print (\"{:^10}{:>3}{:^7}{:^2}{:>2}{:^7}{:>3}{:^12}{:^16}\".format(\"Sıra No\", \"j\", \"j<3\", \"j+1\", \"i\", \"i<3\", \"i+1\", \"a[j]<a[i]\", \"liste\"))\n",
    "while j<4:\n",
    "    if j<4: \n",
    "        jb = \"Doğru\" \n",
    "    else: \n",
    "        jb = \"Yanlış\"\n",
    "    j += 1\n",
    "    i=-1\n",
    "    while i<4:\n",
    "        if i<4: \n",
    "            ib = \"Doğru\" \n",
    "        else: \n",
    "            ib = \"Yanlış\"\n",
    "        i+=1\n",
    "        ab = a[j]<a[i]\n",
    "\n",
    "        if ab:\n",
    "            abt = \"Doğru\" \n",
    "        else:\n",
    "            abt = \"Yanlış\"\n",
    "\n",
    "        sira += 1\n",
    "        print (\"    {:02d}    {:3d} {}{:3d}{:3d} {}{:3d} {:^10} {}\".format(sira, j-1, jb, j, i-1, ib, i, abt, a))\n",
    "        if ab:\n",
    "            a[j], a[i] = a[i], a[j]\n",
    "    print()\n"
   ]
  },
  {
   "cell_type": "markdown",
   "metadata": {
    "collapsed": false
   },
   "source": [
    "**Aynı algoritmanın biraz değiştirilmiş halinin doğruluk tablosu***"
   ]
  },
  {
   "cell_type": "code",
   "execution_count": 34,
   "metadata": {
    "collapsed": false
   },
   "outputs": [
    {
     "name": "stdout",
     "output_type": "stream",
     "text": [
      " Sıra No    j  j<3  j+1 i  i<3  i+1 a[j]<a[i]       liste      \n",
      "    01     -1 Doğru  0 -1 Doğru  0   Doğru    [9, 3, 5, -2, 0]\n",
      "    02     -1 Doğru  0  0 Doğru  1   Doğru    [3, 9, 5, -2, 0]\n",
      "    03     -1 Doğru  0  1 Doğru  2   Doğru    [3, 5, 9, -2, 0]\n",
      "    04     -1 Doğru  0  2 Doğru  3   Doğru    [3, 5, -2, 9, 0]\n",
      "\n",
      "    05      0 Doğru  1 -1 Doğru  0   Yanlış   [3, 5, -2, 0, 9]\n",
      "    06      0 Doğru  1  0 Doğru  1   Doğru    [3, 5, -2, 0, 9]\n",
      "    07      0 Doğru  1  1 Doğru  2   Doğru    [3, -2, 5, 0, 9]\n",
      "    08      0 Doğru  1  2 Doğru  3   Yanlış   [3, -2, 0, 5, 9]\n",
      "\n",
      "    09      1 Doğru  2 -1 Doğru  0   Doğru    [3, -2, 0, 5, 9]\n",
      "    10      1 Doğru  2  0 Doğru  1   Doğru    [-2, 3, 0, 5, 9]\n",
      "    11      1 Doğru  2  1 Doğru  2   Yanlış   [-2, 0, 3, 5, 9]\n",
      "    12      1 Doğru  2  2 Doğru  3   Yanlış   [-2, 0, 3, 5, 9]\n",
      "\n",
      "    13      2 Doğru  3 -1 Doğru  0   Yanlış   [-2, 0, 3, 5, 9]\n",
      "    14      2 Doğru  3  0 Doğru  1   Yanlış   [-2, 0, 3, 5, 9]\n",
      "    15      2 Doğru  3  1 Doğru  2   Yanlış   [-2, 0, 3, 5, 9]\n",
      "    16      2 Doğru  3  2 Doğru  3   Yanlış   [-2, 0, 3, 5, 9]\n",
      "\n",
      "    17      3 Doğru  4 -1 Doğru  0   Yanlış   [-2, 0, 3, 5, 9]\n",
      "    18      3 Doğru  4  0 Doğru  1   Yanlış   [-2, 0, 3, 5, 9]\n",
      "    19      3 Doğru  4  1 Doğru  2   Yanlış   [-2, 0, 3, 5, 9]\n",
      "    20      3 Doğru  4  2 Doğru  3   Yanlış   [-2, 0, 3, 5, 9]\n",
      "\n"
     ]
    }
   ],
   "source": [
    "a = [9, 3, 5, -2, 0]\n",
    "Na = len(a) - 1\n",
    "j = -1\n",
    "sira = 0\n",
    "\n",
    "print (\"{:^10}{:>3}{:^7}{:^2}{:>2}{:^7}{:>3}{:^12}{:^16}\".format(\"Sıra No\", \"j\", \"j<3\", \"j+1\", \"i\", \"i<3\", \"i+1\", \"a[j]<a[i]\", \"liste\"))\n",
    "while j<Na:\n",
    "    if j<Na: \n",
    "        jb = \"Doğru\" \n",
    "    else: \n",
    "        jb = \"Yanlış\"\n",
    "    j += 1\n",
    "    i=-1\n",
    "    while i<Na-1:\n",
    "        if i<Na-1: \n",
    "            ib = \"Doğru\" \n",
    "        else: \n",
    "            ib = \"Yanlış\"\n",
    "        i+=1\n",
    "        ab = a[i]>a[i+1]\n",
    "\n",
    "        if ab:\n",
    "            abt = \"Doğru\" \n",
    "        else:\n",
    "            abt = \"Yanlış\"\n",
    "\n",
    "        sira += 1\n",
    "        print (\"    {:02d}    {:3d} {}{:3d}{:3d} {}{:3d} {:^10} {}\".format(sira, j-1, jb, j, i-1, ib, i, abt, a))\n",
    "        if ab:\n",
    "            a[i], a[i+1] = a[i+1], a[i]\n",
    "    print()\n"
   ]
  },
  {
   "cell_type": "markdown",
   "metadata": {
    "collapsed": false
   },
   "source": [
    "**N** tane tam sayıyı sıralayabilen genelleştirilmiş Python programı."
   ]
  },
  {
   "cell_type": "code",
   "execution_count": 41,
   "metadata": {
    "collapsed": false
   },
   "outputs": [
    {
     "name": "stdout",
     "output_type": "stream",
     "text": [
      "Rastgele 50 tam sayı\n",
      "[-309, -206, 482, 438, -271, 18, 258, -275, -317, -203, 392, 5, 261, 396, 303, 50, -142, -165, -294, 0, 361, -447, -85, 306, -133, 341, 42, -360, -196, -161, 159, 447, -3, -315, 302, -266, -387, 177, 27, -160, -20, 163, 455, 51, 54, 47, -476, -249, 328, 109]\n",
      "\n",
      "Küçükten büyüğe sıralanmış 50 tam sayı\n",
      "[-476, -447, -387, -360, -317, -315, -309, -294, -275, -271, -266, -249, -206, -203, -196, -165, -161, -160, -142, -133, -85, -20, -3, 0, 5, 18, 27, 42, 47, 50, 51, 54, 109, 159, 163, 177, 258, 261, 302, 303, 306, 328, 341, 361, 392, 396, 438, 447, 455, 482]\n"
     ]
    }
   ],
   "source": [
    "import numpy as np\n",
    "\n",
    "a = list(np.random.randint(-500, 500, 50))\n",
    "\n",
    "Na = len(a) - 1\n",
    "print(\"Rastgele {} tam sayı\".format(Na+1))\n",
    "print(a)\n",
    "\n",
    "j = -1\n",
    "while j<Na:\n",
    "    j+=1\n",
    "    i=-1\n",
    "    while i<Na-1:\n",
    "        i+=1\n",
    "        if a[i]>a[i+1]:\n",
    "            a[i], a[i+1] = a[i+1], a[i]\n",
    "\n",
    "print(\"\\nKüçükten büyüğe sıralanmış {} tam sayı\".format(Na+1))\n",
    "print(a)"
   ]
  },
  {
   "cell_type": "markdown",
   "metadata": {
    "collapsed": false
   },
   "source": [
    "### Fibonacci Sayıları - Doğruluk tablosu"
   ]
  },
  {
   "cell_type": "code",
   "execution_count": 3,
   "metadata": {
    "cocalc": {
     "outputs": {
      "0": {
       "name": "input",
       "opts": {
        "password": false,
        "prompt": "n=?"
       },
       "output_type": "stream",
       "value": "6"
      }
     }
    },
    "collapsed": false
   },
   "outputs": [
    {
     "name": "stdout",
     "output_type": "stream",
     "text": "n=? 6"
    },
    {
     "name": "stdout",
     "output_type": "stream",
     "text": [
      "------------------------\n",
      "i  i<n  i+1 f0 f1 f2\n",
      "------------------------\n",
      "1  True  2   0  1  1\n",
      "2  True  3   1  1  2\n",
      "3  True  4   1  2  3\n",
      "4  True  5   2  3  5\n",
      "5  True  6   3  5  8\n",
      "6  False 7   -  -  -\n"
     ]
    }
   ],
   "source": [
    "n = int(input(\"n=?\"))\n",
    "\n",
    "f0, f1 = 0, 1 \n",
    "i = 1\n",
    "print (\"-\"*24)\n",
    "print (\"i  i<n  i+1 f0 f1 f2\")\n",
    "print (\"-\"*24)\n",
    "while i<n: \n",
    "    ib = i<n\n",
    "    i += 1\n",
    "    f2 = f1 + f0\n",
    "    print (\"{}  {}  {}   {}  {}  {}\".format(i-1, ib, i, f0, f1, f2))\n",
    "    f0, f1 = f1, f2\n",
    "\n",
    "\n",
    "ib = i<n\n",
    "print (\"{}  {} {}   -  -  -\".format(i, ib, i+1))"
   ]
  },
  {
   "cell_type": "code",
   "execution_count": 0,
   "metadata": {
    "collapsed": false
   },
   "outputs": [
   ],
   "source": [
   ]
  }
 ],
 "metadata": {
  "hide_input": false,
  "kernelspec": {
   "display_name": "Python 3 (system-wide)",
   "language": "python",
   "metadata": {
    "cocalc": {
     "description": "Python 3 programming language",
     "priority": 100,
     "url": "https://www.python.org/"
    }
   },
   "name": "python3"
  },
  "language_info": {
   "codemirror_mode": {
    "name": "ipython",
    "version": 3
   },
   "file_extension": ".py",
   "mimetype": "text/x-python",
   "name": "python",
   "nbconvert_exporter": "python",
   "pygments_lexer": "ipython3",
   "version": "3.6.9"
  },
  "toc": {
   "nav_menu": {
   },
   "number_sections": true,
   "sideBar": true,
   "skip_h1_title": false,
   "title_cell": "Table of Contents",
   "title_sidebar": "Contents",
   "toc_cell": false,
   "toc_position": {
   },
   "toc_section_display": true,
   "toc_window_display": false
  },
  "varInspector": {
   "cols": {
    "lenName": 16,
    "lenType": 16,
    "lenVar": 40
   },
   "kernels_config": {
    "python": {
     "delete_cmd_postfix": "",
     "delete_cmd_prefix": "del ",
     "library": "var_list.py",
     "varRefreshCmd": "print(var_dic_list())"
    },
    "r": {
     "delete_cmd_postfix": ") ",
     "delete_cmd_prefix": "rm(",
     "library": "var_list.r",
     "varRefreshCmd": "cat(var_dic_list()) "
    }
   },
   "types_to_exclude": [
    "module",
    "function",
    "builtin_function_or_method",
    "instance",
    "_Feature"
   ],
   "window_display": false
  }
 },
 "nbformat": 4,
 "nbformat_minor": 0
}