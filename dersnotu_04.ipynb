{
 "cells": [
  {
   "cell_type": "markdown",
   "metadata": {
    "collapsed": false
   },
   "source": [
    "# Python Programlama Dili"
   ]
  },
  {
   "cell_type": "markdown",
   "metadata": {
    "collapsed": false
   },
   "source": [
    "Aşağıdaki linkte Python diline ait resmi sitenin adresi verilmiştir.\n",
    "\n",
    "### The Python Tutorial\n",
    "\n",
    "https://docs.python.org/3/\n",
    "\n",
    "https://docs.python.org/2.7/tutorial/index.html\n",
    "\n",
    "### Python'la çalışma imkanı veren bazı siteler\n",
    "https://www.dataschool.io/cloud-services-for-jupyter-notebook/"
   ]
  },
  {
   "cell_type": "markdown",
   "metadata": {
    "collapsed": false
   },
   "source": [
    "## Değişken:\n",
    "\n",
    "Yapılacak olan bir matematiksel veya benzeri bir  \n",
    "başka işlemi genelleştirebilmek  \n",
    "için kullanılan araçlardır (sembollerdir).  \n",
    "\n",
    "Örneğin, iki sayıyı toplayacak bir program yazacaksak  \n",
    "bir kullanıcı tarafından verilecek herhangi iki sayıyı  \n",
    "temsil edebilecek a ve b olarak isimlendireceğimiz  \n",
    "iki değişken kullanabiliriz.  \n",
    "\n",
    "Böylece,\n",
    "\n",
    "toplam = a + b\n",
    "\n",
    "gibi bir işlem tanımı yapabiliriz. Buradaki a ve b  \n",
    "değişkenleri herhangi iki sayısal değeri alabilir.  "
   ]
  },
  {
   "cell_type": "code",
   "execution_count": 1,
   "metadata": {
    "collapsed": false
   },
   "outputs": [
    {
     "name": "stdout",
     "output_type": "stream",
     "text": [
      "31\n"
     ]
    }
   ],
   "source": [
    "a = 15\n",
    "b = 16\n",
    "###########################\n",
    "toplam = a + b\n",
    "print(toplam)"
   ]
  },
  {
   "cell_type": "markdown",
   "metadata": {
    "collapsed": false
   },
   "source": [
    "### Değişken adı belirleme kuralları"
   ]
  },
  {
   "cell_type": "markdown",
   "metadata": {
    "collapsed": false
   },
   "source": [
    "Aşağıdaki örnekte görüldüğü üzere  \n",
    "sayıyla başlayan bir değişken adı olamaz.  \n",
    "\n",
    "Böyle bir değişken adı yazılırsa aşağıdaki  \n",
    "\"SyntaxError: invalid syntax\" hatasıyla  \n",
    "karşılaşılır.\n",
    "\n",
    "Bu hatanın anlamı Python'un yazım kurallarına  \n",
    "uymadığınızdır."
   ]
  },
  {
   "cell_type": "code",
   "execution_count": 2,
   "metadata": {
    "collapsed": false
   },
   "outputs": [
    {
     "ename": "SyntaxError",
     "evalue": "invalid syntax (<ipython-input-2-265f9cc746c5>, line 1)",
     "output_type": "error",
     "traceback": [
      "\u001b[0;36m  File \u001b[0;32m\"<ipython-input-2-265f9cc746c5>\"\u001b[0;36m, line \u001b[0;32m1\u001b[0m\n\u001b[0;31m    3_kilo_elma = \"5 TL\"\u001b[0m\n\u001b[0m              ^\u001b[0m\n\u001b[0;31mSyntaxError\u001b[0m\u001b[0;31m:\u001b[0m invalid syntax\n"
     ]
    }
   ],
   "source": [
    "3_kilo_elma = \"5 TL\""
   ]
  },
  {
   "cell_type": "code",
   "execution_count": 2,
   "metadata": {
    "collapsed": false
   },
   "outputs": [
    {
     "name": "stdout",
     "output_type": "stream",
     "text": [
      "5 TL\n"
     ]
    }
   ],
   "source": [
    "üç_kilo_elma = \"5 TL\"\n",
    "print(üç_kilo_elma)"
   ]
  },
  {
   "cell_type": "code",
   "execution_count": 3,
   "metadata": {
    "collapsed": false
   },
   "outputs": [
   ],
   "source": [
    "_deger = 51"
   ]
  },
  {
   "cell_type": "code",
   "execution_count": 4,
   "metadata": {
    "collapsed": false
   },
   "outputs": [
   ],
   "source": [
    "elmanin_kutlesi = 23"
   ]
  },
  {
   "cell_type": "code",
   "execution_count": 21,
   "metadata": {
    "collapsed": false
   },
   "outputs": [
    {
     "ename": "SyntaxError",
     "evalue": "can't assign to keyword (<ipython-input-21-68f64a77f341>, line 1)",
     "output_type": "error",
     "traceback": [
      "\u001b[0;36m  File \u001b[0;32m\"<ipython-input-21-68f64a77f341>\"\u001b[0;36m, line \u001b[0;32m1\u001b[0m\n\u001b[0;31m    False = 25\u001b[0m\n\u001b[0m              ^\u001b[0m\n\u001b[0;31mSyntaxError\u001b[0m\u001b[0;31m:\u001b[0m can't assign to keyword\n"
     ]
    }
   ],
   "source": [
    "False = 25"
   ]
  },
  {
   "cell_type": "code",
   "execution_count": 5,
   "metadata": {
    "collapsed": false
   },
   "outputs": [
   ],
   "source": [
    "False38 = 25\n",
    "False_ = 25\n",
    "false = 25\n",
    "false_ = 25"
   ]
  },
  {
   "cell_type": "code",
   "execution_count": 12,
   "metadata": {
    "collapsed": false
   },
   "outputs": [
    {
     "name": "stdout",
     "output_type": "stream",
     "text": [
      "Gerçekten\n"
     ]
    }
   ],
   "source": [
    "# Değişken adı olarak Türkçe karakterler kullanılabiliyor.\n",
    "# Yine de kullanmanızı pek tavsiye etmem...\n",
    "Türkçe_Harfleri_Tanıyor = \"Gerçekten\"\n",
    "print(Türkçe_Harfleri_Tanıyor)"
   ]
  },
  {
   "cell_type": "code",
   "execution_count": 7,
   "metadata": {
    "collapsed": false
   },
   "outputs": [
    {
     "name": "stdout",
     "output_type": "stream",
     "text": [
      "1000000000\n",
      "1.0\n"
     ]
    }
   ],
   "source": [
    "# Değişken adı olarak Çince karakterler bile kullanılabiliyor.\n",
    "中國佬 = 10**9\n",
    "print(中國佬)\n",
    "print(中國佬/中國佬)"
   ]
  },
  {
   "cell_type": "markdown",
   "metadata": {
    "collapsed": false
   },
   "source": [
    "### Değişken adı olarak kullanılamayacak Python'a ait anahtar kelimeler (keywords)"
   ]
  },
  {
   "cell_type": "code",
   "execution_count": 5,
   "metadata": {
    "collapsed": false
   },
   "outputs": [
    {
     "name": "stdout",
     "output_type": "stream",
     "text": [
      "['False', 'None', 'True', 'and', 'as', 'assert', 'break', 'class', 'continue', 'def', 'del']\n",
      "['elif', 'else', 'except', 'finally', 'for', 'from', 'global', 'if', 'import', 'in', 'is']\n",
      "['lambda', 'nonlocal', 'not', 'or', 'pass', 'raise', 'return', 'try', 'while', 'with', 'yield']\n"
     ]
    }
   ],
   "source": [
    "import keyword\n",
    "keyList = keyword.kwlist\n",
    "Lkey = len(keyList)\n",
    "\n",
    "print(keyList[:11])\n",
    "print(keyList[11:22])\n",
    "print(keyList[22:])"
   ]
  },
  {
   "cell_type": "markdown",
   "metadata": {
    "collapsed": false
   },
   "source": [
    "### Python'da nesne tipleri\n",
    "\n",
    "Temel 5 nesne tipi vardır:\n",
    "- Numbers: Sayılar\n",
    "- String : Metin veya karakter tipinde veri\n",
    "- List : Küme şeklindeki veriler\n",
    "- Tuple : Küme şeklindeki veriler ama korunaklı\n",
    "- Dictionary : Küme şeklinde veri, her bir veri bir\n",
    "anahtar kelimeyle çağırılabilir.\n",
    "- Function:\n",
    "- Class:\n",
    "- Boolean: Mantık tipi"
   ]
  },
  {
   "cell_type": "markdown",
   "metadata": {
    "collapsed": false
   },
   "source": [
    "#### Sayı tipi:\n",
    "\n",
    "Şunlar örnek verilebilir.\n",
    "1. reel sayılar: Python'da float tipi olarak adlandırılır.\n",
    "2. tam sayılar: Python'da int tipi olarak adlandırılır. Integer\n",
    "kelimesinin kısaltmasıdır.\n",
    "3. karmaşık sayılar: Python'da complex tipi olarak adlandırılır.\n",
    "\n",
    "#### type() komutu\n",
    "Bu komutla bir nesnenin tipi öğrenilebilir."
   ]
  },
  {
   "cell_type": "code",
   "execution_count": 8,
   "metadata": {
    "collapsed": false
   },
   "outputs": [
    {
     "data": {
      "text/plain": [
       "int"
      ]
     },
     "execution_count": 8,
     "metadata": {
     },
     "output_type": "execute_result"
    }
   ],
   "source": [
    "# 5 sayısının tipi int yani tam sayıdır.\n",
    "type(5)"
   ]
  },
  {
   "cell_type": "code",
   "execution_count": 9,
   "metadata": {
    "collapsed": false
   },
   "outputs": [
    {
     "data": {
      "text/plain": [
       "float"
      ]
     },
     "execution_count": 9,
     "metadata": {
     },
     "output_type": "execute_result"
    }
   ],
   "source": [
    "# 5. sayısının tipi float yani reel sayıdır.\n",
    "type(5.)"
   ]
  },
  {
   "cell_type": "code",
   "execution_count": 10,
   "metadata": {
    "collapsed": false
   },
   "outputs": [
    {
     "data": {
      "text/plain": [
       "complex"
      ]
     },
     "execution_count": 10,
     "metadata": {
     },
     "output_type": "execute_result"
    }
   ],
   "source": [
    "# 5j sayısın tipi complex yani karmaşık sayı tipidir.\n",
    "type(5j)"
   ]
  },
  {
   "cell_type": "code",
   "execution_count": 35,
   "metadata": {
    "collapsed": false
   },
   "outputs": [
    {
     "data": {
      "text/plain": [
       "complex"
      ]
     },
     "execution_count": 35,
     "metadata": {
     },
     "output_type": "execute_result"
    }
   ],
   "source": [
    "type(5+5j)"
   ]
  },
  {
   "cell_type": "code",
   "execution_count": 11,
   "metadata": {
    "collapsed": false
   },
   "outputs": [
    {
     "ename": "NameError",
     "evalue": "name 'j' is not defined",
     "output_type": "error",
     "traceback": [
      "\u001b[0;31m---------------------------------------------------------------------------\u001b[0m",
      "\u001b[0;31mNameError\u001b[0m                                 Traceback (most recent call last)",
      "\u001b[0;32m<ipython-input-11-3eedd8854d1e>\u001b[0m in \u001b[0;36m<module>\u001b[0;34m()\u001b[0m\n\u001b[0;32m----> 1\u001b[0;31m \u001b[0mj\u001b[0m\u001b[0;34m\u001b[0m\u001b[0;34m\u001b[0m\u001b[0m\n\u001b[0m",
      "\u001b[0;31mNameError\u001b[0m: name 'j' is not defined"
     ]
    }
   ],
   "source": [
    "j"
   ]
  },
  {
   "cell_type": "code",
   "execution_count": 16,
   "metadata": {
    "collapsed": false
   },
   "outputs": [
    {
     "data": {
      "text/plain": [
       "1j"
      ]
     },
     "execution_count": 16,
     "metadata": {
     },
     "output_type": "execute_result"
    }
   ],
   "source": [
    "# matematikteki \"i\" sanal sayısı\n",
    "1j # 'dir"
   ]
  },
  {
   "cell_type": "code",
   "execution_count": 17,
   "metadata": {
    "collapsed": false
   },
   "outputs": [
    {
     "data": {
      "text/plain": [
       "(-1+0j)"
      ]
     },
     "execution_count": 17,
     "metadata": {
     },
     "output_type": "execute_result"
    }
   ],
   "source": [
    "1j**2"
   ]
  },
  {
   "cell_type": "code",
   "execution_count": 13,
   "metadata": {
    "collapsed": false
   },
   "outputs": [
    {
     "data": {
      "text/plain": [
       "complex"
      ]
     },
     "execution_count": 13,
     "metadata": {
     },
     "output_type": "execute_result"
    }
   ],
   "source": [
    "type(0 + 0j)"
   ]
  },
  {
   "cell_type": "code",
   "execution_count": 37,
   "metadata": {
    "collapsed": false
   },
   "outputs": [
    {
     "data": {
      "text/plain": [
       "complex"
      ]
     },
     "execution_count": 37,
     "metadata": {
     },
     "output_type": "execute_result"
    }
   ],
   "source": [
    "# en büyük sayı kümesi işlem sonucunda elde edilen\n",
    "# sayının tipini verir\n",
    "type((5+5j)*5.)"
   ]
  },
  {
   "cell_type": "code",
   "execution_count": 38,
   "metadata": {
    "collapsed": false
   },
   "outputs": [
    {
     "data": {
      "text/plain": [
       "int"
      ]
     },
     "execution_count": 38,
     "metadata": {
     },
     "output_type": "execute_result"
    }
   ],
   "source": [
    "type(5*13)"
   ]
  },
  {
   "cell_type": "code",
   "execution_count": 39,
   "metadata": {
    "collapsed": false
   },
   "outputs": [
    {
     "data": {
      "text/plain": [
       "float"
      ]
     },
     "execution_count": 39,
     "metadata": {
     },
     "output_type": "execute_result"
    }
   ],
   "source": [
    "type(5*13.0)"
   ]
  },
  {
   "cell_type": "markdown",
   "metadata": {
    "collapsed": false
   },
   "source": [
    "### String tipi\n",
    "\n",
    "Sayısal olmayan verileri temsil edebilen bir tiptir. Örneğin,\n",
    "bir telefon rehberi programı yazmak istiyoruz. Burada şahıs adları,  \n",
    "adres bilgileri, email bilgileri v.b. yukarıdaki üç tiple temsil edilemez  \n",
    "veya temsil zordur.\n",
    "\n",
    "Bu tipteki veri, verinin etrafına tırnak işaretleri konularak oluşturulur."
   ]
  },
  {
   "cell_type": "code",
   "execution_count": 42,
   "metadata": {
    "collapsed": false
   },
   "outputs": [
    {
     "data": {
      "text/plain": [
       "str"
      ]
     },
     "execution_count": 42,
     "metadata": {
     },
     "output_type": "execute_result"
    }
   ],
   "source": [
    "type(\"mesut\")"
   ]
  },
  {
   "cell_type": "code",
   "execution_count": 46,
   "metadata": {
    "collapsed": false
   },
   "outputs": [
    {
     "data": {
      "text/plain": [
       "str"
      ]
     },
     "execution_count": 46,
     "metadata": {
     },
     "output_type": "execute_result"
    }
   ],
   "source": [
    "type('mesut')"
   ]
  },
  {
   "cell_type": "code",
   "execution_count": 51,
   "metadata": {
    "collapsed": false
   },
   "outputs": [
    {
     "data": {
      "text/plain": [
       "str"
      ]
     },
     "execution_count": 51,
     "metadata": {
     },
     "output_type": "execute_result"
    }
   ],
   "source": [
    "type(\n",
    "\"\"\"\n",
    "MEY BİTER SAKİ KALIR,\n",
    "HER RENK SOLAR HAKİ KALIR,\n",
    "DİPLOMA İNSANIN CEHLİNİ ALSA DA,\n",
    "MAYASINDA VARSA EŞEKLİK BAKİ KALIR\n",
    "\"\"\")"
   ]
  },
  {
   "cell_type": "code",
   "execution_count": 55,
   "metadata": {
    "collapsed": false
   },
   "outputs": [
    {
     "name": "stdout",
     "output_type": "stream",
     "text": [
      "45\n"
     ]
    },
    {
     "data": {
      "text/plain": [
       "str"
      ]
     },
     "execution_count": 55,
     "metadata": {
     },
     "output_type": "execute_result"
    }
   ],
   "source": [
    "print(\"4\" + \"5\")\n",
    "type(\"4\" + \"5\")"
   ]
  },
  {
   "cell_type": "code",
   "execution_count": 3,
   "metadata": {
    "collapsed": false
   },
   "outputs": [
    {
     "name": "stdout",
     "output_type": "stream",
     "text": [
      "mesut karakoç\n"
     ]
    }
   ],
   "source": [
    "ad = \"mesut\"\n",
    "soyad = \"karakoç\"\n",
    "ad\n",
    "print(ad + \" \" + soyad)"
   ]
  },
  {
   "cell_type": "code",
   "execution_count": 58,
   "metadata": {
    "collapsed": false
   },
   "outputs": [
    {
     "name": "stdout",
     "output_type": "stream",
     "text": [
      "********************************\n"
     ]
    },
    {
     "data": {
      "text/plain": [
       "str"
      ]
     },
     "execution_count": 58,
     "metadata": {
     },
     "output_type": "execute_result"
    }
   ],
   "source": [
    "print(32*\"*\")\n",
    "type(32*\"*\")"
   ]
  },
  {
   "cell_type": "markdown",
   "metadata": {
    "collapsed": false
   },
   "source": [
    "### Liste tipi (List type)\n",
    "\n",
    "Küme veya dizi şeklindeki verilerdir."
   ]
  },
  {
   "cell_type": "code",
   "execution_count": 59,
   "metadata": {
    "collapsed": false
   },
   "outputs": [
    {
     "data": {
      "text/plain": [
       "['A', 'B', 'Ç', 'D', 'E']"
      ]
     },
     "execution_count": 59,
     "metadata": {
     },
     "output_type": "execute_result"
    }
   ],
   "source": [
    "# Türkçenin ilk 6 harfini içeren bir liste tipi veri\n",
    "[\"A\", \"B\", \"C\", \"Ç\", \"D\", \"E\"]"
   ]
  },
  {
   "cell_type": "code",
   "execution_count": 60,
   "metadata": {
    "collapsed": false
   },
   "outputs": [
    {
     "data": {
      "text/plain": [
       "list"
      ]
     },
     "execution_count": 60,
     "metadata": {
     },
     "output_type": "execute_result"
    }
   ],
   "source": [
    "type([\"A\", \"B\", \"C\", \"Ç\", \"D\", \"E\"])"
   ]
  },
  {
   "cell_type": "code",
   "execution_count": 61,
   "metadata": {
    "collapsed": false
   },
   "outputs": [
    {
     "data": {
      "text/plain": [
       "[]"
      ]
     },
     "execution_count": 61,
     "metadata": {
     },
     "output_type": "execute_result"
    }
   ],
   "source": [
    "# boş liste\n",
    "[]"
   ]
  },
  {
   "cell_type": "code",
   "execution_count": 62,
   "metadata": {
    "collapsed": false
   },
   "outputs": [
    {
     "data": {
      "text/plain": [
       "list"
      ]
     },
     "execution_count": 62,
     "metadata": {
     },
     "output_type": "execute_result"
    }
   ],
   "source": [
    "type([])"
   ]
  },
  {
   "cell_type": "markdown",
   "metadata": {
    "collapsed": false
   },
   "source": [
    "### Mantık (bool) Tipi\n",
    "\n",
    "Mantık işlemleri sonucu ortaya\n",
    "çıkan verilerin tipidir.\n",
    "\n",
    "Buna iki örnek Python'da ön tanımlı\n",
    "olarak varolan True ve False \n",
    "ifadeleridir.\n",
    "\n",
    "```python\n",
    ">>> type(True)\n",
    "<class 'bool'> \n",
    "```"
   ]
  },
  {
   "cell_type": "markdown",
   "metadata": {
    "collapsed": false
   },
   "source": [
    "### ARİTMETİK İŞLEMCİLER\n",
    "+, -, *, /, %, **  \n",
    "toplama, çıkarma, çarpma, bölme, mod, kuvvet  \n",
    "\n",
    "<b>işlem önceliği: </b>\n",
    "\n",
    "- \\* ve / işlemcileri +,- işlemcilerinden önceliklidir.\n",
    "\n",
    "- \\*\\* ise \\*,/,+,- şlemcilerinden önceliklidir.\n",
    "\n",
    "- işlem önceliğini parantezler \"()\" kullanarak değiştirebiliriz.\n",
    "\n",
    "```python\n",
    ">>> 2+3/4\n",
    "2.75\n",
    ">>> (2+3)/4\n",
    "1.25\n",
    "```"
   ]
  },
  {
   "cell_type": "markdown",
   "metadata": {
    "collapsed": false
   },
   "source": [
    "### MANTIK İŞLEMCİLERİ:\n",
    "and, or, not  \n",
    "ve, veya, değil\n",
    "\n",
    "ve (and) işlemcisi:\n",
    "```python\n",
    ">>> True and False\n",
    "False\n",
    ">>> True and True\n",
    "True\n",
    ">>> False and True\n",
    "False\n",
    ">>> False and False\n",
    "False\n",
    "```\n",
    "\n",
    "veya (or) işlemcisi:\n",
    "```python\n",
    ">>> True or False\n",
    "True\n",
    ">>> False or True\n",
    "True\n",
    ">>> True or True\n",
    "True\n",
    ">>> False or False\n",
    "False\n",
    "```\n",
    "\n",
    "değilleme (not) işlemcisi:\n",
    "```python\n",
    ">>> not True\n",
    "False\n",
    ">>> not False\n",
    "True\n",
    "```\n",
    "\n",
    "```python\n",
    "A B|A ve B |A veya B | değil A \n",
    "-----------|---------|--------\n",
    "0 0|  0    |    0    |    1\n",
    "0 1|  0    |    1    |    1\n",
    "1 0|  0    |    1    |    0\n",
    "1 1|  1    |    1    |    0\n",
    "\n",
    "0: False (Yanlış)\n",
    "1: True  (Doğru)\n",
    "```"
   ]
  },
  {
   "cell_type": "markdown",
   "metadata": {
    "collapsed": false
   },
   "source": [
    "### Karşılaştırma işlemcileri:\n",
    "\n",
    "-  == &nbsp; eşit midir?\n",
    "- \\>  &nbsp;  büyük müdür?\n",
    "-  <  &nbsp;  küçük müdür?\n",
    "- \\>= &nbsp;  büyük eşit midir?\n",
    "-  <= &nbsp;  küçük eşit midir?\n",
    "-  != &nbsp;  eşit değil midir?\n",
    "\n",
    "```python\n",
    ">>> 5 == 5\n",
    "True\n",
    ">>> 5 > 5\n",
    "False\n",
    ">>> 5 < 5\n",
    "False\n",
    ">>> 5 >= 5\n",
    "True\n",
    ">>> 5 > 5 or 5==5\n",
    "True\n",
    ">>> 5 <= 5\n",
    "True\n",
    ">>> 5 != 5\n",
    "False\n",
    "```\n",
    "\n",
    "\n",
    "tipleri farklı nesnelerin karşılaştırılması\n",
    "```python\n",
    ">>> 5 == '5'\n",
    "False\n",
    ">>> 5 == int('5')\n",
    "True\n",
    ">>> str(5) == '5'\n",
    "True\n",
    "```\n",
    "\n",
    "\n"
   ]
  },
  {
   "cell_type": "markdown",
   "metadata": {
    "collapsed": false
   },
   "source": [
    "### Tip dönüşümleri:\n",
    "Daha önce bahsi geçen tipleri birbirine dönüştürmek mümkündür.\n",
    "\n",
    "reel sayıyı tam sayıya dönüştürme:\n",
    "int() ifadesiyle yapılır.\n",
    "\n",
    "```python\n",
    ">>> int(123.45)\n",
    "123\n",
    ">>> type(int(123.45))\n",
    "<class 'int'>\n",
    "```\n",
    "\n",
    "tam sayıyı reel sayıya dönüştürme:\n",
    "float() ifadesiyle yapılır.\n",
    "\n",
    "```python\n",
    ">>> float(123)\n",
    "123.0\n",
    ">>> type(float(123))\n",
    "<class 'float'>\n",
    "``` \n",
    "\n",
    "string tipini sayıya dönüştürme:\n",
    "int() veya float() kullanılabilir.\n",
    "Yeterki string verisi sayıya \n",
    "dönüştürülebilecek türde olsun.\n",
    "\n",
    "```python\n",
    ">>> type(float(\"3.14159\"))\n",
    "<class 'float'>\n",
    "```\n",
    "\n",
    "sayıya çevrilmesi mümkün olmayan string:\n",
    "```python\n",
    ">>> float(\"mesut\")\n",
    "Traceback (most recent call last):\n",
    "  File \"<stdin>\", line 1, in <module>\n",
    "ValueError: could not convert string to float: 'mesut'\n",
    "```\n",
    "\n",
    "sayısal ifadeleri string'e dönüştürme:\n",
    "str() ifadesiyle gerçekleştirilebilir.\n",
    "\n",
    "```python\n",
    ">>> a = 3.14159\n",
    ">>> b = str(a)\n",
    ">>> a\n",
    "3.14159\n",
    ">>> b\n",
    "'3.14159'\n",
    ">>> type(a)\n",
    "<class 'float'>\n",
    ">>> type(b)\n",
    "<class 'str'>\n",
    "```"
   ]
  },
  {
   "cell_type": "markdown",
   "metadata": {
    "collapsed": false
   },
   "source": [
    "# Python programları ve kullanılan komutların tanımları"
   ]
  },
  {
   "cell_type": "markdown",
   "metadata": {
    "collapsed": false
   },
   "source": [
    "## İki sayıyı toplama"
   ]
  },
  {
   "cell_type": "code",
   "execution_count": 18,
   "metadata": {
    "cocalc": {
     "outputs": {
      "0": {
       "name": "input",
       "opts": {
        "password": false,
        "prompt": "a = ?"
       },
       "output_type": "stream",
       "value": "3"
      },
      "1": {
       "name": "input",
       "opts": {
        "password": false,
        "prompt": "b = ?"
       },
       "output_type": "stream",
       "value": "4"
      }
     }
    },
    "collapsed": false
   },
   "outputs": [
    {
     "name": "stdout",
     "output_type": "stream",
     "text": "a = ? 3"
    },
    {
     "name": "stdout",
     "output_type": "stream",
     "text": "b = ? 4"
    },
    {
     "name": "stdout",
     "output_type": "stream",
     "text": [
      "7.0\n"
     ]
    }
   ],
   "source": [
    "a = float(input('a = ?'))\n",
    "b = float(input('b = ?'))\n",
    "\n",
    "Toplam = a + b\n",
    "\n",
    "print(Toplam)"
   ]
  },
  {
   "cell_type": "code",
   "execution_count": 20,
   "metadata": {
    "cocalc": {
     "outputs": {
      "0": {
       "name": "input",
       "opts": {
        "password": false,
        "prompt": "a = ?"
       },
       "output_type": "stream",
       "value": "12"
      },
      "1": {
       "name": "input",
       "opts": {
        "password": false,
        "prompt": "b = ?"
       },
       "output_type": "stream",
       "value": "34"
      }
     }
    },
    "collapsed": false
   },
   "outputs": [
    {
     "name": "stdout",
     "output_type": "stream",
     "text": "a = ? 12"
    },
    {
     "name": "stdout",
     "output_type": "stream",
     "text": "b = ? 34"
    },
    {
     "name": "stdout",
     "output_type": "stream",
     "text": [
      "46.0\n"
     ]
    }
   ],
   "source": [
    "a = input('a = ?')\n",
    "b = input('b = ?')\n",
    "\n",
    "af = float(a)\n",
    "bf = float(b)\n",
    "\n",
    "Toplam = af + bf\n",
    "\n",
    "print(Toplam)"
   ]
  },
  {
   "cell_type": "markdown",
   "metadata": {
    "collapsed": false
   },
   "source": [
    "Bu program da print, input ve float Python komutları kullanılmıştır.  \n",
    "\n",
    "#### input: \n",
    "kullanıcıdan veri almak için kullanılır. \n",
    "\n",
    "kullanımı:  \n",
    "```python\n",
    "a = input('veri = ?')\n",
    "```\n",
    "\n",
    "kullanıcıdan alınan veri a değişkenine string \n",
    "tipi bir veri olarak aktarılır."
   ]
  },
  {
   "cell_type": "code",
   "execution_count": 6,
   "metadata": {
    "cocalc": {
     "outputs": {
      "0": {
       "name": "input",
       "opts": {
        "password": false,
        "prompt": "veri = ?"
       },
       "output_type": "stream",
       "value": "3.14159"
      }
     }
    },
    "collapsed": false
   },
   "outputs": [
    {
     "name": "stdout",
     "output_type": "stream",
     "text": "veri = ? 3.14159"
    },
    {
     "data": {
      "text/plain": [
       "str"
      ]
     },
     "execution_count": 6,
     "metadata": {
     },
     "output_type": "execute_result"
    }
   ],
   "source": [
    "a = input('veri = ?')\n",
    "type(a)"
   ]
  },
  {
   "cell_type": "markdown",
   "metadata": {
    "collapsed": false
   },
   "source": [
    "#### print: \n",
    "verilerin ekrana yazılmasını sağlar.\n",
    "\n",
    "kullanımları:"
   ]
  },
  {
   "cell_type": "code",
   "execution_count": 7,
   "metadata": {
    "collapsed": false
   },
   "outputs": [
    {
     "name": "stdout",
     "output_type": "stream",
     "text": [
      "Mesut\n"
     ]
    }
   ],
   "source": [
    "print(\"Mesut\")"
   ]
  },
  {
   "cell_type": "code",
   "execution_count": 8,
   "metadata": {
    "collapsed": false
   },
   "outputs": [
    {
     "name": "stdout",
     "output_type": "stream",
     "text": [
      "Mesut\n"
     ]
    }
   ],
   "source": [
    "ad = \"Mesut\"\n",
    "print(ad)"
   ]
  },
  {
   "cell_type": "markdown",
   "metadata": {
    "collapsed": false
   },
   "source": [
    "#### format metodu\n",
    "format string tipi verilerin düzenlenmesini sağlar.\n",
    "\n",
    "https://pyformat.info/"
   ]
  },
  {
   "cell_type": "code",
   "execution_count": 15,
   "metadata": {
    "collapsed": false
   },
   "outputs": [
    {
     "name": "stdout",
     "output_type": "stream",
     "text": [
      "50 m^2\n"
     ]
    }
   ],
   "source": [
    "alan = 50 #m^2\n",
    "print(\"{} m^2\".format(alan))"
   ]
  },
  {
   "cell_type": "code",
   "execution_count": 16,
   "metadata": {
    "collapsed": false
   },
   "outputs": [
    {
     "name": "stdout",
     "output_type": "stream",
     "text": [
      "3.14 m^2\n"
     ]
    }
   ],
   "source": [
    "pi = 3.14159265 #m^2\n",
    "print(\"{:.2f} m^2\".format(pi))"
   ]
  },
  {
   "cell_type": "markdown",
   "metadata": {
    "collapsed": false
   },
   "source": [
    "## Büyük olan sayıyı bulan program"
   ]
  },
  {
   "cell_type": "code",
   "execution_count": 5,
   "metadata": {
    "cocalc": {
     "outputs": {
      "0": {
       "name": "input",
       "opts": {
        "password": false,
        "prompt": "a = ?"
       },
       "output_type": "stream",
       "value": "6"
      },
      "1": {
       "name": "input",
       "opts": {
        "password": false,
        "prompt": "b = ?"
       },
       "output_type": "stream",
       "value": "4"
      }
     }
    },
    "collapsed": false
   },
   "outputs": [
    {
     "name": "stdout",
     "output_type": "stream",
     "text": "a = ? 6"
    },
    {
     "name": "stdout",
     "output_type": "stream",
     "text": "b = ? 4"
    },
    {
     "name": "stdout",
     "output_type": "stream",
     "text": [
      "6.0\n"
     ]
    }
   ],
   "source": [
    "a = float(input('a = ?'))\n",
    "b = float(input('b = ?'))\n",
    "\n",
    "if a>b:\n",
    "    buyuk = a\n",
    "else:\n",
    "    buyuk = b\n",
    "\n",
    "print(buyuk)"
   ]
  },
  {
   "cell_type": "markdown",
   "metadata": {
    "collapsed": false
   },
   "source": [
    "## if ... then ... else ...\n",
    "bir programdaki verilerin karşılaştırılmasına imkan verir ve  \n",
    "bu sayede programın takip edecepi yol belirlenir.  \n",
    "Burada \"if\" kelimesinin türkçe karşılığı \"eğer\",\n",
    "\"else\" kelimesinin karşılığı da \"değilse\" dir."
   ]
  },
  {
   "cell_type": "markdown",
   "metadata": {
    "collapsed": false
   },
   "source": [
    "## Python'da blok yapısı\n",
    "\n",
    "```\n",
    "Blok:\n",
    "#234 açıklama\n",
    "    komut 1\n",
    "    komut 2\n",
    "komut 3\n",
    "```\n",
    "\n",
    "Yukarıdaki gösterimdeki \"Blok\" yerine if, while, for, try vb. komutlar  \n",
    "gelebilir. Bunlar blok yapısına sahip komutlardır. Yukarıdaki gösterimde  \n",
    "komut 1 ve komut 2 \"Blok:\"'a aittir. komut 3 \"Blok:\"'tan bağımsızdır.  "
   ]
  },
  {
   "cell_type": "markdown",
   "metadata": {
    "collapsed": false
   },
   "source": [
    "## While döngüsü ile 1'den 10'a sayan program"
   ]
  },
  {
   "cell_type": "code",
   "execution_count": 6,
   "metadata": {
    "collapsed": false
   },
   "outputs": [
    {
     "name": "stdout",
     "output_type": "stream",
     "text": [
      "1\n",
      "2\n",
      "3\n",
      "4\n",
      "5\n",
      "6\n",
      "7\n",
      "8\n",
      "9\n",
      "10\n"
     ]
    }
   ],
   "source": [
    "i=0\n",
    "while i<10:\n",
    "    i = i + 1\n",
    "    print(i)"
   ]
  },
  {
   "cell_type": "markdown",
   "metadata": {
    "collapsed": false
   },
   "source": [
    "#### while\n",
    "\n",
    "Aşağıdaki örnekteki gibi kullanılır. Örnekteki  \n",
    "durumda (şart) doğru olduğu sürece while bloku içindeki  \n",
    "komutları tekrarlayarak gerçekleştirir.\n",
    "\n",
    "kullanımı:\n",
    "```\n",
    "while (şart):\n",
    "    komutlar\n",
    "```\n",
    "\n"
   ]
  },
  {
   "cell_type": "markdown",
   "metadata": {
    "collapsed": false
   },
   "source": [
    "#### Sonsuz döngü"
   ]
  },
  {
   "cell_type": "code",
   "execution_count": 0,
   "metadata": {
    "collapsed": false,
    "scrolled": true
   },
   "outputs": [
   ],
   "source": [
    "while True:\n",
    "    print(\"Sonsuzluk\")"
   ]
  },
  {
   "cell_type": "markdown",
   "metadata": {
    "collapsed": false
   },
   "source": [
    "#### range()\n",
    "\n",
    "bir tam sayılar listesi oluşturur.\n",
    "\n",
    "kullanımı:"
   ]
  },
  {
   "cell_type": "code",
   "execution_count": 7,
   "metadata": {
    "collapsed": false
   },
   "outputs": [
    {
     "data": {
      "text/plain": [
       "range(0, 5)"
      ]
     },
     "execution_count": 7,
     "metadata": {
     },
     "output_type": "execute_result"
    }
   ],
   "source": [
    "# bu haliyle 0'dan 4'e kadar\n",
    "# olan sayıları üretebilir.\n",
    "range?"
   ]
  },
  {
   "cell_type": "code",
   "execution_count": 9,
   "metadata": {
    "collapsed": false
   },
   "outputs": [
    {
     "data": {
      "text/plain": [
       "range(0, 5)"
      ]
     },
     "execution_count": 9,
     "metadata": {
     },
     "output_type": "execute_result"
    }
   ],
   "source": [
    "range(5)"
   ]
  },
  {
   "cell_type": "code",
   "execution_count": 8,
   "metadata": {
    "collapsed": false
   },
   "outputs": [
    {
     "data": {
      "text/plain": [
       "range(0, 5)"
      ]
     },
     "execution_count": 8,
     "metadata": {
     },
     "output_type": "execute_result"
    }
   ],
   "source": [
    "range(0, 5, 1)"
   ]
  },
  {
   "cell_type": "code",
   "execution_count": 7,
   "metadata": {
    "collapsed": false
   },
   "outputs": [
    {
     "data": {
      "text/plain": [
       "[0, 1, 2, 3, 4]"
      ]
     },
     "execution_count": 7,
     "metadata": {
     },
     "output_type": "execute_result"
    }
   ],
   "source": [
    "list(range(5))"
   ]
  },
  {
   "cell_type": "code",
   "execution_count": 8,
   "metadata": {
    "collapsed": false
   },
   "outputs": [
    {
     "data": {
      "text/plain": [
       "[1, 2, 3, 4, 5]"
      ]
     },
     "execution_count": 8,
     "metadata": {
     },
     "output_type": "execute_result"
    }
   ],
   "source": [
    "list(range(1, 6))"
   ]
  },
  {
   "cell_type": "markdown",
   "metadata": {
    "collapsed": false
   },
   "source": [
    "#### for\n",
    "\n",
    "bir döngü komutudur. kendisine verilen liste tipi veriyi  \n",
    "okuyarak döngü oluşturur.\n",
    "\n",
    "kullanımı:"
   ]
  },
  {
   "cell_type": "code",
   "execution_count": 33,
   "metadata": {
    "collapsed": false
   },
   "outputs": [
    {
     "name": "stdout",
     "output_type": "stream",
     "text": [
      "1\n",
      "2\n",
      "3\n",
      "4\n",
      "5\n",
      "6\n",
      "7\n",
      "8\n",
      "9\n",
      "10\n"
     ]
    }
   ],
   "source": [
    "for i in range(1, 11):\n",
    "    print(i)"
   ]
  },
  {
   "cell_type": "code",
   "execution_count": 11,
   "metadata": {
    "collapsed": false
   },
   "outputs": [
    {
     "name": "stdout",
     "output_type": "stream",
     "text": [
      "m\n",
      "e\n",
      "s\n",
      "u\n",
      "t\n"
     ]
    }
   ],
   "source": [
    "for i in \"mesut\":\n",
    "    print(i)"
   ]
  },
  {
   "cell_type": "code",
   "execution_count": 35,
   "metadata": {
    "collapsed": false
   },
   "outputs": [
    {
     "name": "stdout",
     "output_type": "stream",
     "text": [
      "Ankara\n",
      "İzmir\n",
      "Kayseri\n",
      "Samsun\n",
      "Tokat\n"
     ]
    }
   ],
   "source": [
    "for i in [\"Ankara\", \"İzmir\", \"Kayseri\", \"Samsun\", \"Tokat\"]:\n",
    "    print(i)"
   ]
  },
  {
   "cell_type": "code",
   "execution_count": 36,
   "metadata": {
    "collapsed": false
   },
   "outputs": [
    {
     "name": "stdout",
     "output_type": "stream",
     "text": [
      "1 Ankara\n",
      "2 İzmir\n",
      "3 Kayseri\n",
      "4 Samsun\n",
      "5 Tokat\n"
     ]
    }
   ],
   "source": [
    "j = 0\n",
    "for i in [\"Ankara\", \"İzmir\", \"Kayseri\", \"Samsun\", \"Tokat\"]:\n",
    "    j = j + 1\n",
    "    print(j, i)"
   ]
  },
  {
   "cell_type": "markdown",
   "metadata": {
    "collapsed": false
   },
   "source": [
    "#### enumerate\n",
    "\n",
    "for ile beraber kullanıldığında bir listedeki elamanın sıra  \n",
    "numarasını elde etmeyi sağlar."
   ]
  },
  {
   "cell_type": "code",
   "execution_count": 12,
   "metadata": {
    "collapsed": false
   },
   "outputs": [
    {
     "name": "stdout",
     "output_type": "stream",
     "text": [
      "1 Ankara\n",
      "2 İzmir\n",
      "3 Kayseri\n",
      "4 Samsun\n",
      "5 Tokat\n"
     ]
    }
   ],
   "source": [
    "for j, i in enumerate([\"Ankara\", \"İzmir\", \"Kayseri\", \"Samsun\", \"Tokat\"]):\n",
    "    print(j+1, i)"
   ]
  },
  {
   "cell_type": "markdown",
   "metadata": {
    "collapsed": false
   },
   "source": [
    "### len\n",
    "\n",
    "bu komutla liste, string, tuple (demet), dictionary (sözlük) vb. tipteki  \n",
    "nesnelerin uzunluk veya elaman sayısı bilgileri elde edilebilir."
   ]
  },
  {
   "cell_type": "code",
   "execution_count": 13,
   "metadata": {
    "collapsed": false
   },
   "outputs": [
    {
     "data": {
      "text/plain": [
       "5"
      ]
     },
     "execution_count": 13,
     "metadata": {
     },
     "output_type": "execute_result"
    }
   ],
   "source": [
    "sehirler = [\"Ankara\", \"İzmir\", \"Kayseri\", \"Samsun\", \"Tokat\"]\n",
    "len(sehirler)"
   ]
  },
  {
   "cell_type": "code",
   "execution_count": 18,
   "metadata": {
    "collapsed": false
   },
   "outputs": [
    {
     "name": "stdout",
     "output_type": "stream",
     "text": [
      "Ankara\n",
      "6\n"
     ]
    }
   ],
   "source": [
    "print(sehirler[0])\n",
    "print(len(sehirler[0]))"
   ]
  },
  {
   "cell_type": "code",
   "execution_count": 14,
   "metadata": {
    "collapsed": false
   },
   "outputs": [
    {
     "data": {
      "text/plain": [
       "13"
      ]
     },
     "execution_count": 14,
     "metadata": {
     },
     "output_type": "execute_result"
    }
   ],
   "source": [
    "len(\"Mesut Karakoç\")"
   ]
  },
  {
   "cell_type": "code",
   "execution_count": 15,
   "metadata": {
    "collapsed": false
   },
   "outputs": [
    {
     "data": {
      "text/plain": [
       "'Mesut Karakoç'"
      ]
     },
     "execution_count": 15,
     "metadata": {
     },
     "output_type": "execute_result"
    }
   ],
   "source": [
    "\"Mesut Karakoç\""
   ]
  },
  {
   "cell_type": "code",
   "execution_count": 0,
   "metadata": {
    "collapsed": false
   },
   "outputs": [
   ],
   "source": [
   ]
  },
  {
   "cell_type": "markdown",
   "metadata": {
    "collapsed": false
   },
   "source": [
    "### Oyuncunun tuttuğu sayıyı bulabilen program"
   ]
  },
  {
   "cell_type": "code",
   "execution_count": 35,
   "metadata": {
    "cocalc": {
     "outputs": {
      "1": {
       "name": "input",
       "opts": {
        "password": false,
        "prompt": ""
       },
       "output_type": "stream",
       "value": "k"
      },
      "11": {
       "name": "input",
       "opts": {
        "password": false,
        "prompt": ""
       },
       "output_type": "stream",
       "value": "k"
      },
      "13": {
       "name": "input",
       "opts": {
        "password": false,
        "prompt": ""
       },
       "output_type": "stream",
       "value": "k"
      },
      "15": {
       "name": "input",
       "opts": {
        "password": false,
        "prompt": ""
       },
       "output_type": "stream",
       "value": "k"
      },
      "17": {
       "name": "input",
       "opts": {
        "password": false,
        "prompt": ""
       },
       "output_type": "stream",
       "value": "k"
      },
      "18": {
       "name": "input",
       "opts": {
        "password": false,
        "prompt": ""
       },
       "output_type": "stream"
      },
      "21": {
       "name": "input",
       "opts": {
        "password": false,
        "prompt": ""
       },
       "output_type": "stream",
       "value": "k"
      },
      "3": {
       "name": "input",
       "opts": {
        "password": false,
        "prompt": ""
       },
       "output_type": "stream",
       "value": "k"
      },
      "5": {
       "name": "input",
       "opts": {
        "password": false,
        "prompt": ""
       },
       "output_type": "stream",
       "value": "k"
      },
      "7": {
       "name": "input",
       "opts": {
        "password": false,
        "prompt": ""
       },
       "output_type": "stream",
       "value": "k"
      },
      "9": {
       "name": "input",
       "opts": {
        "password": false,
        "prompt": ""
       },
       "output_type": "stream",
       "value": "k"
      }
     }
    },
    "collapsed": false
   },
   "outputs": [
    {
     "name": "stdout",
     "output_type": "stream",
     "text": [
      "[1, 100] arasındaki tuttuğun herhangi bir tam sayıyı       11 defa da bulabilirim.\n",
      "1. deneme\n",
      "Tuttuğun sayı 50 mi?\n"
     ]
    },
    {
     "name": "stdout",
     "output_type": "stream",
     "text": " k"
    },
    {
     "name": "stdout",
     "output_type": "stream",
     "text": [
      "2. deneme\n",
      "Tuttuğun sayı 26 mi?\n"
     ]
    },
    {
     "name": "stdout",
     "output_type": "stream",
     "text": " k"
    },
    {
     "name": "stdout",
     "output_type": "stream",
     "text": [
      "3. deneme\n",
      "Tuttuğun sayı 14 mi?\n"
     ]
    },
    {
     "name": "stdout",
     "output_type": "stream",
     "text": " k"
    },
    {
     "name": "stdout",
     "output_type": "stream",
     "text": [
      "4. deneme\n",
      "Tuttuğun sayı 8 mi?\n"
     ]
    },
    {
     "name": "stdout",
     "output_type": "stream",
     "text": " k"
    },
    {
     "name": "stdout",
     "output_type": "stream",
     "text": [
      "5. deneme\n",
      "Tuttuğun sayı 4 mi?\n"
     ]
    },
    {
     "name": "stdout",
     "output_type": "stream",
     "text": " k"
    },
    {
     "name": "stdout",
     "output_type": "stream",
     "text": [
      "6. deneme\n",
      "Tuttuğun sayı 2 mi?\n"
     ]
    },
    {
     "name": "stdout",
     "output_type": "stream",
     "text": " k"
    },
    {
     "name": "stdout",
     "output_type": "stream",
     "text": [
      "7. deneme\n",
      "Tuttuğun sayı 2 mi?\n"
     ]
    },
    {
     "name": "stdout",
     "output_type": "stream",
     "text": " k"
    },
    {
     "name": "stdout",
     "output_type": "stream",
     "text": [
      "8. deneme\n",
      "Tuttuğun sayı 2 mi?\n"
     ]
    },
    {
     "name": "stdout",
     "output_type": "stream",
     "text": " k"
    },
    {
     "name": "stdout",
     "output_type": "stream",
     "text": [
      "9. deneme\n",
      "Tuttuğun sayı 2 mi?\n"
     ]
    },
    {
     "name": "stdout",
     "output_type": "stream",
     "text": " k"
    },
    {
     "name": "stdout",
     "output_type": "stream",
     "text": " "
    },
    {
     "name": "stdout",
     "output_type": "stream",
     "text": [
      "10. deneme\n",
      "Tuttuğun sayı 2 mi?\n"
     ],
     "value": "k"
    },
    {
     "name": "stdout",
     "output_type": "stream",
     "text": [
      "11. deneme\n",
      "Tuttuğun sayı 2 mi?\n"
     ]
    },
    {
     "name": "stdout",
     "output_type": "stream",
     "text": " k"
    },
    {
     "name": "stdout",
     "output_type": "stream",
     "text": [
      "11 denemede başarısız oldum!\n"
     ]
    }
   ],
   "source": [
    "hak = 11\n",
    "deneme = 0\n",
    "enk = 1\n",
    "enb = 100\n",
    "\n",
    "print(\"[{}, {}] arasındaki tuttuğun herhangi bir tam sayıyı \\\n",
    "      {} defa da bulabilirim.\".format(enk, enb, hak))\n",
    "\n",
    "while deneme<hak:\n",
    "    deneme += 1 # deneme = deneme + 1\n",
    "    print(\"{}. deneme\".format(deneme))\n",
    "    tahmin = round((enk + enb)/2)\n",
    "    print(\"Tuttuğun sayı {} mi?\".format(tahmin))\n",
    "    buldummu = input()\n",
    "    if buldummu.upper() == 'E': # Evet buldun\n",
    "        print(\"Aferin bana\")\n",
    "        break\n",
    "    elif buldummu.upper() == 'B': # Tahmin ettiğim sayı daha büyük\n",
    "        enk = tahmin\n",
    "    elif buldummu.upper() == 'K': # Tahmin ettiğim sayı daha küçük\n",
    "        enb = tahmin\n",
    "    else:\n",
    "        print('Lütfen anlamlı bir cevap ver? (E/B/K)')\n",
    "\n",
    "if deneme == hak and buldummu.upper() != 'E':\n",
    "    print(\"{} denemede başarısız oldum!\".format(deneme))"
   ]
  },
  {
   "cell_type": "markdown",
   "metadata": {
    "collapsed": false
   },
   "source": [
    "#### Yukarıdaki uygulamada öğrendiğimiz yeni metod ve komutlar:"
   ]
  },
  {
   "cell_type": "markdown",
   "metadata": {
    "collapsed": false
   },
   "source": [
    "#### break\n",
    "\n",
    "for veya while döngülerinden döngü bitmeden çıkmak için kullanılır.\n",
    "\n",
    "#### upper (metodu)\n",
    "aşağıdaki örnekteki gibi harflerin küçük harften büyük harfe dönüştürülmesini sağlar.\n",
    "```\n",
    "\"mesut\".upper()\n",
    "MESUT\n",
    "```\n",
    "\n",
    "#### lower (metodu)\n",
    "aşağıdaki örnekteki gibi harflerin büyük harften küçük harfe dönüştürülmesini sağlar.\n",
    "```\n",
    "\"MESUT\".lower()\n",
    "mesut\n",
    "```"
   ]
  },
  {
   "cell_type": "markdown",
   "metadata": {
    "collapsed": false
   },
   "source": [
    "#### help\n",
    "\n",
    "Python ifadeleri hakkında bilgi edinmeyi sağlar.\n",
    "\n",
    "\n",
    "#### (Python ifadesi)?\n",
    "\n",
    "Help'e benzer şekilde Python ifadeleri veya çağrıldıysa  \n",
    "bir kütüphaneye ait ifade hakkında bilgi edinmeyi sağlar.\n",
    "\n",
    "Bu kullanım Jupyter Notebook için geçerlidir."
   ]
  },
  {
   "cell_type": "code",
   "execution_count": 26,
   "metadata": {
    "collapsed": false
   },
   "outputs": [
    {
     "name": "stdout",
     "output_type": "stream",
     "text": [
      "Help on built-in function print in module builtins:\n",
      "\n",
      "print(...)\n",
      "    print(value, ..., sep=' ', end='\\n', file=sys.stdout, flush=False)\n",
      "    \n",
      "    Prints the values to a stream, or to sys.stdout by default.\n",
      "    Optional keyword arguments:\n",
      "    file:  a file-like object (stream); defaults to the current sys.stdout.\n",
      "    sep:   string inserted between values, default a space.\n",
      "    end:   string appended after the last value, default a newline.\n",
      "    flush: whether to forcibly flush the stream.\n",
      "\n"
     ]
    }
   ],
   "source": [
    "help('print')"
   ]
  },
  {
   "cell_type": "code",
   "execution_count": 0,
   "metadata": {
    "collapsed": false
   },
   "outputs": [
   ],
   "source": [
    "print?"
   ]
  },
  {
   "cell_type": "markdown",
   "metadata": {
    "collapsed": false
   },
   "source": [
    "### Asal sayıları hesaplayan bir program "
   ]
  },
  {
   "cell_type": "code",
   "execution_count": 10,
   "metadata": {
    "collapsed": false
   },
   "outputs": [
    {
     "name": "stdout",
     "output_type": "stream",
     "text": [
      "n= 2\n",
      "n= 3\n",
      "n= 5\n",
      "n= 7\n",
      "n= 11\n",
      "n= 13\n",
      "n= 17\n",
      "n= 19\n",
      "n= 23\n",
      "n= 29\n",
      "n= 31\n",
      "n= 37\n",
      "n= 41\n",
      "n= 43\n",
      "n= 47\n",
      "n= 53\n",
      "n= 59\n",
      "n= 61\n",
      "n= 67\n",
      "n= 71\n",
      "n= 73\n",
      "n= 79\n",
      "n= 83\n",
      "n= 89\n",
      "n= 97\n"
     ]
    }
   ],
   "source": [
    "n=1\n",
    "while n<100:\n",
    "    n += 1\n",
    "    asal = True\n",
    "    m = 1\n",
    "    while m<n-1:\n",
    "        m += 1\n",
    "        #print(\"m=\",m)\n",
    "        if n % m == 0:\n",
    "            asal = False\n",
    "            break\n",
    "    if asal == True:\n",
    "        print(\"n=\", n)"
   ]
  },
  {
   "cell_type": "markdown",
   "metadata": {
    "collapsed": false
   },
   "source": [
    "### 1000 tam sayısından önce kaç asal sayı var"
   ]
  },
  {
   "cell_type": "code",
   "execution_count": 24,
   "metadata": {
    "collapsed": false
   },
   "outputs": [
    {
     "name": "stdout",
     "output_type": "stream",
     "text": [
      "1000 sayısına kadar toplam 168 tane asal sayı vardır.\n"
     ]
    }
   ],
   "source": [
    "n=1\n",
    "t = 1\n",
    "while n<1000:\n",
    "    n += 2\n",
    "    asal = True\n",
    "    m = 1\n",
    "    while m<n-2:\n",
    "        m += 2\n",
    "        #print(\"m=\",m)\n",
    "        if n % m == 0:\n",
    "            asal = False\n",
    "            break\n",
    "    if asal == True:\n",
    "        t += 1\n",
    "        #print(\"n=\", n)\n",
    "\n",
    "print(\"{} sayısına kadar toplam {} tane asal sayı vardır.\".format(n-1, t))"
   ]
  },
  {
   "cell_type": "markdown",
   "metadata": {
    "collapsed": false
   },
   "source": [
    "### Sayı tahmin etme oyunu"
   ]
  },
  {
   "cell_type": "code",
   "execution_count": 17,
   "metadata": {
    "cocalc": {
     "outputs": {
      "1": {
       "name": "input",
       "opts": {
        "password": false,
        "prompt": "Tahminin nedir?"
       },
       "output_type": "stream",
       "value": "35"
      }
     }
    },
    "collapsed": false
   },
   "outputs": [
    {
     "name": "stdout",
     "output_type": "stream",
     "text": [
      "[1, 100] aralığındaki tuttuğum bir rastgele\n",
      "tam sayıyı bulmak için 7 hakkın var.\n",
      "1. hakkın\n"
     ]
    },
    {
     "name": "stdout",
     "output_type": "stream",
     "text": "Tahminin nedir? 35"
    },
    {
     "name": "stdout",
     "output_type": "stream",
     "text": [
      "1. denemede buldun. Tebrikler!\n"
     ]
    }
   ],
   "source": [
    "hak = 7\n",
    "rastgele = 35\n",
    "\n",
    "print (\"[1, 100] aralığındaki tuttuğum bir rastgele\")\n",
    "print (\"tam sayıyı bulmak için {} hakkın var.\".format(hak))\n",
    "\n",
    "Bildinmi = False\n",
    "i = 0\n",
    "while i<hak and not Bildinmi:\n",
    "    i += 1\n",
    "    print(\"{}. hakkın\".format(i))\n",
    "    cevap = int(input('Tahminin nedir?'))\n",
    "    if cevap == rastgele:\n",
    "        print(\"{}. denemede buldun. Tebrikler!\".format(i))\n",
    "        Bildinmi = True\n",
    "    elif cevap>rastgele:\n",
    "        print(\"Tahminini küçült!\")\n",
    "    else:\n",
    "        print(\"Tahminini büyült!\")\n",
    "\n",
    "if Bildinmi == False:\n",
    "    print(\"Çok çalışman lazım!\")"
   ]
  },
  {
   "cell_type": "markdown",
   "metadata": {
    "collapsed": false
   },
   "source": [
    "### Sayı tahmin etme oyunu (rastegele sayı eklendi)"
   ]
  },
  {
   "cell_type": "code",
   "execution_count": 28,
   "metadata": {
    "cocalc": {
     "outputs": {
      "1": {
       "name": "input",
       "opts": {
        "password": false,
        "prompt": "Tahminin nedir?"
       },
       "output_type": "stream",
       "value": "50"
      },
      "11": {
       "name": "input",
       "opts": {
        "password": false,
        "prompt": "Tahminin nedir?"
       },
       "output_type": "stream",
       "value": "52"
      },
      "13": {
       "name": "input",
       "opts": {
        "password": false,
        "prompt": "Tahminin nedir?"
       },
       "output_type": "stream",
       "value": "51"
      },
      "3": {
       "name": "input",
       "opts": {
        "password": false,
        "prompt": "Tahminin nedir?"
       },
       "output_type": "stream",
       "value": "75"
      },
      "5": {
       "name": "input",
       "opts": {
        "password": false,
        "prompt": "Tahminin nedir?"
       },
       "output_type": "stream",
       "value": "62"
      },
      "7": {
       "name": "input",
       "opts": {
        "password": false,
        "prompt": "Tahminin nedir?"
       },
       "output_type": "stream",
       "value": "56"
      },
      "9": {
       "name": "input",
       "opts": {
        "password": false,
        "prompt": "Tahminin nedir?"
       },
       "output_type": "stream",
       "value": "53"
      }
     }
    },
    "collapsed": false
   },
   "outputs": [
    {
     "name": "stdout",
     "output_type": "stream",
     "text": [
      "[1, 100] aralığındaki tuttuğum bir rastgele\n",
      "tam sayıyı bulmak için 7 hakkın var.\n",
      "1. hakkın\n"
     ]
    },
    {
     "name": "stdout",
     "output_type": "stream",
     "text": "Tahminin nedir? 50"
    },
    {
     "name": "stdout",
     "output_type": "stream",
     "text": [
      "Tahminini büyült!\n",
      "2. hakkın\n"
     ]
    },
    {
     "name": "stdout",
     "output_type": "stream",
     "text": "Tahminin nedir? 75"
    },
    {
     "name": "stdout",
     "output_type": "stream",
     "text": [
      "Tahminini küçült!\n",
      "3. hakkın\n"
     ]
    },
    {
     "name": "stdout",
     "output_type": "stream",
     "text": "Tahminin nedir? 62"
    },
    {
     "name": "stdout",
     "output_type": "stream",
     "text": [
      "Tahminini küçült!\n",
      "4. hakkın\n"
     ]
    },
    {
     "name": "stdout",
     "output_type": "stream",
     "text": "Tahminin nedir? 56"
    },
    {
     "name": "stdout",
     "output_type": "stream",
     "text": [
      "Tahminini küçült!\n",
      "5. hakkın\n"
     ]
    },
    {
     "name": "stdout",
     "output_type": "stream",
     "text": "Tahminin nedir? 53"
    },
    {
     "name": "stdout",
     "output_type": "stream",
     "text": [
      "Tahminini küçült!\n",
      "6. hakkın\n"
     ]
    },
    {
     "name": "stdout",
     "output_type": "stream",
     "text": "Tahminin nedir? 52"
    },
    {
     "name": "stdout",
     "output_type": "stream",
     "text": [
      "Tahminini küçült!\n",
      "7. hakkın\n"
     ]
    },
    {
     "name": "stdout",
     "output_type": "stream",
     "text": "Tahminin nedir? 51"
    },
    {
     "name": "stdout",
     "output_type": "stream",
     "text": [
      "7. denemede buldun. Tebrikler!\n"
     ]
    }
   ],
   "source": [
    "from random import randint\n",
    "\n",
    "hak = 7\n",
    "rastgele = randint(1, 100)\n",
    "\n",
    "print (\"[1, 100] aralığındaki tuttuğum bir rastgele\")\n",
    "print (\"tam sayıyı bulmak için {} hakkın var.\".format(hak))\n",
    "\n",
    "Bildinmi = False\n",
    "i = 0\n",
    "while i<hak and not Bildinmi:\n",
    "    i += 1\n",
    "    print(\"{}. hakkın\".format(i))\n",
    "    cevap = int(input('Tahminin nedir?'))\n",
    "    if cevap == rastgele:\n",
    "        print(\"{}. denemede buldun. Tebrikler!\".format(i))\n",
    "        Bildinmi = True\n",
    "    elif cevap>rastgele:\n",
    "        print(\"Tahminini küçült!\")\n",
    "    else:\n",
    "        print(\"Tahminini büyült!\")\n",
    "\n",
    "if Bildinmi == False:\n",
    "    print(\"Çok çalışman lazım!\")"
   ]
  },
  {
   "cell_type": "code",
   "execution_count": 0,
   "metadata": {
    "collapsed": false
   },
   "outputs": [
   ],
   "source": [
   ]
  }
 ],
 "metadata": {
  "kernelspec": {
   "display_name": "Python 3 (system-wide)",
   "language": "python",
   "metadata": {
    "cocalc": {
     "description": "Python 3 programming language",
     "priority": 100,
     "url": "https://www.python.org/"
    }
   },
   "name": "python3"
  },
  "language_info": {
   "codemirror_mode": {
    "name": "ipython",
    "version": 3
   },
   "file_extension": ".py",
   "mimetype": "text/x-python",
   "name": "python",
   "nbconvert_exporter": "python",
   "pygments_lexer": "ipython3",
   "version": "3.6.9"
  }
 },
 "nbformat": 4,
 "nbformat_minor": 0
}